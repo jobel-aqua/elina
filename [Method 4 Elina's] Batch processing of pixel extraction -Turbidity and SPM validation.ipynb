{
 "cells": [
  {
   "cell_type": "markdown",
   "metadata": {},
   "source": [
    "# Batch processing of pixel extraction."
   ]
  },
  {
   "cell_type": "markdown",
   "metadata": {},
   "source": [
    "## NOTE: Remember to enable the following line in the *beam.config* file by removing the hash.\n",
    "\n",
    "    beam.envisat.usePixelGeoCoding = true   \n"
   ]
  },
  {
   "cell_type": "code",
   "execution_count": 1,
   "metadata": {
    "collapsed": false
   },
   "outputs": [],
   "source": [
    "__credits__ = [\"José M. Beltrán\"]\n",
    "__license__ = \"GPL-3.0\"\n",
    "__created_on__ = [\"2012-05-02\"]\n",
    "__modified_on__ = { \"2014-12-09\": [\"Updated workflow by using which_megs_l2_flags_NetCDF function\"]\n",
    "                    \"2014-10-22\": [\"Added Turbidity_Nechad_620\"]\n",
    "                    \"2014-10-16\": [\"Batch process targeting Turbidity\"], \n",
    "                    \"2013-10-22\": [\"New GPT graph. The BEAM VISAT version 4.11 does not include anymore the inputPaths whithin the graph it has changed to: &lt;sourceProductPaths&gt;\"], \n",
    "                    \"2013-10-17\": [\"reintroduced for Selima and Evgeny: - xml_skeleton,- the get_fub_srcList \"], \n",
    "                    \"2012-06-18\": [\"xml_skeletons were replaced by gpt_skeletons\", \"introduced common.get_fub_srcList(srcDir) function\", \"introduced get_pins_srcList\"]}"
   ]
  },
  {
   "cell_type": "markdown",
   "metadata": {},
   "source": [
    "__accompanying_paper__ : [\"Kari et al Turbidity\"]"
   ]
  },
  {
   "cell_type": "markdown",
   "metadata": {},
   "source": [
    "__preceding_notebooks__ : [\"create_placemarks_using_centroids\", \"pixel_extraction_centroids_MEGS-reflec_06\",\"building_insitu_mongoDB\"]\n",
    "__anticipate_notebooks __ : [[Method 4 Elina's] Turbidity and SPM validation-Validation_SPM_with_Matchups]"
   ]
  },
  {
   "cell_type": "code",
   "execution_count": 1,
   "metadata": {
    "collapsed": false
   },
   "outputs": [],
   "source": [
    "import sys\n",
    "import os.path\n",
    "from sys import argv, exit\n",
    "# Using the MathJax library to display the Latex.\n",
    "from IPython.display import Math\n",
    "#from time import localtime, strftime"
   ]
  },
  {
   "cell_type": "code",
   "execution_count": 2,
   "metadata": {
    "collapsed": false
   },
   "outputs": [
    {
     "name": "stdout",
     "output_type": "stream",
     "text": [
      "(436, 'dates available')\n"
     ]
    }
   ],
   "source": [
    "from files.regex_filename import get_MERIS_date_string_from_filename\n",
    "## Looking for the source MEGS files N1\n",
    "processor = \"MEGS\"\n",
    "srcDir = \"/media/jobel/SeagateDrive/eodata2014/level2/\"+processor+\"/\"\n",
    "srcDates = {}\n",
    "# Adding recursive walk for directories\n",
    "for dirpath, dirnames, files in os.walk(srcDir):\n",
    "    for file in files:  # files is a list of files in the current directory\n",
    "        if file.startswith('MER_') and file.endswith(\".nc\"):  #\".N1\"\n",
    "            currentFilepath = dirpath\n",
    "            date_string = get_MERIS_date_string_from_filename(file)\n",
    "            srcDates[date_string] = {\"filepath\":os.path.join(currentFilepath, file)}             \n",
    "            \n",
    "sorted(srcDates)\n",
    "print(len(srcDates), \"dates available\")# len(matchups), \" matchups available\")\n"
   ]
  },
  {
   "cell_type": "code",
   "execution_count": 3,
   "metadata": {
    "collapsed": false
   },
   "outputs": [],
   "source": [
    "# Function to get the input pin list\n",
    "def get_pins_dict(srcDir):\n",
    "    # Another MAGIC function that saves a lot of time =)\n",
    "    pin_dict = {}\n",
    "    for dirpath, dirnames, files in os.walk(srcDir):\n",
    "        for file in files:  # files is a list of files in the current directory\n",
    "            if file.startswith('pin_2') and file.endswith(\".placemark\"):\n",
    "                date_string = file[4:12]  # This extract the date from the filename of pins             \n",
    "                currentFilepath = dirpath\n",
    "                pin_dict[date_string] = os.path.join(currentFilepath, file)\n",
    "    return pin_dict"
   ]
  },
  {
   "cell_type": "code",
   "execution_count": 4,
   "metadata": {
    "collapsed": false
   },
   "outputs": [],
   "source": [
    "# Creating the pins_dictionay\n",
    "pinSrcDir = '/home/jobel/Dropbox/ElinasPaper/data_4_elina/pins_from_centroids/'\n",
    "pin_dict = get_pins_dict(pinSrcDir)"
   ]
  },
  {
   "cell_type": "code",
   "execution_count": 5,
   "metadata": {
    "collapsed": false
   },
   "outputs": [],
   "source": [
    "# Create a dictionary that pairs MERIS with pins dates within a time window of 2 days.\n",
    "def time_window_match(meris_date_list, insitu_date_list, delta_days = 2):\n",
    "    # returns a dictinary with MERIS dates as keys and Insitu date as values.\n",
    "    from utils.transform_datetime import matchup_window_date_list_around_date\n",
    "    # Looking for match-ups in a match-up window of 2 days. Note making the window up to 3 days was not useful\n",
    "    insitu_matched_dates = {}    \n",
    "    for date_string in insitu_date_list:\n",
    "        insitu_matched_dates[date_string] = []\n",
    "        if date_string in meris_date_list:\n",
    "            insitu_matched_dates[date_string].append(date_string)\n",
    "        else:\n",
    "            matchup_window_dates = matchup_window_date_list_around_date(date_string, delta_days=2)        \n",
    "            for dm in matchup_window_dates:\n",
    "                if dm in meris_date_list:\n",
    "                    insitu_matched_dates[date_string].append(dm)\n",
    "    #print insitu_matched_dates\n",
    "    # Swaping the dictionary matched_dates and filtering empty dates\n",
    "    meris_matched_dates = dict ( (v[0],k) for k, v in insitu_matched_dates.items() if v != [])\n",
    "    return meris_matched_dates#insitu_matched_dates"
   ]
  },
  {
   "cell_type": "code",
   "execution_count": 6,
   "metadata": {
    "collapsed": false
   },
   "outputs": [
    {
     "data": {
      "text/plain": [
       "{'20100818': '20100817', '20100820': '20100820', '20110715': '20110717'}"
      ]
     },
     "execution_count": 6,
     "metadata": {},
     "output_type": "execute_result"
    }
   ],
   "source": [
    "meris_date_list = srcDates.keys()\n",
    "insitu_date_list = pin_dict.keys()\n",
    "meris_matched_dates = time_window_match(meris_date_list, insitu_date_list, delta_days = 2)\n",
    "meris_matched_dates"
   ]
  },
  {
   "cell_type": "code",
   "execution_count": 7,
   "metadata": {
    "collapsed": false
   },
   "outputs": [
    {
     "data": {
      "text/plain": [
       "{'20100818': {'MERIS': '/media/jobel/SeagateDrive/eodata2014/level2/MEGS/20100818_092514/output/MER_FSG_2PNMAP20100818_092514_000000392092_00122_44264_0001.nc',\n",
       "  'PIN_FILE': '/home/jobel/Dropbox/ElinasPaper/data_4_elina/pins_from_centroids/pin_20100817_batched.placemark'},\n",
       " '20100820': {'MERIS': '/media/jobel/SeagateDrive/eodata2014/level2/MEGS/20100820_100208/output/MER_FSG_2PNMAP20100820_100208_000000422092_00151_44293_0001.nc',\n",
       "  'PIN_FILE': '/home/jobel/Dropbox/ElinasPaper/data_4_elina/pins_from_centroids/pin_20100820_batched.placemark'},\n",
       " '20110715': {'MERIS': '/media/jobel/SeagateDrive/eodata2014/level2/MEGS/20110715_094413/output/MER_FSG_2PNMAP20110715_094413_000000423104_00295_49016_0001.nc',\n",
       "  'PIN_FILE': '/home/jobel/Dropbox/ElinasPaper/data_4_elina/pins_from_centroids/pin_20110717_batched.placemark'}}"
      ]
     },
     "execution_count": 7,
     "metadata": {},
     "output_type": "execute_result"
    }
   ],
   "source": [
    "# Filtering the available meris files and pin files based on matched_dates.\n",
    "matched_files = {}\n",
    "for date_string in meris_matched_dates.keys():\n",
    "    pin_file = pin_dict[meris_matched_dates[date_string]]\n",
    "    matched_files[date_string] = {'MERIS':srcDates[date_string]['filepath'], 'PIN_FILE':pin_file}\n",
    "    #\n",
    "matched_files"
   ]
  },
  {
   "cell_type": "code",
   "execution_count": 8,
   "metadata": {
    "collapsed": false
   },
   "outputs": [],
   "source": [
    "windowSize=\"3\"\n",
    "\n",
    "current_gpt_graph = '/home/jobel/Dropbox/ElinasPaper/gpt_graph/current_gpt_graph.xml'\n",
    "destDir = '/home/jobel/Dropbox/ElinasPaper/data_4_elina/pixEX_centroids/'+processor +'/'+ windowSize +'x'+windowSize +'/'"
   ]
  },
  {
   "cell_type": "markdown",
   "metadata": {},
   "source": [
    "# Loading the pixel extraction files"
   ]
  },
  {
   "cell_type": "code",
   "execution_count": 9,
   "metadata": {
    "collapsed": false
   },
   "outputs": [
    {
     "data": {
      "text/plain": [
       "['/home/jobel/Dropbox/ElinasPaper/data_4_elina/pixEX_centroids/MEGS/3x3/pixEx_20110715_centroid_3x3_MEGS__CF-1.4_measurements.txt',\n",
       " '/home/jobel/Dropbox/ElinasPaper/data_4_elina/pixEX_centroids/MEGS/3x3/pixEx_20100820_centroid_3x3_MEGS__CF-1.4_measurements.txt',\n",
       " '/home/jobel/Dropbox/ElinasPaper/data_4_elina/pixEX_centroids/MEGS/3x3/pixEx_20100818_centroid_3x3_MEGS__CF-1.4_measurements.txt']"
      ]
     },
     "execution_count": 9,
     "metadata": {},
     "output_type": "execute_result"
    }
   ],
   "source": [
    "import numpy as np\n",
    "import pandas as pd\n",
    "\n",
    "# Creating the available pixel extraction files\n",
    "srcDir = '/home/jobel/Dropbox/ElinasPaper/data_4_elina/pixEX_centroids/'+processor +'/'+ windowSize +'x'+windowSize +'/'\n",
    "pixEx_file_list = []\n",
    "# Adding recursive walk for directories\n",
    "for dirpath, dirnames, files in os.walk(srcDir):\n",
    "    for file in files:  # files is a list of files in the current directory\n",
    "        if file.endswith(\"_measurements.txt\"):\n",
    "            currentFilepath = dirpath\n",
    "            pixEx_file_list.append(os.path.join(currentFilepath, file))   \n",
    "pixEx_file_list\n",
    "            "
   ]
  },
  {
   "cell_type": "code",
   "execution_count": 10,
   "metadata": {
    "collapsed": false
   },
   "outputs": [],
   "source": [
    "from files.regex_filename import get_MERIS_date_string_from_filename\n",
    "# The pixEx files have a 6 head lines in the file that must be removed.\n",
    "head_lines = 6 \n",
    "pix_data = {}\n",
    "\n",
    "for nf,filename in enumerate(pixEx_file_list):\n",
    "    current_file = filename\n",
    "    # Get the date value from the PixEX filename\n",
    "    date_string = get_MERIS_date_string_from_filename(current_file)\n",
    "    with open(current_file, 'r') as fr:\n",
    "        #skipping headlines\n",
    "        for i in xrange(head_lines):\n",
    "            fr.next()\n",
    "        column_headers = fr.next().strip('\\n').split('\\t') # Gets the column headers\n",
    "        column_headers[7:9] = ['Date','Time'] # Changing header names to have only non special characters\n",
    "        # The Date and Time fields are not reliable, therefore we must add our own column with a date_string\n",
    "        column_headers.append(\"meris_date\")\n",
    "        column_headers.append(\"insitu_date\")\n",
    "        pix_data[date_string] = dict([(key,[]) for key in column_headers])        \n",
    "              \n",
    "        for nr,  row_line in enumerate(fr):\n",
    "            for column, value in enumerate(row_line.strip('\\n').split('\\t')):\n",
    "                if column_headers[column] == 'reflectance_06':\n",
    "                    if value != \"\":\n",
    "                        pix_data[date_string][column_headers[column]].append(float(value))\n",
    "                    else:\n",
    "                        pix_data[date_string][column_headers[column]].append(np.nan)\n",
    "                else:\n",
    "                    pix_data[date_string][column_headers[column]].append(value)\n",
    "            # Appending the date_string to keep track of the source file\n",
    "            pix_data[date_string][\"meris_date\"].append(date_string)\n",
    "            # Appending the related insitu_date for match-up\n",
    "            pix_data[date_string][\"insitu_date\"].append(meris_matched_dates[date_string])\n",
    "        \n"
   ]
  },
  {
   "cell_type": "code",
   "execution_count": 11,
   "metadata": {
    "collapsed": false
   },
   "outputs": [
    {
     "data": {
      "text/html": [
       "<div style=\"max-height:1000px;max-width:1500px;overflow:auto;\">\n",
       "<table border=\"1\" class=\"dataframe\">\n",
       "  <thead>\n",
       "    <tr style=\"text-align: right;\">\n",
       "      <th></th>\n",
       "      <th>meris_date</th>\n",
       "      <th>insitu_date</th>\n",
       "      <th>Name</th>\n",
       "      <th>CoordID</th>\n",
       "      <th>l2_flags</th>\n",
       "      <th>nrrs_06</th>\n",
       "      <th>reflectance_06</th>\n",
       "    </tr>\n",
       "  </thead>\n",
       "  <tbody>\n",
       "    <tr>\n",
       "      <th>0</th>\n",
       "      <td> 20110715</td>\n",
       "      <td> 20110717</td>\n",
       "      <td> S126</td>\n",
       "      <td> 1</td>\n",
       "      <td>  3621904</td>\n",
       "      <td>  -0.01568703167140484</td>\n",
       "      <td>-0.048585</td>\n",
       "    </tr>\n",
       "    <tr>\n",
       "      <th>1</th>\n",
       "      <td> 20110715</td>\n",
       "      <td> 20110717</td>\n",
       "      <td> S126</td>\n",
       "      <td> 1</td>\n",
       "      <td>  3621904</td>\n",
       "      <td> -0.007852844893932343</td>\n",
       "      <td>-0.024580</td>\n",
       "    </tr>\n",
       "    <tr>\n",
       "      <th>2</th>\n",
       "      <td> 20110715</td>\n",
       "      <td> 20110717</td>\n",
       "      <td> S126</td>\n",
       "      <td> 1</td>\n",
       "      <td> 10469376</td>\n",
       "      <td>                      </td>\n",
       "      <td>      NaN</td>\n",
       "    </tr>\n",
       "  </tbody>\n",
       "</table>\n",
       "</div>"
      ],
      "text/plain": [
       "  meris_date insitu_date  Name CoordID  l2_flags                nrrs_06  \\\n",
       "0   20110715    20110717  S126       1   3621904   -0.01568703167140484   \n",
       "1   20110715    20110717  S126       1   3621904  -0.007852844893932343   \n",
       "2   20110715    20110717  S126       1  10469376                          \n",
       "\n",
       "   reflectance_06  \n",
       "0       -0.048585  \n",
       "1       -0.024580  \n",
       "2             NaN  "
      ]
     },
     "execution_count": 11,
     "metadata": {},
     "output_type": "execute_result"
    }
   ],
   "source": [
    "# Joining the tables\n",
    "# Merging the dictionaries as panda dataframes\n",
    "# Using MEGS the reflectance_06 value is for Case-1 waters. The bands \"nrrs_06\", \"c2r_RLw_06\" comes from the intermediate products\n",
    "# of the Case-2 branch, and those were u\n",
    "keep_columns = [\"meris_date\",\"insitu_date\",\"Name\",\"CoordID\",'l2_flags',\"nrrs_06\", \"reflectance_06\"]\n",
    "#keep_columns = [\"meris_date\",\"insitu_date\",\"Name\",\"CoordID\",'result_flags','l1p_flags','total_susp', 'pins']\n",
    "\n",
    "dataHolder = pd.DataFrame(columns=[keep_columns])\n",
    "for key in pix_data.keys():\n",
    "    dataHolder = pd.merge(dataHolder, pd.DataFrame(pix_data[key])[keep_columns],how='outer' )\n",
    "\n",
    "# releasing memory\n",
    "pix_data = None\n",
    "#\n",
    "dataHolder[:3] # showing only the first three elements"
   ]
  },
  {
   "cell_type": "markdown",
   "metadata": {},
   "source": [
    "### Calculating rho_w from Rrs"
   ]
  },
  {
   "cell_type": "code",
   "execution_count": 12,
   "metadata": {
    "collapsed": false
   },
   "outputs": [],
   "source": [
    "# Used to get a binary representation of the flags\n",
    "def flag_as_binary(l2_flags):\n",
    "    return bin(int(l2_flags))[2:]"
   ]
  },
  {
   "cell_type": "code",
   "execution_count": 13,
   "metadata": {
    "collapsed": false
   },
   "outputs": [],
   "source": [
    "def rho_w(Rrs):\n",
    "    return Rrs*np.pi"
   ]
  },
  {
   "cell_type": "markdown",
   "metadata": {},
   "source": [
    "The $R_{rs}$ is related to $\\rho_w (\\lambda)$ by:\n",
    "\n",
    "$\\rho_w (\\lambda) = \\pi R_{rs}$\n",
    "\n",
    "\n",
    "$R_{rs}$ in MEGS is the **nrrs** intermediate product\n",
    "\n",
    "**Reference**: [Meris Optical Measurement Protocols](http://hermes.acri.fr/mermaid/dataproto/CO-SCI-ARG-TN-0008_MERIS_Optical_Measurement_Protocols_Issue2_Aug2011.pdf) page 10. \n",
    "\n",
    "See also the ODESA forum [normalization in Odesa](http://www.odesa-info.eu/forum/viewtopic.php?f=16&t=107&p=155&hilit=remote+sensing+reflectance&sid=740420998c703edfaa95a3cc2ad2c027#p155) for details regarding **nrrs**.\n"
   ]
  },
  {
   "cell_type": "code",
   "execution_count": 14,
   "metadata": {
    "collapsed": false
   },
   "outputs": [],
   "source": [
    "# Importing function for quality check of the pixel values\n",
    "from geotools.meris import which_megs_l2_flags_NetCDF\n",
    "\n",
    "dataHolder[\"flagON\"] = [which_megs_l2_flags_NetCDF(value)['flagON'] for value in dataHolder[\"l2_flags\"]]\n",
    "dataHolder['raised_flags'] = [str(which_megs_l2_flags_NetCDF(value)['raised_flags']) for value in dataHolder[\"l2_flags\"]]\n",
    "dataHolder[\"watch\"] = [str(which_megs_l2_flags_NetCDF(value)['watch']) for value in dataHolder[\"l2_flags\"]]"
   ]
  },
  {
   "cell_type": "code",
   "execution_count": 15,
   "metadata": {
    "collapsed": false
   },
   "outputs": [],
   "source": [
    "# The values of nrrs_06 are strings, so we need to convert those into float values.\n",
    "for i, value in enumerate(dataHolder['nrrs_06']):\n",
    "    if value == \"\":\n",
    "        dataHolder['nrrs_06'][i] = np.nan       \n",
    "    else:\n",
    "        dataHolder['nrrs_06'][i] = np.float(value)"
   ]
  },
  {
   "cell_type": "code",
   "execution_count": 16,
   "metadata": {
    "collapsed": false
   },
   "outputs": [
    {
     "data": {
      "text/html": [
       "<div style=\"max-height:1000px;max-width:1500px;overflow:auto;\">\n",
       "<table border=\"1\" class=\"dataframe\">\n",
       "  <thead>\n",
       "    <tr style=\"text-align: right;\">\n",
       "      <th></th>\n",
       "      <th>meris_date</th>\n",
       "      <th>insitu_date</th>\n",
       "      <th>Name</th>\n",
       "      <th>CoordID</th>\n",
       "      <th>l2_flags</th>\n",
       "      <th>nrrs_06</th>\n",
       "      <th>reflectance_06</th>\n",
       "      <th>flagON</th>\n",
       "      <th>raised_flags</th>\n",
       "      <th>watch</th>\n",
       "      <th>rho_w_06</th>\n",
       "    </tr>\n",
       "  </thead>\n",
       "  <tbody>\n",
       "    <tr>\n",
       "      <th>0  </th>\n",
       "      <td> 20110715</td>\n",
       "      <td> 20110717</td>\n",
       "      <td> S126</td>\n",
       "      <td> 1</td>\n",
       "      <td>  3621904</td>\n",
       "      <td>  -0.01568703</td>\n",
       "      <td>-0.048585</td>\n",
       "      <td> False</td>\n",
       "      <td>        []</td>\n",
       "      <td>     ['PCD_16', 'PCD_17', 'OOADB', 'MEDIUM_GLINT']</td>\n",
       "      <td>-0.049282</td>\n",
       "    </tr>\n",
       "    <tr>\n",
       "      <th>1  </th>\n",
       "      <td> 20110715</td>\n",
       "      <td> 20110717</td>\n",
       "      <td> S126</td>\n",
       "      <td> 1</td>\n",
       "      <td>  3621904</td>\n",
       "      <td> -0.007852845</td>\n",
       "      <td>-0.024580</td>\n",
       "      <td> False</td>\n",
       "      <td>        []</td>\n",
       "      <td>     ['PCD_16', 'PCD_17', 'OOADB', 'MEDIUM_GLINT']</td>\n",
       "      <td>-0.024670</td>\n",
       "    </tr>\n",
       "    <tr>\n",
       "      <th>2  </th>\n",
       "      <td> 20110715</td>\n",
       "      <td> 20110717</td>\n",
       "      <td> S126</td>\n",
       "      <td> 1</td>\n",
       "      <td> 10469376</td>\n",
       "      <td>          NaN</td>\n",
       "      <td>      NaN</td>\n",
       "      <td>  True</td>\n",
       "      <td>  ['LAND']</td>\n",
       "      <td>                              ['PCD_16', 'PCD_17']</td>\n",
       "      <td>      NaN</td>\n",
       "    </tr>\n",
       "    <tr>\n",
       "      <th>3  </th>\n",
       "      <td> 20110715</td>\n",
       "      <td> 20110717</td>\n",
       "      <td> S126</td>\n",
       "      <td> 1</td>\n",
       "      <td> 10477568</td>\n",
       "      <td>          NaN</td>\n",
       "      <td>      NaN</td>\n",
       "      <td>  True</td>\n",
       "      <td>  ['LAND']</td>\n",
       "      <td>                 ['COASTLINE', 'PCD_16', 'PCD_17']</td>\n",
       "      <td>      NaN</td>\n",
       "    </tr>\n",
       "    <tr>\n",
       "      <th>4  </th>\n",
       "      <td> 20110715</td>\n",
       "      <td> 20110717</td>\n",
       "      <td> S126</td>\n",
       "      <td> 1</td>\n",
       "      <td> 10477568</td>\n",
       "      <td>          NaN</td>\n",
       "      <td>      NaN</td>\n",
       "      <td>  True</td>\n",
       "      <td>  ['LAND']</td>\n",
       "      <td>                 ['COASTLINE', 'PCD_16', 'PCD_17']</td>\n",
       "      <td>      NaN</td>\n",
       "    </tr>\n",
       "    <tr>\n",
       "      <th>5  </th>\n",
       "      <td> 20110715</td>\n",
       "      <td> 20110717</td>\n",
       "      <td> S126</td>\n",
       "      <td> 1</td>\n",
       "      <td> 10477568</td>\n",
       "      <td>          NaN</td>\n",
       "      <td>      NaN</td>\n",
       "      <td>  True</td>\n",
       "      <td>  ['LAND']</td>\n",
       "      <td>                 ['COASTLINE', 'PCD_16', 'PCD_17']</td>\n",
       "      <td>      NaN</td>\n",
       "    </tr>\n",
       "    <tr>\n",
       "      <th>6  </th>\n",
       "      <td> 20110715</td>\n",
       "      <td> 20110717</td>\n",
       "      <td> S126</td>\n",
       "      <td> 1</td>\n",
       "      <td>  5029888</td>\n",
       "      <td>          NaN</td>\n",
       "      <td> 0.303867</td>\n",
       "      <td>  True</td>\n",
       "      <td> ['CLOUD']</td>\n",
       "      <td>                                                []</td>\n",
       "      <td>      NaN</td>\n",
       "    </tr>\n",
       "    <tr>\n",
       "      <th>7  </th>\n",
       "      <td> 20110715</td>\n",
       "      <td> 20110717</td>\n",
       "      <td> S126</td>\n",
       "      <td> 1</td>\n",
       "      <td>  5038080</td>\n",
       "      <td>          NaN</td>\n",
       "      <td> 0.284457</td>\n",
       "      <td>  True</td>\n",
       "      <td> ['CLOUD']</td>\n",
       "      <td>                                     ['COASTLINE']</td>\n",
       "      <td>      NaN</td>\n",
       "    </tr>\n",
       "    <tr>\n",
       "      <th>8  </th>\n",
       "      <td> 20110715</td>\n",
       "      <td> 20110717</td>\n",
       "      <td> S126</td>\n",
       "      <td> 1</td>\n",
       "      <td>  5038080</td>\n",
       "      <td>          NaN</td>\n",
       "      <td> 0.510050</td>\n",
       "      <td>  True</td>\n",
       "      <td> ['CLOUD']</td>\n",
       "      <td>                                     ['COASTLINE']</td>\n",
       "      <td>      NaN</td>\n",
       "    </tr>\n",
       "    <tr>\n",
       "      <th>9  </th>\n",
       "      <td> 20110715</td>\n",
       "      <td> 20110717</td>\n",
       "      <td> So10</td>\n",
       "      <td> 2</td>\n",
       "      <td>  3604744</td>\n",
       "      <td>  0.002709468</td>\n",
       "      <td> 0.008948</td>\n",
       "      <td> False</td>\n",
       "      <td>        []</td>\n",
       "      <td>        ['PCD_16', 'PCD_17', 'CASE2_S', 'BPAC_ON']</td>\n",
       "      <td> 0.008512</td>\n",
       "    </tr>\n",
       "    <tr>\n",
       "      <th>10 </th>\n",
       "      <td> 20110715</td>\n",
       "      <td> 20110717</td>\n",
       "      <td> So10</td>\n",
       "      <td> 2</td>\n",
       "      <td>  2556296</td>\n",
       "      <td>  0.006889801</td>\n",
       "      <td> 0.022736</td>\n",
       "      <td> False</td>\n",
       "      <td>        []</td>\n",
       "      <td> ['PCD_16', 'PCD_17', 'CASE2_ANOM', 'CASE2_S', ...</td>\n",
       "      <td> 0.021645</td>\n",
       "    </tr>\n",
       "    <tr>\n",
       "      <th>11 </th>\n",
       "      <td> 20110715</td>\n",
       "      <td> 20110717</td>\n",
       "      <td> So10</td>\n",
       "      <td> 2</td>\n",
       "      <td>  2556168</td>\n",
       "      <td>  0.003898858</td>\n",
       "      <td> 0.012867</td>\n",
       "      <td> False</td>\n",
       "      <td>        []</td>\n",
       "      <td>        ['PCD_16', 'PCD_17', 'CASE2_S', 'BPAC_ON']</td>\n",
       "      <td> 0.012249</td>\n",
       "    </tr>\n",
       "    <tr>\n",
       "      <th>12 </th>\n",
       "      <td> 20110715</td>\n",
       "      <td> 20110717</td>\n",
       "      <td> So10</td>\n",
       "      <td> 2</td>\n",
       "      <td>  2556168</td>\n",
       "      <td>  0.003953216</td>\n",
       "      <td> 0.013050</td>\n",
       "      <td> False</td>\n",
       "      <td>        []</td>\n",
       "      <td>        ['PCD_16', 'PCD_17', 'CASE2_S', 'BPAC_ON']</td>\n",
       "      <td> 0.012419</td>\n",
       "    </tr>\n",
       "    <tr>\n",
       "      <th>13 </th>\n",
       "      <td> 20110715</td>\n",
       "      <td> 20110717</td>\n",
       "      <td> So10</td>\n",
       "      <td> 2</td>\n",
       "      <td>  2556296</td>\n",
       "      <td>  0.005119068</td>\n",
       "      <td> 0.016895</td>\n",
       "      <td> False</td>\n",
       "      <td>        []</td>\n",
       "      <td> ['PCD_16', 'PCD_17', 'CASE2_ANOM', 'CASE2_S', ...</td>\n",
       "      <td> 0.016082</td>\n",
       "    </tr>\n",
       "    <tr>\n",
       "      <th>14 </th>\n",
       "      <td> 20110715</td>\n",
       "      <td> 20110717</td>\n",
       "      <td> So10</td>\n",
       "      <td> 2</td>\n",
       "      <td>  2557320</td>\n",
       "      <td>  0.005375281</td>\n",
       "      <td> 0.017737</td>\n",
       "      <td> False</td>\n",
       "      <td>        []</td>\n",
       "      <td> ['PCD_16', 'PCD_17', 'OOADB', 'CASE2_ANOM', 'C...</td>\n",
       "      <td> 0.016887</td>\n",
       "    </tr>\n",
       "    <tr>\n",
       "      <th>15 </th>\n",
       "      <td> 20110715</td>\n",
       "      <td> 20110717</td>\n",
       "      <td> So10</td>\n",
       "      <td> 2</td>\n",
       "      <td>  2556296</td>\n",
       "      <td>  0.005616233</td>\n",
       "      <td> 0.018525</td>\n",
       "      <td> False</td>\n",
       "      <td>        []</td>\n",
       "      <td> ['PCD_16', 'PCD_17', 'CASE2_ANOM', 'CASE2_S', ...</td>\n",
       "      <td> 0.017644</td>\n",
       "    </tr>\n",
       "    <tr>\n",
       "      <th>16 </th>\n",
       "      <td> 20110715</td>\n",
       "      <td> 20110717</td>\n",
       "      <td> So10</td>\n",
       "      <td> 2</td>\n",
       "      <td>  2557192</td>\n",
       "      <td>  0.003489443</td>\n",
       "      <td> 0.011512</td>\n",
       "      <td> False</td>\n",
       "      <td>        []</td>\n",
       "      <td> ['PCD_16', 'PCD_17', 'OOADB', 'CASE2_S', 'BPAC...</td>\n",
       "      <td> 0.010962</td>\n",
       "    </tr>\n",
       "    <tr>\n",
       "      <th>17 </th>\n",
       "      <td> 20110715</td>\n",
       "      <td> 20110717</td>\n",
       "      <td> So10</td>\n",
       "      <td> 2</td>\n",
       "      <td>  3409160</td>\n",
       "      <td> -0.009131842</td>\n",
       "      <td>-0.030128</td>\n",
       "      <td> False</td>\n",
       "      <td>        []</td>\n",
       "      <td>                   ['OOADB', 'CASE2_S', 'BPAC_ON']</td>\n",
       "      <td>-0.028689</td>\n",
       "    </tr>\n",
       "    <tr>\n",
       "      <th>18 </th>\n",
       "      <td> 20110715</td>\n",
       "      <td> 20110717</td>\n",
       "      <td> So11</td>\n",
       "      <td> 3</td>\n",
       "      <td> 10477568</td>\n",
       "      <td>          NaN</td>\n",
       "      <td>      NaN</td>\n",
       "      <td>  True</td>\n",
       "      <td>  ['LAND']</td>\n",
       "      <td>                 ['COASTLINE', 'PCD_16', 'PCD_17']</td>\n",
       "      <td>      NaN</td>\n",
       "    </tr>\n",
       "    <tr>\n",
       "      <th>19 </th>\n",
       "      <td> 20110715</td>\n",
       "      <td> 20110717</td>\n",
       "      <td> So11</td>\n",
       "      <td> 3</td>\n",
       "      <td> 10477568</td>\n",
       "      <td>          NaN</td>\n",
       "      <td>      NaN</td>\n",
       "      <td>  True</td>\n",
       "      <td>  ['LAND']</td>\n",
       "      <td>                 ['COASTLINE', 'PCD_16', 'PCD_17']</td>\n",
       "      <td>      NaN</td>\n",
       "    </tr>\n",
       "    <tr>\n",
       "      <th>20 </th>\n",
       "      <td> 20110715</td>\n",
       "      <td> 20110717</td>\n",
       "      <td> So11</td>\n",
       "      <td> 3</td>\n",
       "      <td>  3605768</td>\n",
       "      <td> 0.0008175356</td>\n",
       "      <td> 0.002704</td>\n",
       "      <td> False</td>\n",
       "      <td>        []</td>\n",
       "      <td> ['PCD_16', 'PCD_17', 'OOADB', 'CASE2_S', 'BPAC...</td>\n",
       "      <td> 0.002568</td>\n",
       "    </tr>\n",
       "    <tr>\n",
       "      <th>21 </th>\n",
       "      <td> 20110715</td>\n",
       "      <td> 20110717</td>\n",
       "      <td> So11</td>\n",
       "      <td> 3</td>\n",
       "      <td> 10469376</td>\n",
       "      <td>          NaN</td>\n",
       "      <td>      NaN</td>\n",
       "      <td>  True</td>\n",
       "      <td>  ['LAND']</td>\n",
       "      <td>                              ['PCD_16', 'PCD_17']</td>\n",
       "      <td>      NaN</td>\n",
       "    </tr>\n",
       "    <tr>\n",
       "      <th>22 </th>\n",
       "      <td> 20110715</td>\n",
       "      <td> 20110717</td>\n",
       "      <td> So11</td>\n",
       "      <td> 3</td>\n",
       "      <td> 10469376</td>\n",
       "      <td>          NaN</td>\n",
       "      <td>      NaN</td>\n",
       "      <td>  True</td>\n",
       "      <td>  ['LAND']</td>\n",
       "      <td>                              ['PCD_16', 'PCD_17']</td>\n",
       "      <td>      NaN</td>\n",
       "    </tr>\n",
       "    <tr>\n",
       "      <th>23 </th>\n",
       "      <td> 20110715</td>\n",
       "      <td> 20110717</td>\n",
       "      <td> So11</td>\n",
       "      <td> 3</td>\n",
       "      <td> 10469376</td>\n",
       "      <td>          NaN</td>\n",
       "      <td>      NaN</td>\n",
       "      <td>  True</td>\n",
       "      <td>  ['LAND']</td>\n",
       "      <td>                              ['PCD_16', 'PCD_17']</td>\n",
       "      <td>      NaN</td>\n",
       "    </tr>\n",
       "    <tr>\n",
       "      <th>24 </th>\n",
       "      <td> 20110715</td>\n",
       "      <td> 20110717</td>\n",
       "      <td> So11</td>\n",
       "      <td> 3</td>\n",
       "      <td>  3425280</td>\n",
       "      <td>  -0.04175749</td>\n",
       "      <td>-0.134281</td>\n",
       "      <td> False</td>\n",
       "      <td>        []</td>\n",
       "      <td>                                         ['OOADB']</td>\n",
       "      <td>-0.131185</td>\n",
       "    </tr>\n",
       "    <tr>\n",
       "      <th>25 </th>\n",
       "      <td> 20110715</td>\n",
       "      <td> 20110717</td>\n",
       "      <td> So11</td>\n",
       "      <td> 3</td>\n",
       "      <td>  5029888</td>\n",
       "      <td>          NaN</td>\n",
       "      <td> 0.319211</td>\n",
       "      <td>  True</td>\n",
       "      <td> ['CLOUD']</td>\n",
       "      <td>                                                []</td>\n",
       "      <td>      NaN</td>\n",
       "    </tr>\n",
       "    <tr>\n",
       "      <th>26 </th>\n",
       "      <td> 20110715</td>\n",
       "      <td> 20110717</td>\n",
       "      <td> So11</td>\n",
       "      <td> 3</td>\n",
       "      <td>  5029888</td>\n",
       "      <td>          NaN</td>\n",
       "      <td> 0.181805</td>\n",
       "      <td>  True</td>\n",
       "      <td> ['CLOUD']</td>\n",
       "      <td>                                                []</td>\n",
       "      <td>      NaN</td>\n",
       "    </tr>\n",
       "    <tr>\n",
       "      <th>27 </th>\n",
       "      <td> 20110715</td>\n",
       "      <td> 20110717</td>\n",
       "      <td> So32</td>\n",
       "      <td> 4</td>\n",
       "      <td> 10477568</td>\n",
       "      <td>          NaN</td>\n",
       "      <td>      NaN</td>\n",
       "      <td>  True</td>\n",
       "      <td>  ['LAND']</td>\n",
       "      <td>                 ['COASTLINE', 'PCD_16', 'PCD_17']</td>\n",
       "      <td>      NaN</td>\n",
       "    </tr>\n",
       "    <tr>\n",
       "      <th>28 </th>\n",
       "      <td> 20110715</td>\n",
       "      <td> 20110717</td>\n",
       "      <td> So32</td>\n",
       "      <td> 4</td>\n",
       "      <td> 10477568</td>\n",
       "      <td>          NaN</td>\n",
       "      <td>      NaN</td>\n",
       "      <td>  True</td>\n",
       "      <td>  ['LAND']</td>\n",
       "      <td>                 ['COASTLINE', 'PCD_16', 'PCD_17']</td>\n",
       "      <td>      NaN</td>\n",
       "    </tr>\n",
       "    <tr>\n",
       "      <th>29 </th>\n",
       "      <td> 20110715</td>\n",
       "      <td> 20110717</td>\n",
       "      <td> So32</td>\n",
       "      <td> 4</td>\n",
       "      <td> 10477568</td>\n",
       "      <td>          NaN</td>\n",
       "      <td>      NaN</td>\n",
       "      <td>  True</td>\n",
       "      <td>  ['LAND']</td>\n",
       "      <td>                 ['COASTLINE', 'PCD_16', 'PCD_17']</td>\n",
       "      <td>      NaN</td>\n",
       "    </tr>\n",
       "    <tr>\n",
       "      <th>...</th>\n",
       "      <td>...</td>\n",
       "      <td>...</td>\n",
       "      <td>...</td>\n",
       "      <td>...</td>\n",
       "      <td>...</td>\n",
       "      <td>...</td>\n",
       "      <td>...</td>\n",
       "      <td>...</td>\n",
       "      <td>...</td>\n",
       "      <td>...</td>\n",
       "      <td>...</td>\n",
       "    </tr>\n",
       "    <tr>\n",
       "      <th>96 </th>\n",
       "      <td> 20100818</td>\n",
       "      <td> 20100817</td>\n",
       "      <td>   H4</td>\n",
       "      <td> 4</td>\n",
       "      <td> 10477568</td>\n",
       "      <td>          NaN</td>\n",
       "      <td>      NaN</td>\n",
       "      <td>  True</td>\n",
       "      <td>  ['LAND']</td>\n",
       "      <td>                 ['COASTLINE', 'PCD_16', 'PCD_17']</td>\n",
       "      <td>      NaN</td>\n",
       "    </tr>\n",
       "    <tr>\n",
       "      <th>97 </th>\n",
       "      <td> 20100818</td>\n",
       "      <td> 20100817</td>\n",
       "      <td>   H4</td>\n",
       "      <td> 4</td>\n",
       "      <td>  5029888</td>\n",
       "      <td>          NaN</td>\n",
       "      <td> 0.204181</td>\n",
       "      <td>  True</td>\n",
       "      <td> ['CLOUD']</td>\n",
       "      <td>                                                []</td>\n",
       "      <td>      NaN</td>\n",
       "    </tr>\n",
       "    <tr>\n",
       "      <th>98 </th>\n",
       "      <td> 20100818</td>\n",
       "      <td> 20100817</td>\n",
       "      <td>   H4</td>\n",
       "      <td> 4</td>\n",
       "      <td>  5029888</td>\n",
       "      <td>          NaN</td>\n",
       "      <td> 0.201233</td>\n",
       "      <td>  True</td>\n",
       "      <td> ['CLOUD']</td>\n",
       "      <td>                                                []</td>\n",
       "      <td>      NaN</td>\n",
       "    </tr>\n",
       "    <tr>\n",
       "      <th>99 </th>\n",
       "      <td> 20100818</td>\n",
       "      <td> 20100817</td>\n",
       "      <td>   H5</td>\n",
       "      <td> 5</td>\n",
       "      <td>  5029888</td>\n",
       "      <td>          NaN</td>\n",
       "      <td> 0.366582</td>\n",
       "      <td>  True</td>\n",
       "      <td> ['CLOUD']</td>\n",
       "      <td>                                                []</td>\n",
       "      <td>      NaN</td>\n",
       "    </tr>\n",
       "    <tr>\n",
       "      <th>100</th>\n",
       "      <td> 20100818</td>\n",
       "      <td> 20100817</td>\n",
       "      <td>   H5</td>\n",
       "      <td> 5</td>\n",
       "      <td>  5029888</td>\n",
       "      <td>          NaN</td>\n",
       "      <td> 0.349150</td>\n",
       "      <td>  True</td>\n",
       "      <td> ['CLOUD']</td>\n",
       "      <td>                                                []</td>\n",
       "      <td>      NaN</td>\n",
       "    </tr>\n",
       "    <tr>\n",
       "      <th>101</th>\n",
       "      <td> 20100818</td>\n",
       "      <td> 20100817</td>\n",
       "      <td>   H5</td>\n",
       "      <td> 5</td>\n",
       "      <td>  5029888</td>\n",
       "      <td>          NaN</td>\n",
       "      <td> 0.342192</td>\n",
       "      <td>  True</td>\n",
       "      <td> ['CLOUD']</td>\n",
       "      <td>                                                []</td>\n",
       "      <td>      NaN</td>\n",
       "    </tr>\n",
       "    <tr>\n",
       "      <th>102</th>\n",
       "      <td> 20100818</td>\n",
       "      <td> 20100817</td>\n",
       "      <td>   H5</td>\n",
       "      <td> 5</td>\n",
       "      <td>  5029888</td>\n",
       "      <td>          NaN</td>\n",
       "      <td> 0.368578</td>\n",
       "      <td>  True</td>\n",
       "      <td> ['CLOUD']</td>\n",
       "      <td>                                                []</td>\n",
       "      <td>      NaN</td>\n",
       "    </tr>\n",
       "    <tr>\n",
       "      <th>103</th>\n",
       "      <td> 20100818</td>\n",
       "      <td> 20100817</td>\n",
       "      <td>   H5</td>\n",
       "      <td> 5</td>\n",
       "      <td>  5029888</td>\n",
       "      <td>          NaN</td>\n",
       "      <td> 0.342467</td>\n",
       "      <td>  True</td>\n",
       "      <td> ['CLOUD']</td>\n",
       "      <td>                                                []</td>\n",
       "      <td>      NaN</td>\n",
       "    </tr>\n",
       "    <tr>\n",
       "      <th>104</th>\n",
       "      <td> 20100818</td>\n",
       "      <td> 20100817</td>\n",
       "      <td>   H5</td>\n",
       "      <td> 5</td>\n",
       "      <td>  5029888</td>\n",
       "      <td>          NaN</td>\n",
       "      <td> 0.334977</td>\n",
       "      <td>  True</td>\n",
       "      <td> ['CLOUD']</td>\n",
       "      <td>                                                []</td>\n",
       "      <td>      NaN</td>\n",
       "    </tr>\n",
       "    <tr>\n",
       "      <th>105</th>\n",
       "      <td> 20100818</td>\n",
       "      <td> 20100817</td>\n",
       "      <td>   H5</td>\n",
       "      <td> 5</td>\n",
       "      <td>  5029888</td>\n",
       "      <td>          NaN</td>\n",
       "      <td> 0.366784</td>\n",
       "      <td>  True</td>\n",
       "      <td> ['CLOUD']</td>\n",
       "      <td>                                                []</td>\n",
       "      <td>      NaN</td>\n",
       "    </tr>\n",
       "    <tr>\n",
       "      <th>106</th>\n",
       "      <td> 20100818</td>\n",
       "      <td> 20100817</td>\n",
       "      <td>   H5</td>\n",
       "      <td> 5</td>\n",
       "      <td>  5029888</td>\n",
       "      <td>          NaN</td>\n",
       "      <td> 0.339573</td>\n",
       "      <td>  True</td>\n",
       "      <td> ['CLOUD']</td>\n",
       "      <td>                                                []</td>\n",
       "      <td>      NaN</td>\n",
       "    </tr>\n",
       "    <tr>\n",
       "      <th>107</th>\n",
       "      <td> 20100818</td>\n",
       "      <td> 20100817</td>\n",
       "      <td>   H5</td>\n",
       "      <td> 5</td>\n",
       "      <td>  5029888</td>\n",
       "      <td>          NaN</td>\n",
       "      <td> 0.328330</td>\n",
       "      <td>  True</td>\n",
       "      <td> ['CLOUD']</td>\n",
       "      <td>                                                []</td>\n",
       "      <td>      NaN</td>\n",
       "    </tr>\n",
       "    <tr>\n",
       "      <th>108</th>\n",
       "      <td> 20100818</td>\n",
       "      <td> 20100817</td>\n",
       "      <td>   H6</td>\n",
       "      <td> 6</td>\n",
       "      <td>  5038080</td>\n",
       "      <td>          NaN</td>\n",
       "      <td> 0.535063</td>\n",
       "      <td>  True</td>\n",
       "      <td> ['CLOUD']</td>\n",
       "      <td>                                     ['COASTLINE']</td>\n",
       "      <td>      NaN</td>\n",
       "    </tr>\n",
       "    <tr>\n",
       "      <th>109</th>\n",
       "      <td> 20100818</td>\n",
       "      <td> 20100817</td>\n",
       "      <td>   H6</td>\n",
       "      <td> 6</td>\n",
       "      <td>  5029888</td>\n",
       "      <td>          NaN</td>\n",
       "      <td> 0.529368</td>\n",
       "      <td>  True</td>\n",
       "      <td> ['CLOUD']</td>\n",
       "      <td>                                                []</td>\n",
       "      <td>      NaN</td>\n",
       "    </tr>\n",
       "    <tr>\n",
       "      <th>110</th>\n",
       "      <td> 20100818</td>\n",
       "      <td> 20100817</td>\n",
       "      <td>   H6</td>\n",
       "      <td> 6</td>\n",
       "      <td>  5029888</td>\n",
       "      <td>          NaN</td>\n",
       "      <td> 0.520066</td>\n",
       "      <td>  True</td>\n",
       "      <td> ['CLOUD']</td>\n",
       "      <td>                                                []</td>\n",
       "      <td>      NaN</td>\n",
       "    </tr>\n",
       "    <tr>\n",
       "      <th>111</th>\n",
       "      <td> 20100818</td>\n",
       "      <td> 20100817</td>\n",
       "      <td>   H6</td>\n",
       "      <td> 6</td>\n",
       "      <td>  5038080</td>\n",
       "      <td>          NaN</td>\n",
       "      <td> 0.529569</td>\n",
       "      <td>  True</td>\n",
       "      <td> ['CLOUD']</td>\n",
       "      <td>                                     ['COASTLINE']</td>\n",
       "      <td>      NaN</td>\n",
       "    </tr>\n",
       "    <tr>\n",
       "      <th>112</th>\n",
       "      <td> 20100818</td>\n",
       "      <td> 20100817</td>\n",
       "      <td>   H6</td>\n",
       "      <td> 6</td>\n",
       "      <td>  5029888</td>\n",
       "      <td>          NaN</td>\n",
       "      <td> 0.515250</td>\n",
       "      <td>  True</td>\n",
       "      <td> ['CLOUD']</td>\n",
       "      <td>                                                []</td>\n",
       "      <td>      NaN</td>\n",
       "    </tr>\n",
       "    <tr>\n",
       "      <th>113</th>\n",
       "      <td> 20100818</td>\n",
       "      <td> 20100817</td>\n",
       "      <td>   H6</td>\n",
       "      <td> 6</td>\n",
       "      <td>  5029888</td>\n",
       "      <td>          NaN</td>\n",
       "      <td> 0.515891</td>\n",
       "      <td>  True</td>\n",
       "      <td> ['CLOUD']</td>\n",
       "      <td>                                                []</td>\n",
       "      <td>      NaN</td>\n",
       "    </tr>\n",
       "    <tr>\n",
       "      <th>114</th>\n",
       "      <td> 20100818</td>\n",
       "      <td> 20100817</td>\n",
       "      <td>   H6</td>\n",
       "      <td> 6</td>\n",
       "      <td>  5038080</td>\n",
       "      <td>          NaN</td>\n",
       "      <td> 0.508255</td>\n",
       "      <td>  True</td>\n",
       "      <td> ['CLOUD']</td>\n",
       "      <td>                                     ['COASTLINE']</td>\n",
       "      <td>      NaN</td>\n",
       "    </tr>\n",
       "    <tr>\n",
       "      <th>115</th>\n",
       "      <td> 20100818</td>\n",
       "      <td> 20100817</td>\n",
       "      <td>   H6</td>\n",
       "      <td> 6</td>\n",
       "      <td>  5029888</td>\n",
       "      <td>          NaN</td>\n",
       "      <td> 0.515305</td>\n",
       "      <td>  True</td>\n",
       "      <td> ['CLOUD']</td>\n",
       "      <td>                                                []</td>\n",
       "      <td>      NaN</td>\n",
       "    </tr>\n",
       "    <tr>\n",
       "      <th>116</th>\n",
       "      <td> 20100818</td>\n",
       "      <td> 20100817</td>\n",
       "      <td>   H6</td>\n",
       "      <td> 6</td>\n",
       "      <td>  5029888</td>\n",
       "      <td>          NaN</td>\n",
       "      <td> 0.529441</td>\n",
       "      <td>  True</td>\n",
       "      <td> ['CLOUD']</td>\n",
       "      <td>                                                []</td>\n",
       "      <td>      NaN</td>\n",
       "    </tr>\n",
       "    <tr>\n",
       "      <th>117</th>\n",
       "      <td> 20100818</td>\n",
       "      <td> 20100817</td>\n",
       "      <td>   H7</td>\n",
       "      <td> 7</td>\n",
       "      <td>  5029888</td>\n",
       "      <td>          NaN</td>\n",
       "      <td> 0.408972</td>\n",
       "      <td>  True</td>\n",
       "      <td> ['CLOUD']</td>\n",
       "      <td>                                                []</td>\n",
       "      <td>      NaN</td>\n",
       "    </tr>\n",
       "    <tr>\n",
       "      <th>118</th>\n",
       "      <td> 20100818</td>\n",
       "      <td> 20100817</td>\n",
       "      <td>   H7</td>\n",
       "      <td> 7</td>\n",
       "      <td>  5038080</td>\n",
       "      <td>          NaN</td>\n",
       "      <td> 0.401611</td>\n",
       "      <td>  True</td>\n",
       "      <td> ['CLOUD']</td>\n",
       "      <td>                                     ['COASTLINE']</td>\n",
       "      <td>      NaN</td>\n",
       "    </tr>\n",
       "    <tr>\n",
       "      <th>119</th>\n",
       "      <td> 20100818</td>\n",
       "      <td> 20100817</td>\n",
       "      <td>   H7</td>\n",
       "      <td> 7</td>\n",
       "      <td>  5038080</td>\n",
       "      <td>          NaN</td>\n",
       "      <td> 0.401593</td>\n",
       "      <td>  True</td>\n",
       "      <td> ['CLOUD']</td>\n",
       "      <td>                                     ['COASTLINE']</td>\n",
       "      <td>      NaN</td>\n",
       "    </tr>\n",
       "    <tr>\n",
       "      <th>120</th>\n",
       "      <td> 20100818</td>\n",
       "      <td> 20100817</td>\n",
       "      <td>   H7</td>\n",
       "      <td> 7</td>\n",
       "      <td>  5029888</td>\n",
       "      <td>          NaN</td>\n",
       "      <td> 0.409650</td>\n",
       "      <td>  True</td>\n",
       "      <td> ['CLOUD']</td>\n",
       "      <td>                                                []</td>\n",
       "      <td>      NaN</td>\n",
       "    </tr>\n",
       "    <tr>\n",
       "      <th>121</th>\n",
       "      <td> 20100818</td>\n",
       "      <td> 20100817</td>\n",
       "      <td>   H7</td>\n",
       "      <td> 7</td>\n",
       "      <td>  5038080</td>\n",
       "      <td>          NaN</td>\n",
       "      <td> 0.396905</td>\n",
       "      <td>  True</td>\n",
       "      <td> ['CLOUD']</td>\n",
       "      <td>                                     ['COASTLINE']</td>\n",
       "      <td>      NaN</td>\n",
       "    </tr>\n",
       "    <tr>\n",
       "      <th>122</th>\n",
       "      <td> 20100818</td>\n",
       "      <td> 20100817</td>\n",
       "      <td>   H7</td>\n",
       "      <td> 7</td>\n",
       "      <td>  5038080</td>\n",
       "      <td>          NaN</td>\n",
       "      <td> 0.396905</td>\n",
       "      <td>  True</td>\n",
       "      <td> ['CLOUD']</td>\n",
       "      <td>                                     ['COASTLINE']</td>\n",
       "      <td>      NaN</td>\n",
       "    </tr>\n",
       "    <tr>\n",
       "      <th>123</th>\n",
       "      <td> 20100818</td>\n",
       "      <td> 20100817</td>\n",
       "      <td>   H7</td>\n",
       "      <td> 7</td>\n",
       "      <td>  5038080</td>\n",
       "      <td>          NaN</td>\n",
       "      <td> 0.412616</td>\n",
       "      <td>  True</td>\n",
       "      <td> ['CLOUD']</td>\n",
       "      <td>                                     ['COASTLINE']</td>\n",
       "      <td>      NaN</td>\n",
       "    </tr>\n",
       "    <tr>\n",
       "      <th>124</th>\n",
       "      <td> 20100818</td>\n",
       "      <td> 20100817</td>\n",
       "      <td>   H7</td>\n",
       "      <td> 7</td>\n",
       "      <td>  5029888</td>\n",
       "      <td>          NaN</td>\n",
       "      <td> 0.399487</td>\n",
       "      <td>  True</td>\n",
       "      <td> ['CLOUD']</td>\n",
       "      <td>                                                []</td>\n",
       "      <td>      NaN</td>\n",
       "    </tr>\n",
       "    <tr>\n",
       "      <th>125</th>\n",
       "      <td> 20100818</td>\n",
       "      <td> 20100817</td>\n",
       "      <td>   H7</td>\n",
       "      <td> 7</td>\n",
       "      <td>  5029888</td>\n",
       "      <td>          NaN</td>\n",
       "      <td> 0.399469</td>\n",
       "      <td>  True</td>\n",
       "      <td> ['CLOUD']</td>\n",
       "      <td>                                                []</td>\n",
       "      <td>      NaN</td>\n",
       "    </tr>\n",
       "  </tbody>\n",
       "</table>\n",
       "<p>126 rows × 11 columns</p>\n",
       "</div>"
      ],
      "text/plain": [
       "    meris_date insitu_date  Name CoordID  l2_flags       nrrs_06  \\\n",
       "0     20110715    20110717  S126       1   3621904   -0.01568703   \n",
       "1     20110715    20110717  S126       1   3621904  -0.007852845   \n",
       "2     20110715    20110717  S126       1  10469376           NaN   \n",
       "3     20110715    20110717  S126       1  10477568           NaN   \n",
       "4     20110715    20110717  S126       1  10477568           NaN   \n",
       "5     20110715    20110717  S126       1  10477568           NaN   \n",
       "6     20110715    20110717  S126       1   5029888           NaN   \n",
       "7     20110715    20110717  S126       1   5038080           NaN   \n",
       "8     20110715    20110717  S126       1   5038080           NaN   \n",
       "9     20110715    20110717  So10       2   3604744   0.002709468   \n",
       "10    20110715    20110717  So10       2   2556296   0.006889801   \n",
       "11    20110715    20110717  So10       2   2556168   0.003898858   \n",
       "12    20110715    20110717  So10       2   2556168   0.003953216   \n",
       "13    20110715    20110717  So10       2   2556296   0.005119068   \n",
       "14    20110715    20110717  So10       2   2557320   0.005375281   \n",
       "15    20110715    20110717  So10       2   2556296   0.005616233   \n",
       "16    20110715    20110717  So10       2   2557192   0.003489443   \n",
       "17    20110715    20110717  So10       2   3409160  -0.009131842   \n",
       "18    20110715    20110717  So11       3  10477568           NaN   \n",
       "19    20110715    20110717  So11       3  10477568           NaN   \n",
       "20    20110715    20110717  So11       3   3605768  0.0008175356   \n",
       "21    20110715    20110717  So11       3  10469376           NaN   \n",
       "22    20110715    20110717  So11       3  10469376           NaN   \n",
       "23    20110715    20110717  So11       3  10469376           NaN   \n",
       "24    20110715    20110717  So11       3   3425280   -0.04175749   \n",
       "25    20110715    20110717  So11       3   5029888           NaN   \n",
       "26    20110715    20110717  So11       3   5029888           NaN   \n",
       "27    20110715    20110717  So32       4  10477568           NaN   \n",
       "28    20110715    20110717  So32       4  10477568           NaN   \n",
       "29    20110715    20110717  So32       4  10477568           NaN   \n",
       "..         ...         ...   ...     ...       ...           ...   \n",
       "96    20100818    20100817    H4       4  10477568           NaN   \n",
       "97    20100818    20100817    H4       4   5029888           NaN   \n",
       "98    20100818    20100817    H4       4   5029888           NaN   \n",
       "99    20100818    20100817    H5       5   5029888           NaN   \n",
       "100   20100818    20100817    H5       5   5029888           NaN   \n",
       "101   20100818    20100817    H5       5   5029888           NaN   \n",
       "102   20100818    20100817    H5       5   5029888           NaN   \n",
       "103   20100818    20100817    H5       5   5029888           NaN   \n",
       "104   20100818    20100817    H5       5   5029888           NaN   \n",
       "105   20100818    20100817    H5       5   5029888           NaN   \n",
       "106   20100818    20100817    H5       5   5029888           NaN   \n",
       "107   20100818    20100817    H5       5   5029888           NaN   \n",
       "108   20100818    20100817    H6       6   5038080           NaN   \n",
       "109   20100818    20100817    H6       6   5029888           NaN   \n",
       "110   20100818    20100817    H6       6   5029888           NaN   \n",
       "111   20100818    20100817    H6       6   5038080           NaN   \n",
       "112   20100818    20100817    H6       6   5029888           NaN   \n",
       "113   20100818    20100817    H6       6   5029888           NaN   \n",
       "114   20100818    20100817    H6       6   5038080           NaN   \n",
       "115   20100818    20100817    H6       6   5029888           NaN   \n",
       "116   20100818    20100817    H6       6   5029888           NaN   \n",
       "117   20100818    20100817    H7       7   5029888           NaN   \n",
       "118   20100818    20100817    H7       7   5038080           NaN   \n",
       "119   20100818    20100817    H7       7   5038080           NaN   \n",
       "120   20100818    20100817    H7       7   5029888           NaN   \n",
       "121   20100818    20100817    H7       7   5038080           NaN   \n",
       "122   20100818    20100817    H7       7   5038080           NaN   \n",
       "123   20100818    20100817    H7       7   5038080           NaN   \n",
       "124   20100818    20100817    H7       7   5029888           NaN   \n",
       "125   20100818    20100817    H7       7   5029888           NaN   \n",
       "\n",
       "     reflectance_06 flagON raised_flags  \\\n",
       "0         -0.048585  False           []   \n",
       "1         -0.024580  False           []   \n",
       "2               NaN   True     ['LAND']   \n",
       "3               NaN   True     ['LAND']   \n",
       "4               NaN   True     ['LAND']   \n",
       "5               NaN   True     ['LAND']   \n",
       "6          0.303867   True    ['CLOUD']   \n",
       "7          0.284457   True    ['CLOUD']   \n",
       "8          0.510050   True    ['CLOUD']   \n",
       "9          0.008948  False           []   \n",
       "10         0.022736  False           []   \n",
       "11         0.012867  False           []   \n",
       "12         0.013050  False           []   \n",
       "13         0.016895  False           []   \n",
       "14         0.017737  False           []   \n",
       "15         0.018525  False           []   \n",
       "16         0.011512  False           []   \n",
       "17        -0.030128  False           []   \n",
       "18              NaN   True     ['LAND']   \n",
       "19              NaN   True     ['LAND']   \n",
       "20         0.002704  False           []   \n",
       "21              NaN   True     ['LAND']   \n",
       "22              NaN   True     ['LAND']   \n",
       "23              NaN   True     ['LAND']   \n",
       "24        -0.134281  False           []   \n",
       "25         0.319211   True    ['CLOUD']   \n",
       "26         0.181805   True    ['CLOUD']   \n",
       "27              NaN   True     ['LAND']   \n",
       "28              NaN   True     ['LAND']   \n",
       "29              NaN   True     ['LAND']   \n",
       "..              ...    ...          ...   \n",
       "96              NaN   True     ['LAND']   \n",
       "97         0.204181   True    ['CLOUD']   \n",
       "98         0.201233   True    ['CLOUD']   \n",
       "99         0.366582   True    ['CLOUD']   \n",
       "100        0.349150   True    ['CLOUD']   \n",
       "101        0.342192   True    ['CLOUD']   \n",
       "102        0.368578   True    ['CLOUD']   \n",
       "103        0.342467   True    ['CLOUD']   \n",
       "104        0.334977   True    ['CLOUD']   \n",
       "105        0.366784   True    ['CLOUD']   \n",
       "106        0.339573   True    ['CLOUD']   \n",
       "107        0.328330   True    ['CLOUD']   \n",
       "108        0.535063   True    ['CLOUD']   \n",
       "109        0.529368   True    ['CLOUD']   \n",
       "110        0.520066   True    ['CLOUD']   \n",
       "111        0.529569   True    ['CLOUD']   \n",
       "112        0.515250   True    ['CLOUD']   \n",
       "113        0.515891   True    ['CLOUD']   \n",
       "114        0.508255   True    ['CLOUD']   \n",
       "115        0.515305   True    ['CLOUD']   \n",
       "116        0.529441   True    ['CLOUD']   \n",
       "117        0.408972   True    ['CLOUD']   \n",
       "118        0.401611   True    ['CLOUD']   \n",
       "119        0.401593   True    ['CLOUD']   \n",
       "120        0.409650   True    ['CLOUD']   \n",
       "121        0.396905   True    ['CLOUD']   \n",
       "122        0.396905   True    ['CLOUD']   \n",
       "123        0.412616   True    ['CLOUD']   \n",
       "124        0.399487   True    ['CLOUD']   \n",
       "125        0.399469   True    ['CLOUD']   \n",
       "\n",
       "                                                 watch  rho_w_06  \n",
       "0        ['PCD_16', 'PCD_17', 'OOADB', 'MEDIUM_GLINT'] -0.049282  \n",
       "1        ['PCD_16', 'PCD_17', 'OOADB', 'MEDIUM_GLINT'] -0.024670  \n",
       "2                                 ['PCD_16', 'PCD_17']       NaN  \n",
       "3                    ['COASTLINE', 'PCD_16', 'PCD_17']       NaN  \n",
       "4                    ['COASTLINE', 'PCD_16', 'PCD_17']       NaN  \n",
       "5                    ['COASTLINE', 'PCD_16', 'PCD_17']       NaN  \n",
       "6                                                   []       NaN  \n",
       "7                                        ['COASTLINE']       NaN  \n",
       "8                                        ['COASTLINE']       NaN  \n",
       "9           ['PCD_16', 'PCD_17', 'CASE2_S', 'BPAC_ON']  0.008512  \n",
       "10   ['PCD_16', 'PCD_17', 'CASE2_ANOM', 'CASE2_S', ...  0.021645  \n",
       "11          ['PCD_16', 'PCD_17', 'CASE2_S', 'BPAC_ON']  0.012249  \n",
       "12          ['PCD_16', 'PCD_17', 'CASE2_S', 'BPAC_ON']  0.012419  \n",
       "13   ['PCD_16', 'PCD_17', 'CASE2_ANOM', 'CASE2_S', ...  0.016082  \n",
       "14   ['PCD_16', 'PCD_17', 'OOADB', 'CASE2_ANOM', 'C...  0.016887  \n",
       "15   ['PCD_16', 'PCD_17', 'CASE2_ANOM', 'CASE2_S', ...  0.017644  \n",
       "16   ['PCD_16', 'PCD_17', 'OOADB', 'CASE2_S', 'BPAC...  0.010962  \n",
       "17                     ['OOADB', 'CASE2_S', 'BPAC_ON'] -0.028689  \n",
       "18                   ['COASTLINE', 'PCD_16', 'PCD_17']       NaN  \n",
       "19                   ['COASTLINE', 'PCD_16', 'PCD_17']       NaN  \n",
       "20   ['PCD_16', 'PCD_17', 'OOADB', 'CASE2_S', 'BPAC...  0.002568  \n",
       "21                                ['PCD_16', 'PCD_17']       NaN  \n",
       "22                                ['PCD_16', 'PCD_17']       NaN  \n",
       "23                                ['PCD_16', 'PCD_17']       NaN  \n",
       "24                                           ['OOADB'] -0.131185  \n",
       "25                                                  []       NaN  \n",
       "26                                                  []       NaN  \n",
       "27                   ['COASTLINE', 'PCD_16', 'PCD_17']       NaN  \n",
       "28                   ['COASTLINE', 'PCD_16', 'PCD_17']       NaN  \n",
       "29                   ['COASTLINE', 'PCD_16', 'PCD_17']       NaN  \n",
       "..                                                 ...       ...  \n",
       "96                   ['COASTLINE', 'PCD_16', 'PCD_17']       NaN  \n",
       "97                                                  []       NaN  \n",
       "98                                                  []       NaN  \n",
       "99                                                  []       NaN  \n",
       "100                                                 []       NaN  \n",
       "101                                                 []       NaN  \n",
       "102                                                 []       NaN  \n",
       "103                                                 []       NaN  \n",
       "104                                                 []       NaN  \n",
       "105                                                 []       NaN  \n",
       "106                                                 []       NaN  \n",
       "107                                                 []       NaN  \n",
       "108                                      ['COASTLINE']       NaN  \n",
       "109                                                 []       NaN  \n",
       "110                                                 []       NaN  \n",
       "111                                      ['COASTLINE']       NaN  \n",
       "112                                                 []       NaN  \n",
       "113                                                 []       NaN  \n",
       "114                                      ['COASTLINE']       NaN  \n",
       "115                                                 []       NaN  \n",
       "116                                                 []       NaN  \n",
       "117                                                 []       NaN  \n",
       "118                                      ['COASTLINE']       NaN  \n",
       "119                                      ['COASTLINE']       NaN  \n",
       "120                                                 []       NaN  \n",
       "121                                      ['COASTLINE']       NaN  \n",
       "122                                      ['COASTLINE']       NaN  \n",
       "123                                      ['COASTLINE']       NaN  \n",
       "124                                                 []       NaN  \n",
       "125                                                 []       NaN  \n",
       "\n",
       "[126 rows x 11 columns]"
      ]
     },
     "execution_count": 16,
     "metadata": {},
     "output_type": "execute_result"
    }
   ],
   "source": [
    "dataHolder['rho_w_06'] = map(rho_w,dataHolder['nrrs_06'])\n",
    "dataHolder"
   ]
  },
  {
   "cell_type": "code",
   "execution_count": 15,
   "metadata": {
    "collapsed": false
   },
   "outputs": [],
   "source": [
    "# The term centroid refers to the fact the it was used the averaged position of locations for given sampling site.\n",
    "#outputfile= \"/home/jobel/Dropbox/ElinasPaper/data_4_elina/pixEX_centroids/DataHolders/meris_pixel_flags_\"+ windowSize +'x'+windowSize +'_'+processor +'_centroids_radiometry.txt'\n",
    "#dataHolder.to_csv(path_or_buf=outputfile , sep=\"\\t\")"
   ]
  },
  {
   "cell_type": "markdown",
   "metadata": {},
   "source": [
    "# Aggregating the data"
   ]
  },
  {
   "cell_type": "code",
   "execution_count": 17,
   "metadata": {
    "collapsed": false
   },
   "outputs": [
    {
     "data": {
      "text/plain": [
       "[(('20100818', 'H6'), {'rho_w_06': []}),\n",
       " (('20100818', 'H7'), {'rho_w_06': []}),\n",
       " (('20110715', 'So32'), {'rho_w_06': [0.020601666736398433]})]"
      ]
     },
     "execution_count": 17,
     "metadata": {},
     "output_type": "execute_result"
    }
   ],
   "source": [
    "# Initializing keys of the data dictionary (dd)\n",
    "dd = dict([((dataHolder['meris_date'][i],dataHolder['Name'][i]),{'rho_w_06':[] }) for i, value in enumerate(dataHolder['meris_date']) if dataHolder['nrrs_06'][i] != np.nan])\n",
    "\n",
    "for i, value in enumerate(dataHolder['meris_date']):    \n",
    "    if dataHolder[\"rho_w_06\"][i] != \"\" and dataHolder['rho_w_06'][i] >0:\n",
    "        dd[(dataHolder['meris_date'][i],dataHolder['Name'][i])]['rho_w_06'].append(dataHolder['rho_w_06'][i])\n",
    "    #dd[].append(value)\n",
    "dd.items()[:3]\n"
   ]
  },
  {
   "cell_type": "markdown",
   "metadata": {},
   "source": [
    "## Note how we have reflectance values where we have not in nrrs_06 (i.e. rho_w_06). \n",
    "## Therefore, as the rho_w_06 nan values correspond to off data of SPM. We can use the rho_w_06 to derive a model to retrieve Turbidity from MERIS MEGS.\n",
    "\n",
    "### TODO: Check which flags were raised, for those stations, and use the recurrent flag to raise the flag while checking the quality of the pixels."
   ]
  },
  {
   "cell_type": "code",
   "execution_count": 18,
   "metadata": {
    "collapsed": false
   },
   "outputs": [
    {
     "name": "stderr",
     "output_type": "stream",
     "text": [
      "/usr/local/lib/python2.7/dist-packages/numpy/core/_methods.py:59: RuntimeWarning: Mean of empty slice.\n",
      "  warnings.warn(\"Mean of empty slice.\", RuntimeWarning)\n",
      "/usr/local/lib/python2.7/dist-packages/numpy/core/_methods.py:83: RuntimeWarning: Degrees of freedom <= 0 for slice\n",
      "  warnings.warn(\"Degrees of freedom <= 0 for slice\", RuntimeWarning)\n"
     ]
    },
    {
     "data": {
      "text/plain": [
       "{('20100818', 'B1'): {'mean': 0.0061477217890349208,\n",
       "  'nobs': 9,\n",
       "  'std': 0.00080039686147011669},\n",
       " ('20100818', 'H2'): {'mean': 0.0060483408062434784,\n",
       "  'nobs': 9,\n",
       "  'std': 0.00095445626809122187},\n",
       " ('20100818', 'H3'): {'mean': nan, 'nobs': 0, 'std': nan},\n",
       " ('20100818', 'H4'): {'mean': nan, 'nobs': 0, 'std': nan},\n",
       " ('20100818', 'H5'): {'mean': nan, 'nobs': 0, 'std': nan},\n",
       " ('20100818', 'H6'): {'mean': nan, 'nobs': 0, 'std': nan},\n",
       " ('20100818', 'H7'): {'mean': nan, 'nobs': 0, 'std': nan},\n",
       " ('20100820', 'B1'): {'mean': nan, 'nobs': 0, 'std': nan},\n",
       " ('20100820', 'H2'): {'mean': 0.0067734822747883561,\n",
       "  'nobs': 9,\n",
       "  'std': 0.00096509336157430921},\n",
       " ('20100820', 'H4'): {'mean': nan, 'nobs': 0, 'std': nan},\n",
       " ('20110715', 'S126'): {'mean': nan, 'nobs': 0, 'std': nan},\n",
       " ('20110715', 'So10'): {'mean': 0.014550038021771801,\n",
       "  'nobs': 8,\n",
       "  'std': 0.0039825012660333614},\n",
       " ('20110715', 'So11'): {'mean': 0.0025683638969511927, 'nobs': 1, 'std': 0.0},\n",
       " ('20110715', 'So32'): {'mean': 0.020601666736398433, 'nobs': 1, 'std': 0.0}}"
      ]
     },
     "execution_count": 18,
     "metadata": {},
     "output_type": "execute_result"
    }
   ],
   "source": [
    "data = {}\n",
    "data['rho_w_06'] = dict([((key,{\"mean\": np.mean(dd[key]['rho_w_06']), \"nobs\":len(dd[key]['rho_w_06']), \"std\":np.std(dd[key]['rho_w_06'])})) for key in dd.keys()])\n",
    "data['rho_w_06']"
   ]
  },
  {
   "cell_type": "markdown",
   "metadata": {},
   "source": [
    "# Calculating tubidity based on Nechad et al 2009."
   ]
  },
  {
   "cell_type": "markdown",
   "metadata": {},
   "source": [
    "#TODO: Add the latex equation for turbidity algorithm"
   ]
  },
  {
   "cell_type": "code",
   "execution_count": 19,
   "metadata": {
    "collapsed": false
   },
   "outputs": [],
   "source": [
    "def turbidity_620(rho_w_06):\n",
    "    # According with Nechad et al 2009.\n",
    "    # Used as well within the coastcolour level 2 products.\n",
    "    return ((174.41 *  rho_w_06) / (1-(rho_w_06 / 0.1533))) + 0.39"
   ]
  },
  {
   "cell_type": "markdown",
   "metadata": {},
   "source": [
    "# Using Elinas Algorithm to get the SPM from turbidity\n",
    "Use the [IPython's Rich Display System](http://nbviewer.ipython.org/github/ipython/ipython/blob/1.x/examples/notebooks/Part%205%20-%20Rich%20Display%20System.ipynb) to know more about how to add Math, Images, Videos, etc.. to an ipython notebook.\n"
   ]
  },
  {
   "cell_type": "code",
   "execution_count": 20,
   "metadata": {
    "collapsed": false
   },
   "outputs": [
    {
     "data": {
      "text/latex": [
       "$$\\text{SPM} = \\text{turbidity}_{swe} \\times 0.9218 - 0.0416$$"
      ],
      "text/plain": [
       "<IPython.core.display.Math at 0x7f1ef059ad10>"
      ]
     },
     "execution_count": 20,
     "metadata": {},
     "output_type": "execute_result"
    }
   ],
   "source": [
    "Math(r'\\text{SPM} = \\text{turbidity}_{swe} \\times 0.9218 - 0.0416')"
   ]
  },
  {
   "cell_type": "code",
   "execution_count": 21,
   "metadata": {
    "collapsed": false
   },
   "outputs": [],
   "source": [
    "def calculate_spm_from_turbidity(turbidity):\n",
    "    return 0.9218 * turbidity - 0.0416"
   ]
  },
  {
   "cell_type": "markdown",
   "metadata": {},
   "source": [
    "## Loading insitu data"
   ]
  },
  {
   "cell_type": "code",
   "execution_count": 22,
   "metadata": {
    "collapsed": false
   },
   "outputs": [
    {
     "data": {
      "text/plain": [
       "Index([u'date_string', u'Area', u'Station', u'LAT', u'LON', u'Station_Type', u'mean_insitu_TSPM', u'insitu_stdev_TSPM', u'mean_insitu_SPIM', u'insitu_stdev_SPIM', u'mean_insitu_SPOM', u'insitu_stdev_SPOM', u'mean_insitu_Turbidity_NormalMode', u'insitu_stdev_Turbidity', u'ratio_SPIM_TSPM'], dtype='object')"
      ]
     },
     "execution_count": 22,
     "metadata": {},
     "output_type": "execute_result"
    }
   ],
   "source": [
    "# Loading data using pandas\n",
    "filepath = \"/home/jobel/Dropbox/ElinasPaper/sourceData/Elina_TSPM_2010_2014.txt\"\n",
    "insitu = pd.read_csv(sep = \"\\t\", filepath_or_buffer = filepath)\n",
    "insitu.rename(columns = {'Date':'date_string'}, inplace=True)\n",
    "insitu.keys()"
   ]
  },
  {
   "cell_type": "code",
   "execution_count": 23,
   "metadata": {
    "collapsed": false
   },
   "outputs": [
    {
     "data": {
      "text/plain": [
       "'20100817'"
      ]
     },
     "execution_count": 23,
     "metadata": {},
     "output_type": "execute_result"
    }
   ],
   "source": [
    "# date_string should be a str not an integer\n",
    "insitu['date_string'] = map(str, insitu['date_string'])\n",
    "insitu['date_string'][0]"
   ]
  },
  {
   "cell_type": "code",
   "execution_count": 24,
   "metadata": {
    "collapsed": false
   },
   "outputs": [
    {
     "data": {
      "text/plain": [
       "[(('20110820', 'U13'), {'mean': 2.9199999999999999}),\n",
       " (('20100817', 'H7'), {'mean': 3.1499999999999999}),\n",
       " (('20110717', 'So11'), {'mean': 10.99})]"
      ]
     },
     "execution_count": 24,
     "metadata": {},
     "output_type": "execute_result"
    }
   ],
   "source": [
    "# Grouping insitu data and adding a key\n",
    "# NOTE: that we are calling the mean function here, however there is only one value, therefore mean = the original value.\n",
    "# TODO: Find a better implementation that will not use the mean, as it may create confusion.\n",
    "data[\"TURBIDITY_INSITU\"] = dict(insitu.groupby((\"date_string\",\"Station\"))[\"mean_insitu_Turbidity_NormalMode\"].mean())\n",
    "data[\"TURBIDITY_INSITU\"] = dict([(k, {\"mean\":v}) for k, v in data[\"TURBIDITY_INSITU\"].items()])\n",
    "#data[\"TURBIDITY_INSITU\"].items()[:3]\n",
    "#\n",
    "data[\"SPM_insitu\"] = dict(insitu.groupby((\"date_string\",\"Station\"))[\"mean_insitu_TSPM\"].mean())\n",
    "data[\"SPM_insitu\"] = dict([(k, {\"mean\":v}) for k, v in data[\"SPM_insitu\"].items()])\n",
    "data[\"SPM_insitu\"].items()[:3]"
   ]
  },
  {
   "cell_type": "markdown",
   "metadata": {},
   "source": [
    "# Joining with mean values"
   ]
  },
  {
   "cell_type": "code",
   "execution_count": 25,
   "metadata": {
    "collapsed": false
   },
   "outputs": [
    {
     "data": {
      "text/plain": [
       "{('20100818', 'B1'): {'SPM_Elinas': 2.0047960000000002,\n",
       "  'SPM_Nechad_Elinas': 1.3475705692843143,\n",
       "  'SPM_insitu': 1.6599999999999999,\n",
       "  'TURBIDITY_INSITU': 2.2200000000000002,\n",
       "  'rho_w_06': 0.0061477217890349208,\n",
       "  'turbidity_Nechad_620': 1.5070194936909465},\n",
       " ('20100818', 'H2'): {'SPM_Elinas': 1.2397019999999999,\n",
       "  'SPM_Nechad_Elinas': 1.3302417690359267,\n",
       "  'SPM_insitu': 1.6699999999999999,\n",
       "  'TURBIDITY_INSITU': 1.3899999999999999,\n",
       "  'rho_w_06': 0.0060483408062434784,\n",
       "  'turbidity_Nechad_620': 1.4882206216488685},\n",
       " ('20100820', 'H2'): {'SPM_Elinas': 1.3687539999999998,\n",
       "  'SPM_Nechad_Elinas': 1.457222759951716,\n",
       "  'SPM_insitu': 1.6499999999999999,\n",
       "  'TURBIDITY_INSITU': 1.53,\n",
       "  'rho_w_06': 0.0067734822747883561,\n",
       "  'turbidity_Nechad_620': 1.6259739205377697},\n",
       " ('20110715', 'So10'): {'SPM_Elinas': 5.9224459999999999,\n",
       "  'SPM_Nechad_Elinas': 2.9024315152233604,\n",
       "  'SPM_insitu': 8.4399999999999995,\n",
       "  'TURBIDITY_INSITU': 6.4699999999999998,\n",
       "  'rho_w_06': 0.014550038021771801,\n",
       "  'turbidity_Nechad_620': 3.1937855448289874},\n",
       " ('20110715', 'So11'): {'SPM_Elinas': 11.914145999999999,\n",
       "  'SPM_Nechad_Elinas': 0.7378566399725538,\n",
       "  'SPM_insitu': 10.99,\n",
       "  'TURBIDITY_INSITU': 12.970000000000001,\n",
       "  'rho_w_06': 0.0025683638969511927,\n",
       "  'turbidity_Nechad_620': 0.84558108046490976},\n",
       " ('20110715', 'So32'): {'SPM_Elinas': 4.1341540000000006,\n",
       "  'SPM_Nechad_Elinas': 4.1442734745910608,\n",
       "  'SPM_insitu': 3.0099999999999998,\n",
       "  'TURBIDITY_INSITU': 4.5300000000000002,\n",
       "  'rho_w_06': 0.020601666736398433,\n",
       "  'turbidity_Nechad_620': 4.5409779503049039}}"
      ]
     },
     "execution_count": 25,
     "metadata": {},
     "output_type": "execute_result"
    }
   ],
   "source": [
    "# joining the dictionaries, meris_aggregate will have the key of 'TURBIDITY_AVG_INSITU' with is value\n",
    "data[\"mean_joined_data\"] = {}\n",
    "for k in sorted(data['rho_w_06'].keys()):\n",
    "    window_k = (meris_matched_dates[k[0]], k[1])\n",
    "    # Taking out all the nan values\n",
    "    if data['rho_w_06'][k][\"mean\"] > 0:\n",
    "        data[\"mean_joined_data\"][k] = {\"TURBIDITY_INSITU\":data[\"TURBIDITY_INSITU\"][window_k][\"mean\"],\n",
    "                                       \"SPM_insitu\":data[\"SPM_insitu\"][window_k][\"mean\"],\n",
    "                                       \"turbidity_Nechad_620\":turbidity_620(data['rho_w_06'][k][\"mean\"]),\n",
    "                                       'rho_w_06':data['rho_w_06'][k][\"mean\"],\n",
    "                                       \"SPM_Elinas\":calculate_spm_from_turbidity(data[\"TURBIDITY_INSITU\"][window_k][\"mean\"]),\n",
    "                                       \"SPM_Nechad_Elinas\":calculate_spm_from_turbidity(turbidity_620(data['rho_w_06'][k][\"mean\"]))\n",
    "                                       }\n",
    "data[\"mean_joined_data\"]"
   ]
  },
  {
   "cell_type": "markdown",
   "metadata": {},
   "source": [
    "## Sanity check"
   ]
  },
  {
   "cell_type": "code",
   "execution_count": 26,
   "metadata": {
    "collapsed": false
   },
   "outputs": [],
   "source": [
    "%matplotlib inline\n",
    "from IPython.core.pylabtools import figsize\n",
    "import matplotlib.pyplot as plt\n",
    "from matplotlib import colors"
   ]
  },
  {
   "cell_type": "code",
   "execution_count": 39,
   "metadata": {
    "collapsed": false
   },
   "outputs": [
    {
     "data": {
      "text/plain": [
       "[0, 12, 0, 12]"
      ]
     },
     "execution_count": 39,
     "metadata": {},
     "output_type": "execute_result"
    },
    {
     "data": {
      "image/png": "[encoded data removed]",
      "text/plain": [
       "<matplotlib.figure.Figure at 0x7f1ec5e88850>"
      ]
     },
     "metadata": {},
     "output_type": "display_data"
    }
   ],
   "source": [
    "fig, ax = plt.subplots()\n",
    "\n",
    "x, y = [],[]\n",
    "for k in data[\"mean_joined_data\"]:\n",
    "    x.append(data[\"mean_joined_data\"][k]['SPM_insitu'])\n",
    "    y.append(data[\"mean_joined_data\"][k]['SPM_Nechad_Elinas'])\n",
    "ax.set_xlabel(\"SPM_insitu\")   \n",
    "ax.set_ylabel(\"SPM_modelled\")#turbidity_Nechad\n",
    " \n",
    "plt.scatter(x= x, y=y)\n",
    "plt.axis([0, 12, 0, 12])\n"
   ]
  },
  {
   "cell_type": "code",
   "execution_count": 32,
   "metadata": {
    "collapsed": false
   },
   "outputs": [
    {
     "data": {
      "text/html": [
       "<div style=\"max-height:1000px;max-width:1500px;overflow:auto;\">\n",
       "<table border=\"1\" class=\"dataframe\">\n",
       "  <thead>\n",
       "    <tr>\n",
       "      <th></th>\n",
       "      <th colspan=\"2\" halign=\"left\">20100818</th>\n",
       "      <th>20100820</th>\n",
       "      <th colspan=\"3\" halign=\"left\">20110715</th>\n",
       "    </tr>\n",
       "    <tr>\n",
       "      <th></th>\n",
       "      <th>B1</th>\n",
       "      <th>H2</th>\n",
       "      <th>H2</th>\n",
       "      <th>So10</th>\n",
       "      <th>So11</th>\n",
       "      <th>So32</th>\n",
       "    </tr>\n",
       "  </thead>\n",
       "  <tbody>\n",
       "    <tr>\n",
       "      <th>SPM_Elinas</th>\n",
       "      <td> 2.004796</td>\n",
       "      <td> 1.239702</td>\n",
       "      <td> 1.368754</td>\n",
       "      <td> 5.922446</td>\n",
       "      <td> 11.914146</td>\n",
       "      <td> 4.134154</td>\n",
       "    </tr>\n",
       "    <tr>\n",
       "      <th>SPM_Nechad_Elinas</th>\n",
       "      <td> 1.347571</td>\n",
       "      <td> 1.330242</td>\n",
       "      <td> 1.457223</td>\n",
       "      <td> 2.902432</td>\n",
       "      <td>  0.737857</td>\n",
       "      <td> 4.144273</td>\n",
       "    </tr>\n",
       "    <tr>\n",
       "      <th>SPM_insitu</th>\n",
       "      <td> 1.660000</td>\n",
       "      <td> 1.670000</td>\n",
       "      <td> 1.650000</td>\n",
       "      <td> 8.440000</td>\n",
       "      <td> 10.990000</td>\n",
       "      <td> 3.010000</td>\n",
       "    </tr>\n",
       "    <tr>\n",
       "      <th>TURBIDITY_INSITU</th>\n",
       "      <td> 2.220000</td>\n",
       "      <td> 1.390000</td>\n",
       "      <td> 1.530000</td>\n",
       "      <td> 6.470000</td>\n",
       "      <td> 12.970000</td>\n",
       "      <td> 4.530000</td>\n",
       "    </tr>\n",
       "    <tr>\n",
       "      <th>rho_w_06</th>\n",
       "      <td> 0.006148</td>\n",
       "      <td> 0.006048</td>\n",
       "      <td> 0.006773</td>\n",
       "      <td> 0.014550</td>\n",
       "      <td>  0.002568</td>\n",
       "      <td> 0.020602</td>\n",
       "    </tr>\n",
       "    <tr>\n",
       "      <th>turbidity_Nechad_620</th>\n",
       "      <td> 1.507019</td>\n",
       "      <td> 1.488221</td>\n",
       "      <td> 1.625974</td>\n",
       "      <td> 3.193786</td>\n",
       "      <td>  0.845581</td>\n",
       "      <td> 4.540978</td>\n",
       "    </tr>\n",
       "  </tbody>\n",
       "</table>\n",
       "</div>"
      ],
      "text/plain": [
       "                      20100818            20100820  20110715             \\\n",
       "                            B1        H2        H2      So10       So11   \n",
       "SPM_Elinas            2.004796  1.239702  1.368754  5.922446  11.914146   \n",
       "SPM_Nechad_Elinas     1.347571  1.330242  1.457223  2.902432   0.737857   \n",
       "SPM_insitu            1.660000  1.670000  1.650000  8.440000  10.990000   \n",
       "TURBIDITY_INSITU      2.220000  1.390000  1.530000  6.470000  12.970000   \n",
       "rho_w_06              0.006148  0.006048  0.006773  0.014550   0.002568   \n",
       "turbidity_Nechad_620  1.507019  1.488221  1.625974  3.193786   0.845581   \n",
       "\n",
       "                                \n",
       "                          So32  \n",
       "SPM_Elinas            4.134154  \n",
       "SPM_Nechad_Elinas     4.144273  \n",
       "SPM_insitu            3.010000  \n",
       "TURBIDITY_INSITU      4.530000  \n",
       "rho_w_06              0.020602  \n",
       "turbidity_Nechad_620  4.540978  "
      ]
     },
     "execution_count": 32,
     "metadata": {},
     "output_type": "execute_result"
    }
   ],
   "source": [
    "# converting to Pandas Dataframe for easy visualization and easy export of the table\n",
    "results_df = pd.DataFrame(data[\"mean_joined_data\"])\n",
    "results_df "
   ]
  },
  {
   "cell_type": "code",
   "execution_count": 33,
   "metadata": {
    "collapsed": false
   },
   "outputs": [],
   "source": [
    "filename = \"/home/jobel/Dropbox/ElinasPaper/data_4_elina/Results/MERIS_Turbidity_vs_Insitu_centroids_\"+ windowSize +'x'+windowSize +'_'+processor +'.txt'\n",
    "results_df.to_csv(filename, sep=\"\\t\")"
   ]
  },
  {
   "cell_type": "markdown",
   "metadata": {},
   "source": [
    "# Calculating the Mean Normalized Bias and The RMS of the Relative Differences"
   ]
  },
  {
   "cell_type": "code",
   "execution_count": 34,
   "metadata": {
    "collapsed": false
   },
   "outputs": [
    {
     "data": {
      "text/latex": [
       "$$\\textbf{MNB}= \\textbf{mean} \\left[\\frac{y_{i}^{MERIS}- x_{i}^{insitu}}{x_{i}^{insitu}} \\right] \\times 100$$"
      ],
      "text/plain": [
       "<IPython.core.display.Math at 0x7f1ec78cfa10>"
      ]
     },
     "execution_count": 34,
     "metadata": {},
     "output_type": "execute_result"
    }
   ],
   "source": [
    "Math(r'\\textbf{MNB}= \\textbf{mean} \\left[\\frac{y_{i}^{MERIS}- x_{i}^{insitu}}{x_{i}^{insitu}} \\right] \\times 100')"
   ]
  },
  {
   "cell_type": "code",
   "execution_count": 35,
   "metadata": {
    "collapsed": false
   },
   "outputs": [
    {
     "data": {
      "text/latex": [
       "$$\\textbf{RMS}_{RD}= \\textbf{stdev} \\left[\\frac{y_{i}^{MERIS}- x_{i}^{insitu}}{x_{i}^{insitu}} \\right] \\times 100$$"
      ],
      "text/plain": [
       "<IPython.core.display.Math at 0x7f1ec721a690>"
      ]
     },
     "execution_count": 35,
     "metadata": {},
     "output_type": "execute_result"
    }
   ],
   "source": [
    "Math(r'\\textbf{RMS}_{RD}= \\textbf{stdev} \\left[\\frac{y_{i}^{MERIS}- x_{i}^{insitu}}{x_{i}^{insitu}} \\right] \\times 100')"
   ]
  },
  {
   "cell_type": "markdown",
   "metadata": {},
   "source": [
    "## Turbidity insitu vs Elinas calculated and MERIS Nechad"
   ]
  },
  {
   "cell_type": "code",
   "execution_count": 36,
   "metadata": {
    "collapsed": false
   },
   "outputs": [
    {
     "name": "stdout",
     "output_type": "stream",
     "text": [
      "turbidity_Nechad_620: 3x3, Processor: MEGS, MNB: -27.1087261373, RMS: 36.5472315259, NOBS: 6\n"
     ]
    }
   ],
   "source": [
    "RD = []\n",
    "for key in data[\"mean_joined_data\"].keys():\n",
    "    insitu = data[\"mean_joined_data\"][key]['TURBIDITY_INSITU']\n",
    "    Meris = data[\"mean_joined_data\"][key][\"turbidity_Nechad_620\"]\n",
    "    RD.append( (Meris - insitu) / insitu)\n",
    "MNB = np.array(RD).mean() * 100\n",
    "RMS = np.array(RD).std() * 100\n",
    "NOBS = len(RD)\n",
    "print (\"turbidity_Nechad_620: \"+ windowSize +'x'+windowSize +', Processor: '+ processor+ \", MNB: \"+ str(MNB)+ \", RMS: \"+ str(RMS)+ \", NOBS: \"+ str(NOBS))"
   ]
  },
  {
   "cell_type": "code",
   "execution_count": 34,
   "metadata": {
    "collapsed": false
   },
   "outputs": [
    {
     "name": "stdout",
     "output_type": "stream",
     "text": [
      "SPM_Nechad_Elinas: 3x3, Processor: MEGS, MNB: -28.6771548463, RMS: 41.6283541416, NOBS: 6\n"
     ]
    }
   ],
   "source": [
    "RD = []\n",
    "for key in data[\"mean_joined_data\"].keys():\n",
    "    insitu = data[\"mean_joined_data\"][key]['SPM_insitu']\n",
    "    Meris = data[\"mean_joined_data\"][key][\"SPM_Nechad_Elinas\"]\n",
    "    RD.append( (Meris - insitu) / insitu)\n",
    "MNB = np.array(RD).mean() * 100\n",
    "RMS = np.array(RD).std() * 100\n",
    "NOBS = len(RD)\n",
    "print (\"SPM_Nechad_Elinas: \"+ windowSize +'x'+windowSize +', Processor: '+ processor+ \", MNB: \"+ str(MNB)+ \", RMS: \"+ str(RMS)+ \", NOBS: \"+ str(NOBS))"
   ]
  },
  {
   "cell_type": "code",
   "execution_count": 35,
   "metadata": {
    "collapsed": false
   },
   "outputs": [
    {
     "name": "stdout",
     "output_type": "stream",
     "text": [
      "SPM_Elinas: 3x3, Processor: MEGS, MNB: -1.0188790255, RMS: 24.9497330619, NOBS: 6\n"
     ]
    }
   ],
   "source": [
    "RD = []\n",
    "for key in data[\"mean_joined_data\"].keys():\n",
    "    insitu = data[\"mean_joined_data\"][key]['SPM_insitu']\n",
    "    Meris = data[\"mean_joined_data\"][key][\"SPM_Elinas\"]\n",
    "    RD.append( (Meris - insitu) / insitu)\n",
    "MNB = np.array(RD).mean() * 100\n",
    "RMS = np.array(RD).std() * 100\n",
    "NOBS = len(RD)\n",
    "print (\"SPM_Elinas: \"+ windowSize +'x'+windowSize +', Processor: '+ processor+ \", MNB: \"+ str(MNB)+ \", RMS: \"+ str(RMS)+ \", NOBS: \"+ str(NOBS))"
   ]
  },
  {
   "cell_type": "markdown",
   "metadata": {},
   "source": [
    "# Validating with MERIS datasets from 2010 and 2008 match-up time window of 2 hours"
   ]
  },
  {
   "cell_type": "code",
   "execution_count": 36,
   "metadata": {
    "collapsed": false
   },
   "outputs": [],
   "source": [
    "# Creating the pins_dictionay\n",
    "#\n",
    "pinSrcDir = '/home/jobel/Dropbox/ElinasPaper/data_4_elina/pins_4_validation/'\n",
    "pin_dict = get_pins_dict(pinSrcDir)"
   ]
  },
  {
   "cell_type": "code",
   "execution_count": 37,
   "metadata": {
    "collapsed": false
   },
   "outputs": [
    {
     "data": {
      "text/plain": [
       "{'20080709': {'MERIS': '/media/jobel/SeagateDrive/eodata2014/level2/MEGS/20080709_092524/output/MER_FSG_2PNMAP20080709_092524_000000392070_00122_33242_0001.nc',\n",
       "  'PIN_FILE': '/home/jobel/Dropbox/ElinasPaper/data_4_elina/pins_4_validation/pin_20080709_Asko2008.placemark'},\n",
       " '20080715': {'MERIS': '/media/jobel/SeagateDrive/eodata2014/level2/MEGS/20080715_093646/output/MER_FSG_2PNMAP20080715_093646_000000392070_00208_33328_0001.nc',\n",
       "  'PIN_FILE': '/home/jobel/Dropbox/ElinasPaper/data_4_elina/pins_4_validation/pin_20080715_Asko2008.placemark'},\n",
       " '20080718': {'MERIS': '/media/jobel/SeagateDrive/eodata2014/level2/MEGS/20080718_094226/output/MER_FSG_2PNMAP20080718_094226_000000422070_00251_33371_0001.nc',\n",
       "  'PIN_FILE': '/home/jobel/Dropbox/ElinasPaper/data_4_elina/pins_4_validation/pin_20080718_Asko2008.placemark'},\n",
       " '20080724': {'MERIS': '/media/jobel/SeagateDrive/eodata2014/level2/MEGS/20080724_095349/output/MER_FRG_2PNMAP20080724_095349_000000422070_00337_33457_0001.nc',\n",
       "  'PIN_FILE': '/home/jobel/Dropbox/ElinasPaper/data_4_elina/pins_4_validation/pin_20080724_Asko2008.placemark'},\n",
       " '20080725': {'MERIS': '/media/jobel/SeagateDrive/eodata2014/level2/MEGS/20080725_092233/output/MER_FSG_2PNMAP20080725_092233_000000392070_00351_33471_0001.nc',\n",
       "  'PIN_FILE': '/home/jobel/Dropbox/ElinasPaper/data_4_elina/pins_4_validation/pin_20080725_Asko2008.placemark'},\n",
       " '20080728': {'MERIS': '/media/jobel/SeagateDrive/eodata2014/level2/MEGS/20080728_092815/output/MER_FSG_2PNMAP20080728_092815_000000392070_00394_33514_0001.nc',\n",
       "  'PIN_FILE': '/home/jobel/Dropbox/ElinasPaper/data_4_elina/pins_4_validation/pin_20080728_Asko2008.placemark'},\n",
       " '20080730': {'MERIS': '/media/jobel/SeagateDrive/eodata2014/level2/MEGS/20080730_100506/output/MER_FRG_2PNMAP20080730_100506_000000452070_00423_33543_0001.nc',\n",
       "  'PIN_FILE': '/home/jobel/Dropbox/ElinasPaper/data_4_elina/pins_4_validation/pin_20080730_Asko2008.placemark'},\n",
       " '20080731': {'MERIS': '/media/jobel/SeagateDrive/eodata2014/level2/MEGS/20080731_093356/output/MER_FSG_2PNMAP20080731_093356_000000392070_00437_33557_0001.nc',\n",
       "  'PIN_FILE': '/home/jobel/Dropbox/ElinasPaper/data_4_elina/pins_4_validation/pin_20080731_Asko2008.placemark'},\n",
       " '20100505': {'MERIS': '/media/jobel/SeagateDrive/eodata2014/level2/MEGS/20100505_092512/output/MER_FSG_2PNMAP20100505_092512_000000392089_00122_42761_0001.nc',\n",
       "  'PIN_FILE': '/home/jobel/Dropbox/ElinasPaper/data_4_elina/pins_4_validation/pin_20100505_Asko2010.placemark'},\n",
       " '20100511': {'MERIS': '/media/jobel/SeagateDrive/eodata2014/level2/MEGS/20100511_093636/output/MER_FSG_2PNMAP20100511_093636_000000392089_00208_42847_0001.nc',\n",
       "  'PIN_FILE': '/home/jobel/Dropbox/ElinasPaper/data_4_elina/pins_4_validation/pin_20100511_Asko2010.placemark'},\n",
       " '20100518': {'MERIS': '/media/jobel/SeagateDrive/eodata2014/level2/MEGS/20100518_091642/output/MER_FSG_2PNMAP20100518_091642_000000362089_00308_42947_0001.nc',\n",
       "  'PIN_FILE': '/home/jobel/Dropbox/ElinasPaper/data_4_elina/pins_4_validation/pin_20100518_Asko2010.placemark'},\n",
       " '20100520': {'MERIS': '/media/jobel/SeagateDrive/eodata2014/level2/MEGS/20100520_095336/output/MER_FRG_2PNMAP20100520_095336_000000452089_00337_42976_0001.nc',\n",
       "  'PIN_FILE': '/home/jobel/Dropbox/ElinasPaper/data_4_elina/pins_4_validation/pin_20100520_Asko2010.placemark'},\n",
       " '20100524': {'MERIS': '/media/jobel/SeagateDrive/eodata2014/level2/MEGS/20100524_092803/output/MER_FSG_2PNMAP20100524_092803_000000392089_00394_43033_0001.nc',\n",
       "  'PIN_FILE': '/home/jobel/Dropbox/ElinasPaper/data_4_elina/pins_4_validation/pin_20100524_Asko2010.placemark'},\n",
       " '20100820': {'MERIS': '/media/jobel/SeagateDrive/eodata2014/level2/MEGS/20100820_100208/output/MER_FSG_2PNMAP20100820_100208_000000422092_00151_44293_0001.nc',\n",
       "  'PIN_FILE': '/home/jobel/Dropbox/ElinasPaper/data_4_elina/pins_4_validation/pin_20100820_batched.placemark'}}"
      ]
     },
     "execution_count": 37,
     "metadata": {},
     "output_type": "execute_result"
    }
   ],
   "source": [
    "# Filtering the available meris files and pin files based on Beltran-Abaunza et al (2014).\n",
    "matched_files = {}\n",
    "meris_matchups_dates = [\"20080709\",\"20080715\",\"20080718\",\"20080724\",\"20080725\",\"20080728\",\"20080730\",\"20080731\",\n",
    "                        \"20100505\",\"20100511\",\"20100518\",\"20100520\",\"20100524\",\"20100820\"]\n",
    "for date_string in meris_matchups_dates:\n",
    "    pin_file = pin_dict[date_string]\n",
    "    matched_files[date_string] = {'MERIS':srcDates[date_string]['filepath'], 'PIN_FILE':pin_file}\n",
    "    #\n",
    "matched_files"
   ]
  },
  {
   "cell_type": "code",
   "execution_count": 38,
   "metadata": {
    "collapsed": false
   },
   "outputs": [],
   "source": [
    "\"\"\"\n",
    "__credits__ = [\"José M. Beltrán\"]\n",
    "__license__ = \"GPL-3.0\"\n",
    "__created_on__ = [\"2012-05-03\"]\n",
    "\n",
    "\"\"\"\n",
    "\n",
    "def build_PixEx_graph(meris_filepath, coordinatesFile, outputDir, windowSize, prefix):\n",
    "\n",
    "    '''\n",
    "    Builds an XML request skeleton for the Pixel Extration operator of the\n",
    "    BEAM Software (www.brockmann-consult.com)\n",
    "\n",
    "    inputhPaths:        input path/filename for pixel extraction\n",
    "    coordinatesFile:    input pin file that contains the coordinates Lat Lon for\n",
    "                        pixel extraction\n",
    "    outputDir:          output directory default \n",
    "    windowSize      :   square matrix that defines the window Size around the\n",
    "                        pixel being exported                        \n",
    "    '''\n",
    "    \n",
    "    requestSkeleton =   '<graph id=\\\"SU_BC_WaterS\\\">\\n<version>1.0</version>\\n'\n",
    "    requestSkeleton +=  '   <node id=\\\"PIXEL_EXTRACTION\\\">\\n'\n",
    "    requestSkeleton +=  '       <operator>PixEx</operator>\\n'\n",
    "    requestSkeleton +=  '       <parameters>\\n'\n",
    "    requestSkeleton +=  '           <timeDifference/>\\n'\n",
    "    requestSkeleton +=  '           <matchupFile/>\\n'\n",
    "    requestSkeleton +=  '           <expression/>\\n'\n",
    "    requestSkeleton +=  '           <aggregatorStrategyType>no aggregation</aggregatorStrategyType>\\n'\n",
    "    requestSkeleton +=  '           <extractTimeFromFilename>false</extractTimeFromFilename>\\n'\n",
    "    requestSkeleton +=  '           <dateInterpretationPattern>yyyyMMdd</dateInterpretationPattern>\\n'\n",
    "    requestSkeleton +=  '           <filenameInterpretationPattern>*${startDate}*${endDate}*</filenameInterpretationPattern>\\n'\n",
    "    requestSkeleton +=  '           <exportBands>true</exportBands>\\n'\n",
    "    requestSkeleton +=  '           <exportTiePoints>true</exportTiePoints>\\n'\n",
    "    requestSkeleton +=  '           <exportMasks>true</exportMasks>\\n'\n",
    "    requestSkeleton +=  '           <windowSize>' + windowSize + '</windowSize>\\n'\n",
    "    requestSkeleton +=  '           <outputDir>' + outputDir + '</outputDir>\\n'\n",
    "    requestSkeleton +=  '           <outputFilePrefix>'+ prefix +'</outputFilePrefix>\\n'\n",
    "    requestSkeleton +=  '           <sourceProductPaths>' + meris_filepath + '</sourceProductPaths>\\n'\n",
    "    requestSkeleton +=  '           <coordinatesFile>' + coordinatesFile + '</coordinatesFile>\\n'\n",
    "    requestSkeleton +=  '       </parameters>\\n'\n",
    "    requestSkeleton +=  '   </node>\\n'\n",
    "    requestSkeleton +=  '</graph>\\n'\n",
    "    return requestSkeleton"
   ]
  },
  {
   "cell_type": "code",
   "execution_count": 39,
   "metadata": {
    "collapsed": false
   },
   "outputs": [],
   "source": [
    "# Initializing varibles for pixel Extraction\n",
    "current_gpt_graph = '/home/jobel/Dropbox/ElinasPaper/gpt_graph/current_gpt_graph.xml'\n",
    "destDir = '/home/jobel/Dropbox/ElinasPaper/data_4_elina/pixEX_centroids/MEGS/matchups/'"
   ]
  },
  {
   "cell_type": "markdown",
   "metadata": {},
   "source": [
    "# CAREFUL not to run again the following block as it will start the pixel extraction batch processing. \n",
    "## The block after this will load the data from the pixel extraction. "
   ]
  },
  {
   "cell_type": "code",
   "execution_count": 40,
   "metadata": {
    "collapsed": false
   },
   "outputs": [
    {
     "name": "stdout",
     "output_type": "stream",
     "text": [
      "AcquisitionDate : 20080730\n",
      "Pixel Extraction: Processing file 20080730\n",
      "\n",
      "AcquisitionDate : 20080731\n",
      "Pixel Extraction: Processing file 20080731\n",
      "\n",
      "AcquisitionDate : 20100520\n",
      "Pixel Extraction: Processing file 20100520\n",
      "\n",
      "AcquisitionDate : 20080715\n",
      "Pixel Extraction: Processing file 20080715\n",
      "\n",
      "AcquisitionDate : 20100524\n",
      "Pixel Extraction: Processing file 20100524\n",
      "\n",
      "AcquisitionDate : 20080725\n",
      "Pixel Extraction: Processing file 20080725\n",
      "\n",
      "AcquisitionDate : 20080724\n",
      "Pixel Extraction: Processing file 20080724\n",
      "\n",
      "AcquisitionDate : 20100505\n",
      "Pixel Extraction: Processing file 20100505\n",
      "\n",
      "AcquisitionDate : 20080728\n",
      "Pixel Extraction: Processing file 20080728\n",
      "\n",
      "AcquisitionDate : 20080718\n",
      "Pixel Extraction: Processing file 20080718\n",
      "\n",
      "AcquisitionDate : 20080709\n",
      "Pixel Extraction: Processing file 20080709\n",
      "\n",
      "AcquisitionDate : 20100820\n",
      "Pixel Extraction: Processing file 20100820\n",
      "\n",
      "AcquisitionDate : 20100511\n",
      "Pixel Extraction: Processing file 20100511\n",
      "\n",
      "AcquisitionDate : 20100518\n",
      "Pixel Extraction: Processing file 20100518\n",
      "\n",
      "Bringing happiness to my friends. Your job is done. Enjoy\n"
     ]
    }
   ],
   "source": [
    "from os import remove\n",
    "from os import system\n",
    "\n",
    "from beam.gpt_config import beamHome, beamBinDir, gptProcessor\n",
    "\n",
    "for date_string in matched_files.keys():\n",
    "    acquisitionDate = date_string   \n",
    "    print \"AcquisitionDate : \" + acquisitionDate\n",
    "    coordinatesFile = matched_files[date_string]['PIN_FILE']\n",
    "    meris_filepath = matched_files[date_string]['MERIS']\n",
    "    # You can change the name of the pixel extraction output here_but I like this\n",
    "    outFilePrefix = 'pixEx_'+date_string +'_centroid_'+ windowSize +'x'+windowSize +'_'+processor +'_'\n",
    "    # Building the PixEX graph for batch processing..\n",
    "    # More Magic tricks\n",
    "    request = build_PixEx_graph(meris_filepath= meris_filepath, coordinatesFile=coordinatesFile, outputDir=destDir, windowSize=windowSize, prefix=outFilePrefix)\n",
    "\n",
    "    # Request File should not exist yet\n",
    "    if os.path.exists(current_gpt_graph):\n",
    "        remove(current_gpt_graph)\n",
    "\n",
    "    # Only now it is generated\n",
    "    requestFile = open(current_gpt_graph, 'a')\n",
    "    requestFile.write(request)\n",
    "    requestFile.close()\n",
    "\n",
    "    pixExCommand = gptProcessor + \" \" + current_gpt_graph\n",
    "    print \"Pixel Extraction: Processing file \" + date_string + \"\\n\"\n",
    "    system(pixExCommand)\n",
    "\n",
    "print 'Bringing happiness to my friends. Your job is done. Enjoy'\n"
   ]
  },
  {
   "cell_type": "markdown",
   "metadata": {},
   "source": [
    "# Loading the Extration files\n",
    "follows [Method 4 Elina's] Turbidity and SPM validation-Validation_SPM_with_Matchups"
   ]
  },
  {
   "cell_type": "code",
   "execution_count": null,
   "metadata": {
    "collapsed": false
   },
   "outputs": [],
   "source": []
  },
  {
   "cell_type": "code",
   "execution_count": null,
   "metadata": {
    "collapsed": false
   },
   "outputs": [],
   "source": []
  }
 ],
 "metadata": {
  "kernelspec": {
   "display_name": "Python 2",
   "language": "python",
   "name": "python2"
  },
  "language_info": {
   "codemirror_mode": {
    "name": "ipython",
    "version": 2
   },
   "file_extension": ".py",
   "mimetype": "text/x-python",
   "name": "python",
   "nbconvert_exporter": "python",
   "pygments_lexer": "ipython2",
   "version": "2.7.6"
  }
 },
 "nbformat": 4,
 "nbformat_minor": 0
}
