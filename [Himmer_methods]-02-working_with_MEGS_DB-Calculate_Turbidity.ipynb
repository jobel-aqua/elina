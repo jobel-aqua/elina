{
 "metadata": {
  "name": "",
  "signature": "sha256:7f9fdac9d5df93284542607de8d2d450be34aad68ef0e9e4f22df9fc104b4a26"
 },
 "nbformat": 3,
 "nbformat_minor": 0,
 "worksheets": [
  {
   "cells": [
    {
     "cell_type": "code",
     "collapsed": false,
     "input": [
      "__credits__ = [\"Jos\u00e9 M. Beltr\u00e1n\"]\n",
      "__license__ = \"GPL-3.0\"\n",
      "__created_on__ = [\"2012-10-29\"]\n",
      "__modified_on__ = { \"2014-10-29\": [\"Notebook was renamed\",\"MEGS_DB populated successfully\"]}"
     ],
     "language": "python",
     "metadata": {},
     "outputs": []
    },
    {
     "cell_type": "code",
     "collapsed": false,
     "input": [
      "__accompanying_paper__ : [\"Beltran-Abaunza and Kratzer, 2014, Himmerfj\u00e4rden\"]"
     ],
     "language": "python",
     "metadata": {},
     "outputs": []
    },
    {
     "cell_type": "code",
     "collapsed": false,
     "input": [
      "__preceding_notebooks__ : [\"[Himmer_methods]-01-building_MEGS_DB\", \"[Himmer_methods]-02-working_with_MEGS_DB-inserting_quality_data\"]\n",
      "__anticipate_notebooks __ : [\"[Himmer_methods]-03-working_with_MEGS_DB-weekly_per_year\"]\n",
      "__status__ : [\"testing\"]"
     ],
     "language": "python",
     "metadata": {},
     "outputs": []
    },
    {
     "cell_type": "markdown",
     "metadata": {},
     "source": [
      "# Using the mongoDB "
     ]
    },
    {
     "cell_type": "markdown",
     "metadata": {},
     "source": [
      "## MEGS_DB mongoDB database includes MERIS collocated datasets for ODESA 1.2.4. /MEGS 8.1  MERIS from the 3rd reprocessing."
     ]
    },
    {
     "cell_type": "markdown",
     "metadata": {},
     "source": [
      "** in a terminal check:**\n",
      "    \n",
      "    ps -xa | grep mongod \n",
      "    \n",
      "to get the location of the mongodb config file\n",
      "\n",
      "My data base is at \n",
      "\n",
      "    dbpath=/var/lib/mongodb"
     ]
    },
    {
     "cell_type": "code",
     "collapsed": false,
     "input": [
      "# WARNING THE FOLLOWING CODE WILL DESTROY THE DATABASE IN ORDER TO START FROM SCRATCH.\n",
      "# dropping a database via pymongo.\n",
      "\n",
      "#from pymongo import Connection\n",
      "#c = Connection()\n",
      "#c.drop_database('MEGS_quality')"
     ],
     "language": "python",
     "metadata": {},
     "outputs": [],
     "prompt_number": 12
    },
    {
     "cell_type": "code",
     "collapsed": false,
     "input": [
      "from pymongo import MongoClient\n",
      "# Using MongoDB URI format\n",
      "client = MongoClient('mongodb://localhost:27017/')\n",
      "# Getting a Database.\n",
      "db = client['MEGS_quality'] # MEGS_weekly_spm_modelled # 'MEGS_DB' #quality_turbidity_nechad\n",
      "# Drop a collection\n",
      "#db['rhow_06'].drop()\n",
      "#db['turbidity_nechad'].drop()\n",
      "#db['spm_modelled'].drop()\n",
      "# Getting a Collection\n",
      "db.collection_names()"
     ],
     "language": "python",
     "metadata": {},
     "outputs": [
      {
       "metadata": {},
       "output_type": "pyout",
       "prompt_number": 1,
       "text": [
        "[u'suspended_particle_matter',\n",
        " u'system.indexes',\n",
        " u'chlorophyll_2',\n",
        " u'yellow_substance',\n",
        " u'nrrs_03',\n",
        " u'nrrs_06',\n",
        " u'nrrs_09']"
       ]
      }
     ],
     "prompt_number": 1
    },
    {
     "cell_type": "markdown",
     "metadata": {},
     "source": [
      "## Turbidity and SPM modelled functions (FNU units)\n",
      "See also [ipython notebook](http://localhost:8888/notebooks/%5BMethod%204%20Elina's%5D%20Turbidity%20and%20SPM%20validation-Validation_SPM_with_Matchups-using-reflectance_06.ipynb) \\[Method 4 Elina's\\] Turbidity and SPM validation-Validation\\_SPM\\_with\\_Matchups-using-reflectance\\_06)."
     ]
    },
    {
     "cell_type": "markdown",
     "metadata": {},
     "source": [
      "# Calculating $\\rho_w$ from Rrs\n",
      "\n",
      "The $R_{rs}$ is related to $\\rho_w (\\lambda)$ by:\n",
      "\n",
      "$\\rho_w (\\lambda) = \\pi R_{rs}$\n",
      "\n",
      "\n",
      "$R_{rs}$ in MEGS is the **nrrs** intermediate product\n",
      "\n",
      "**Reference**: [Meris Optical Measurement Protocols](http://hermes.acri.fr/mermaid/dataproto/CO-SCI-ARG-TN-0008_MERIS_Optical_Measurement_Protocols_Issue2_Aug2011.pdf) page 10. \n",
      "\n",
      "See also the ODESA forum [normalization in Odesa](http://www.odesa-info.eu/forum/viewtopic.php?f=16&t=107&p=155&hilit=remote+sensing+reflectance&sid=740420998c703edfaa95a3cc2ad2c027#p155) for details regarding **nrrs**.\n",
      "\n"
     ]
    },
    {
     "cell_type": "code",
     "collapsed": false,
     "input": [
      "import numpy as np"
     ],
     "language": "python",
     "metadata": {},
     "outputs": [],
     "prompt_number": 2
    },
    {
     "cell_type": "code",
     "collapsed": false,
     "input": [
      "def rho_w(Rrs):\n",
      "    return Rrs*np.pi"
     ],
     "language": "python",
     "metadata": {},
     "outputs": [],
     "prompt_number": 3
    },
    {
     "cell_type": "code",
     "collapsed": false,
     "input": [
      "from bigdata import fetch_band_array_from_mongodb\n",
      "# Calculating rhow_06 and inserting into quality db\n",
      "from pymongo import MongoClient\n",
      "# Using MongoDB URI format\n",
      "client = MongoClient('mongodb://localhost:27017/')\n",
      "# Getting a Database.\n",
      "db_name = \"MEGS_quality\"\n",
      "target_db = client[db_name]\n",
      "#\n",
      "from utils.transform_datetime import date_to_week_number # (date_string)\n",
      "from bigdata import NumpyEncoder\n",
      "import json\n",
      "from geotools.meris import turbidity_nechad\n",
      "from geotools.meris import calculate_spm_from_turbidity\n",
      "#\n",
      "# Vectorizing the function\n",
      "f_rhow = np.vectorize(rho_w)\n",
      "#\n",
      "f_turbidity = np.vectorize(turbidity_nechad)\n",
      "# Turbidity should be in FNU units\n",
      "# Using Elina's algorithm to model spm from turbidity\n",
      "f_spm_modelled = np.vectorize(calculate_spm_from_turbidity)\n",
      "#\n",
      "collection_key = \"nrrs_06\"\n",
      "# Building available dates dictionary\n",
      "dates_dict = [doc['meris_date'] for doc in target_db[collection_key].find()]\n",
      "#\n",
      "for date_string in sorted(dates_dict):\n",
      "    week = date_to_week_number(date_string)\n",
      "    month = int(date_string[4:6])\n",
      "    year = int(date_string[0:4])\n",
      "    # Calculate and insert rhow    \n",
      "    nrrs = fetch_band_array_from_mongodb(db_name, collection_key, date_string)\n",
      "    rhow = f_rhow(nrrs)    \n",
      "    json_serialized_band = json.dumps(rhow, cls=NumpyEncoder)\n",
      "    band_key = \"rhow_06\"\n",
      "    try:\n",
      "        target_db[band_key].insert({\"meris_date\":date_string, \"year\":year,\"month\":month, \"week\":week, \"json_data\":json_serialized_band})\n",
      "    except:\n",
      "        print (\"Error inserting\", collection_key)\n",
      "    \n",
      "    turbidity_nechad = f_turbidity(rhow)       \n",
      "    json_serialized_band = json.dumps(turbidity_nechad, cls=NumpyEncoder)\n",
      "    band_key = \"turbidity_nechad\"\n",
      "    try:\n",
      "        target_db[band_key].insert({'meris_date':date_string, 'week':week,'month':month, 'year':year, \"json_data\":json_serialized_band})\n",
      "    except:\n",
      "        print (\"Error inserting in db\",date_string)\n",
      "    #\n",
      "    spm_modelled = f_spm_modelled(turbidity_nechad)  \n",
      "    json_serialized_band = json.dumps(spm_modelled, cls=NumpyEncoder)\n",
      "    band_key = \"spm_modelled\"\n",
      "    try:\n",
      "        target_db[band_key].insert({'meris_date':date_string, 'week':week,'month':month, 'year':year, \"json_data\":json_serialized_band})\n",
      "    except:\n",
      "        print (\"Error inserting in db\",date_string)\n",
      "\n",
      "#\n",
      "target_db.collection_names()\n"
     ],
     "language": "python",
     "metadata": {},
     "outputs": [
      {
       "metadata": {},
       "output_type": "pyout",
       "prompt_number": 4,
       "text": [
        "[u'suspended_particle_matter',\n",
        " u'system.indexes',\n",
        " u'chlorophyll_2',\n",
        " u'yellow_substance',\n",
        " u'nrrs_03',\n",
        " u'nrrs_06',\n",
        " u'nrrs_09',\n",
        " u'rhow_06',\n",
        " u'turbidity_nechad',\n",
        " u'spm_modelled']"
       ]
      }
     ],
     "prompt_number": 4
    },
    {
     "cell_type": "markdown",
     "metadata": {},
     "source": [
      "# Plotting the data"
     ]
    },
    {
     "cell_type": "code",
     "collapsed": false,
     "input": [
      "db_name = \"MEGS_quality\"\n",
      "date_string = \"20100511\"# \"20100511\" # \"20100315\"\n",
      "spm_meris = fetch_band_array_from_mongodb(db_name,\"suspended_particle_matter\", date_string)\n",
      "turbidity = fetch_band_array_from_mongodb(db_name,'turbidity_nechad', date_string)\n",
      "spm_modelled = fetch_band_array_from_mongodb(db_name,'spm_modelled', date_string)\n",
      "nrrs = fetch_band_array_from_mongodb(db_name,'nrrs_06', date_string)"
     ],
     "language": "python",
     "metadata": {},
     "outputs": [],
     "prompt_number": 7
    },
    {
     "cell_type": "code",
     "collapsed": false,
     "input": [
      "import matplotlib.pyplot as plt\n",
      "from mpl_toolkits.axes_grid1 import make_axes_locatable\n",
      "from matplotlib import colors\n",
      "from matplotlib import artist\n",
      "%matplotlib inline"
     ],
     "language": "python",
     "metadata": {},
     "outputs": [],
     "prompt_number": 8
    },
    {
     "cell_type": "code",
     "collapsed": false,
     "input": [
      "# ## Used for dual l2p plotting\n",
      "masked_band = {}\n",
      "\n",
      "masked_band[\"meris\"] = spm_meris\n",
      "masked_band[\"modelled\"] = spm_modelled\n",
      "#masked_band[\"sID\"] = turb[:,:,1]\n",
      "\n",
      "\n",
      "#masked_band[\"SPM\"] = band_array[:,:,0]\n",
      "#masked_band[\"sID\"] = band_array[:,:,1]\n",
      "# Control what to show by subbasin ID\n",
      "#masked_band[\"SPM\"] = np.ma.array(masked_band[\"SPM\"], mask = band_array[:,:,1]!=7)\n",
      "\n",
      "fig = plt.figure()  # figsize=figsize, frameon=False\n",
      "ax = plt.gca()\n",
      "ax.axis('off')\n",
      "fig.patch.set_facecolor('white')\n",
      "plt.suptitle(\"MEGS DATE: \" + date_string[:4] + \"-\" + date_string[4:6] + \"-\" + date_string[6:8])\n",
      "ax1 = fig.add_subplot(1, 2, 1)\n",
      "ax1.xaxis.set_visible(False)\n",
      "ax1.yaxis.set_visible(False)\n",
      "ax1.set_axis_bgcolor('grey')\n",
      "#\n",
      "im_spm = plt.imshow(masked_band[\"meris\"])\n",
      "#\n",
      "# Discrete colours \n",
      "cmap = plt.cm.spectral\n",
      "# extract all colors from the .jet map\n",
      "cmaplist = [cmap(i) for i in range(cmap.N)]\n",
      "# create the new map\n",
      "cmap = cmap.from_list('Custom cmap', cmaplist, cmap.N)\n",
      "# define the bins and normalize\n",
      "bounds = np.arange(0, 14 + 1)\n",
      "norm = colors.BoundaryNorm(bounds, cmap.N)\n",
      "\n",
      "im_spm.set_cmap(cmap)\n",
      "im_spm.set_norm(norm)\n",
      "\n",
      "\n",
      "divider = make_axes_locatable(ax1)\n",
      "cax = divider.append_axes(\"right\", size = \"5%\", pad = 0.05)\n",
      "cbar = plt.colorbar(im_spm, cax = cax)  #use_gridspec=True\n",
      "im_spm.set_clim(0, 14)\n",
      "cbar.set_label('SPM [g /m^3]')\n",
      "#if key == \"SPM\":\n",
      "#    cbar.set_label('SPM [g /m^3]')\n",
      "#else:\n",
      "#    cbar.set_label('CHECK MY UNITS')\n",
      "    \n",
      "ax1.set_title(\"MERIS\" )\n",
      "#\n",
      "ax2 = fig.add_subplot(1, 2, 2)\n",
      "ax2.xaxis.set_visible(False)\n",
      "ax2.yaxis.set_visible(False)\n",
      "ax2.set_axis_bgcolor('grey')\n",
      "\n",
      "#\n",
      "im_sID = plt.imshow(masked_band[\"modelled\"])\n",
      "\n",
      "#im_sID = plt.imshow(masked_band[\"sID\"])\n",
      "#\n",
      "# Discrete colours \n",
      "cmap = plt.cm.spectral\n",
      "# extract all colors from the .jet map\n",
      "cmaplist = [cmap(i) for i in range(cmap.N)]\n",
      "# force the last color entry to be white, and the first to be black \n",
      "#cmaplist[-1] = (1, 1, 1, 1)\n",
      "#cmaplist[0] = (0, 0, 0, 1)\n",
      "# create the new map\n",
      "cmap = cmap.from_list('Custom cmap', cmaplist, cmap.N)\n",
      "# define the bins and normalize\n",
      "bounds = np.arange(0, 14 + 1)\n",
      "norm = colors.BoundaryNorm(bounds, cmap.N)\n",
      "\n",
      "im_sID.set_cmap(cmap)\n",
      "im_sID.set_norm(norm)\n",
      "\n",
      "divider = make_axes_locatable(ax2)\n",
      "cax = divider.append_axes(\"right\", size = \"5%\", pad = 0.05)\n",
      "cbar = plt.colorbar(im_sID, cax = cax)\n",
      "im_sID.set_clim(1, 14)\n",
      "cbar.set_label('SPM [g /m^3]')\n",
      "#cbar.set_label('Subbasin ID')\n",
      "ax2.set_title(\"modelled\")\n",
      "\n",
      "plt.subplots_adjust()  # top = 0.85, left = 0.15, right = 0.85\n",
      "## pad=0 clips some of the texts by a few pixels.\n",
      "## This may be a bug or a limitation of the current algorithm and it is not clear why it happens.\n",
      "## Meanwhile, use of pad at least larger than 0.3 is recommended.\n",
      "plt.tight_layout(pad = 0.5)\n",
      "plt.show()"
     ],
     "language": "python",
     "metadata": {},
     "outputs": [
      {
       "metadata": {},
       "output_type": "display_data",
       "png": "[encoded data removed]",
       "text": [
        "<matplotlib.figure.Figure at 0x7f7ff91f1390>"
       ]
      }
     ],
     "prompt_number": 9
    },
    {
     "cell_type": "code",
     "collapsed": false,
     "input": [],
     "language": "python",
     "metadata": {},
     "outputs": []
    }
   ],
   "metadata": {}
  }
 ]
}