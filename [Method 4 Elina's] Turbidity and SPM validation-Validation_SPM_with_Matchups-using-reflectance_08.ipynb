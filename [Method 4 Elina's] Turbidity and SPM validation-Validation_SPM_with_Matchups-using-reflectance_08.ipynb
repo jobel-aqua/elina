{
 "cells": [
  {
   "cell_type": "markdown",
   "metadata": {},
   "source": [
    "# Validating with MERIS datasets from 2010 and 2008 match-up time window of 2 hours"
   ]
  },
  {
   "cell_type": "code",
   "execution_count": 1,
   "metadata": {
    "collapsed": false
   },
   "outputs": [],
   "source": [
    "__credits__ = [\"José M. Beltrán\"]\n",
    "__license__ = \"GPL-3.0\"\n",
    "__created_on__ = [\"2012-05-02\"]\n",
    "__modified_on__ = { \"2016-01-07\": [\"Added Turbidity_Nechad_681\"],\n",
    "                    \"2014-10-16\": [\"Batch process targeting Turbidity\"], \n",
    "                    \"2013-10-22\": [\"New GPT graph. The BEAM VISAT version 4.11 does not include anymore the inputPaths whithin the graph it has changed to: &lt;sourceProductPaths&gt;\"], \n",
    "                    \"2013-10-17\": [\"reintroduced for Selima and Evgeny: - xml_skeleton,- the get_fub_srcList \"], \n",
    "                    \"2012-06-18\": [\"xml_skeletons were replaced by gpt_skeletons\", \"introduced common.get_fub_srcList(srcDir) function\", \"introduced get_pins_srcList\"]}"
   ]
  },
  {
   "cell_type": "markdown",
   "metadata": {},
   "source": [
    "# **ipython-notebooks-notes** from the Turbidity Paper\n",
    "\n",
    "*[2014-10-27]*\n",
    "The first validation of retrieving SPM from Turbidity was done with: `[Method 4 Elina's] Turbidity and SPM validation-Validation_SPM_with_Matchups.ipynb`. This notebbok used the `nrrs` intermediate product of MEGS. However, note that:\n",
    "\n",
    "`nrrs\\_06 \\times \\pi` is almost `refletance\\_06`, i.e., `refletance\\_06 = \\rho_{620}`\n",
    "\n",
    "The differences may be due to the discretization of the decimals. An easy check is to plot the residuals between nrrs_06*pi and reflectance_06. It should be a gaussian distribution around 0. Which it means that are random errors due to precision on the discretisation.\n",
    "\n",
    "See similar feature on ODESA forum [Differences on total\\_susp and suspended\\_particulate\\_matter](http://www.odesa-info.eu/forum/viewtopic.php?f=16&t=165&sid=bf334be9585bbf3b8b67a25588c6e29e)  \n",
    "\n",
    "Therefore a second validation was done using the `reflectance_06` values instead of `nrrs_06`. And the validation values were improved almost for 4%. See `[Method 4 Elina's] Turbidity and SPM validation-Validation_SPM_with_Matchups-using-reflectance_06`.\n",
    "\n",
    "Results:\n",
    "SPM\\_Nechad\\_Elinas using reflectance\\_06: 3x3, Processor: MEGS\n",
    "`MNB: -7.98865470193, RMS: 38.2198841474, NOBS: 32`\n",
    "\n",
    "Using SPM\\_Nechad\\_Elinas using nrrs\\_06: 3x3, Processor: MEGS \n",
    "`MNB: -11.8173847973, RMS: 36.7333234445, NOBS: 32`"
   ]
  },
  {
   "cell_type": "markdown",
   "metadata": {},
   "source": [
    "__accompanying_paper__ : [\"Kari et al Turbidity\"]"
   ]
  },
  {
   "cell_type": "markdown",
   "metadata": {},
   "source": [
    "__preceding_notebooks__ : [\"create_placemarks_using_centroids\", \"pixel_extraction_centroids_MEGS-reflec_06\", \"[Method 4 Elina's] Turbidity and SPM validation\"]\n",
    "__anticipate_notebooks __ : []"
   ]
  },
  {
   "cell_type": "code",
   "execution_count": 1,
   "metadata": {
    "collapsed": false
   },
   "outputs": [],
   "source": [
    "import sys\n",
    "import os.path\n",
    "from sys import argv, exit\n",
    "# Using the MathJax library to display the Latex.\n",
    "from IPython.display import Math\n",
    "#\n",
    "import numpy as np\n",
    "import pandas as pd"
   ]
  },
  {
   "cell_type": "code",
   "execution_count": 54,
   "metadata": {
    "collapsed": false
   },
   "outputs": [],
   "source": [
    "processor = \"MEGS\"\n",
    "windowSize = \"3\""
   ]
  },
  {
   "cell_type": "code",
   "execution_count": 2,
   "metadata": {
    "collapsed": true
   },
   "outputs": [],
   "source": [
    "os.chdir(\"/home/jobel/gits/jobel\")"
   ]
  },
  {
   "cell_type": "markdown",
   "metadata": {},
   "source": [
    "## Loading insitu data"
   ]
  },
  {
   "cell_type": "code",
   "execution_count": 3,
   "metadata": {
    "collapsed": false
   },
   "outputs": [
    {
     "data": {
      "text/plain": [
       "Index([u'ID_filter_by_date', u'ID_CAST', u'SITE', u'STATION', u'date_string',\n",
       "       u'IS_YEAR', u'IS_MONTH', u'IS_DAY', u'Latitude', u'Longitude',\n",
       "       u'IS_DATE2', u'IS_TIME', u'IS_UTM_TIME', u'OVERPASS_UTM_TIME',\n",
       "       u'Matchup_ID', u'Matchup_clouds', u'matchup_30_min', u'matchup_01_hr',\n",
       "       u'matchup_02_hr', u'matchup_over_2_hr', u'IS_lab_triplicates',\n",
       "       u'IS_Chl_a', u'IS_TSM', u'IS_SPM_inorg', u'IS_CDOM_g440',\n",
       "       u'IS_CDOM_slope', u'IS_ToC_H20', u'IS_SECCHI', u'IS_DEPTH_Sea_F',\n",
       "       u'IS_wind_SPEED', u'IS_wind_DIR', u'IS_ToC_air', u'IS_ATM_P',\n",
       "       u'IS_sky_code', u'IS_sea_state', u'IS_ozone', u'AC9_spectral_kd_412',\n",
       "       u'AC9_spectral_kd_440', u'AC9_spectral_kd_488', u'AC9_spectral_kd_510',\n",
       "       u'AC9_spectral_kd_532', u'AC9_spectral_kd_555', u'AC9_spectral_kd_630',\n",
       "       u'AC9_spectral_kd_676', u'AC9_spectral_kd_715', u'IS_Kd_490',\n",
       "       u'IS_Kd490_algorithm'],\n",
       "      dtype='object')"
      ]
     },
     "execution_count": 3,
     "metadata": {},
     "output_type": "execute_result"
    }
   ],
   "source": [
    "# Loading data using pandas\n",
    "#filepath = \"/home/jobel/Dropbox/ElinasPaper/sourceData/Elina_TSPM_2010_2014.txt\"\n",
    "filepath = \"/home/jobel/Dropbox/NEOData/NEOTables/tbl_insitu.txt\"\n",
    "insitu = pd.read_csv(sep = \"\\t\", filepath_or_buffer = filepath)\n",
    "insitu.rename(columns = {'IS_DATE':'date_string'}, inplace=True)\n",
    "insitu.keys()"
   ]
  },
  {
   "cell_type": "code",
   "execution_count": 4,
   "metadata": {
    "collapsed": false
   },
   "outputs": [
    {
     "data": {
      "text/html": [
       "<div>\n",
       "<table border=\"1\" class=\"dataframe\">\n",
       "  <thead>\n",
       "    <tr style=\"text-align: right;\">\n",
       "      <th></th>\n",
       "      <th>ID_filter_by_date</th>\n",
       "      <th>ID_CAST</th>\n",
       "      <th>SITE</th>\n",
       "      <th>STATION</th>\n",
       "      <th>date_string</th>\n",
       "      <th>IS_YEAR</th>\n",
       "      <th>IS_MONTH</th>\n",
       "      <th>IS_DAY</th>\n",
       "      <th>Latitude</th>\n",
       "      <th>Longitude</th>\n",
       "      <th>...</th>\n",
       "      <th>AC9_spectral_kd_440</th>\n",
       "      <th>AC9_spectral_kd_488</th>\n",
       "      <th>AC9_spectral_kd_510</th>\n",
       "      <th>AC9_spectral_kd_532</th>\n",
       "      <th>AC9_spectral_kd_555</th>\n",
       "      <th>AC9_spectral_kd_630</th>\n",
       "      <th>AC9_spectral_kd_676</th>\n",
       "      <th>AC9_spectral_kd_715</th>\n",
       "      <th>IS_Kd_490</th>\n",
       "      <th>IS_Kd490_algorithm</th>\n",
       "    </tr>\n",
       "  </thead>\n",
       "  <tbody>\n",
       "    <tr>\n",
       "      <th>0</th>\n",
       "      <td>1</td>\n",
       "      <td>BIII_1a</td>\n",
       "      <td>BIII</td>\n",
       "      <td>1a</td>\n",
       "      <td>20080709</td>\n",
       "      <td>2008</td>\n",
       "      <td>7</td>\n",
       "      <td>9</td>\n",
       "      <td>58.646867</td>\n",
       "      <td>18.075717</td>\n",
       "      <td>...</td>\n",
       "      <td>1.1527</td>\n",
       "      <td>0.7877</td>\n",
       "      <td>0.6788</td>\n",
       "      <td>0.6052</td>\n",
       "      <td>0.5998</td>\n",
       "      <td>0.7747</td>\n",
       "      <td>1.0633</td>\n",
       "      <td>1.5143</td>\n",
       "      <td>0.500</td>\n",
       "      <td>Kirk (1994)</td>\n",
       "    </tr>\n",
       "    <tr>\n",
       "      <th>1</th>\n",
       "      <td>2</td>\n",
       "      <td>B1_2a</td>\n",
       "      <td>B1</td>\n",
       "      <td>2a</td>\n",
       "      <td>20080715</td>\n",
       "      <td>2008</td>\n",
       "      <td>7</td>\n",
       "      <td>15</td>\n",
       "      <td>58.802750</td>\n",
       "      <td>17.624283</td>\n",
       "      <td>...</td>\n",
       "      <td>1.1564</td>\n",
       "      <td>0.7860</td>\n",
       "      <td>0.6885</td>\n",
       "      <td>0.5957</td>\n",
       "      <td>0.5470</td>\n",
       "      <td>0.7750</td>\n",
       "      <td>1.0184</td>\n",
       "      <td>1.5080</td>\n",
       "      <td>0.523</td>\n",
       "      <td>Kirk (1994)</td>\n",
       "    </tr>\n",
       "    <tr>\n",
       "      <th>2</th>\n",
       "      <td>3</td>\n",
       "      <td>H3_2b</td>\n",
       "      <td>H3</td>\n",
       "      <td>2b</td>\n",
       "      <td>20080715</td>\n",
       "      <td>2008</td>\n",
       "      <td>7</td>\n",
       "      <td>15</td>\n",
       "      <td>58.934217</td>\n",
       "      <td>17.726600</td>\n",
       "      <td>...</td>\n",
       "      <td>1.3462</td>\n",
       "      <td>0.9275</td>\n",
       "      <td>0.8017</td>\n",
       "      <td>0.6911</td>\n",
       "      <td>0.6309</td>\n",
       "      <td>0.8520</td>\n",
       "      <td>1.1283</td>\n",
       "      <td>1.5987</td>\n",
       "      <td>0.605</td>\n",
       "      <td>Kirk (1994)</td>\n",
       "    </tr>\n",
       "    <tr>\n",
       "      <th>3</th>\n",
       "      <td>4</td>\n",
       "      <td>H4_2c</td>\n",
       "      <td>H4</td>\n",
       "      <td>2c</td>\n",
       "      <td>20080715</td>\n",
       "      <td>2008</td>\n",
       "      <td>7</td>\n",
       "      <td>15</td>\n",
       "      <td>58.983967</td>\n",
       "      <td>17.724267</td>\n",
       "      <td>...</td>\n",
       "      <td>1.4644</td>\n",
       "      <td>1.0262</td>\n",
       "      <td>0.8846</td>\n",
       "      <td>0.7569</td>\n",
       "      <td>0.6870</td>\n",
       "      <td>0.8932</td>\n",
       "      <td>1.1564</td>\n",
       "      <td>1.6154</td>\n",
       "      <td>0.764</td>\n",
       "      <td>Kirk (1994)</td>\n",
       "    </tr>\n",
       "    <tr>\n",
       "      <th>4</th>\n",
       "      <td>5</td>\n",
       "      <td>H5_3a</td>\n",
       "      <td>H5</td>\n",
       "      <td>3a</td>\n",
       "      <td>20080718</td>\n",
       "      <td>2008</td>\n",
       "      <td>7</td>\n",
       "      <td>18</td>\n",
       "      <td>59.034967</td>\n",
       "      <td>17.721483</td>\n",
       "      <td>...</td>\n",
       "      <td>1.8710</td>\n",
       "      <td>1.3558</td>\n",
       "      <td>1.1391</td>\n",
       "      <td>0.9507</td>\n",
       "      <td>0.8498</td>\n",
       "      <td>1.0579</td>\n",
       "      <td>1.4267</td>\n",
       "      <td>1.7724</td>\n",
       "      <td>1.159</td>\n",
       "      <td>Kirk (1994)</td>\n",
       "    </tr>\n",
       "  </tbody>\n",
       "</table>\n",
       "<p>5 rows × 47 columns</p>\n",
       "</div>"
      ],
      "text/plain": [
       "   ID_filter_by_date  ID_CAST  SITE STATION  date_string  IS_YEAR  IS_MONTH  \\\n",
       "0                  1  BIII_1a  BIII      1a     20080709     2008         7   \n",
       "1                  2    B1_2a    B1      2a     20080715     2008         7   \n",
       "2                  3    H3_2b    H3      2b     20080715     2008         7   \n",
       "3                  4    H4_2c    H4      2c     20080715     2008         7   \n",
       "4                  5    H5_3a    H5      3a     20080718     2008         7   \n",
       "\n",
       "   IS_DAY   Latitude  Longitude         ...         AC9_spectral_kd_440  \\\n",
       "0       9  58.646867  18.075717         ...                      1.1527   \n",
       "1      15  58.802750  17.624283         ...                      1.1564   \n",
       "2      15  58.934217  17.726600         ...                      1.3462   \n",
       "3      15  58.983967  17.724267         ...                      1.4644   \n",
       "4      18  59.034967  17.721483         ...                      1.8710   \n",
       "\n",
       "  AC9_spectral_kd_488 AC9_spectral_kd_510 AC9_spectral_kd_532  \\\n",
       "0              0.7877              0.6788              0.6052   \n",
       "1              0.7860              0.6885              0.5957   \n",
       "2              0.9275              0.8017              0.6911   \n",
       "3              1.0262              0.8846              0.7569   \n",
       "4              1.3558              1.1391              0.9507   \n",
       "\n",
       "   AC9_spectral_kd_555  AC9_spectral_kd_630  AC9_spectral_kd_676  \\\n",
       "0               0.5998               0.7747               1.0633   \n",
       "1               0.5470               0.7750               1.0184   \n",
       "2               0.6309               0.8520               1.1283   \n",
       "3               0.6870               0.8932               1.1564   \n",
       "4               0.8498               1.0579               1.4267   \n",
       "\n",
       "   AC9_spectral_kd_715  IS_Kd_490  IS_Kd490_algorithm  \n",
       "0               1.5143      0.500         Kirk (1994)  \n",
       "1               1.5080      0.523         Kirk (1994)  \n",
       "2               1.5987      0.605         Kirk (1994)  \n",
       "3               1.6154      0.764         Kirk (1994)  \n",
       "4               1.7724      1.159         Kirk (1994)  \n",
       "\n",
       "[5 rows x 47 columns]"
      ]
     },
     "execution_count": 4,
     "metadata": {},
     "output_type": "execute_result"
    }
   ],
   "source": [
    "insitu[:5]"
   ]
  },
  {
   "cell_type": "code",
   "execution_count": 5,
   "metadata": {
    "collapsed": false
   },
   "outputs": [
    {
     "data": {
      "text/plain": [
       "'20080709'"
      ]
     },
     "execution_count": 5,
     "metadata": {},
     "output_type": "execute_result"
    }
   ],
   "source": [
    "# date_string should be a str not an integer\n",
    "insitu['date_string'] = map(str, insitu['date_string'])\n",
    "insitu['date_string'][0]"
   ]
  },
  {
   "cell_type": "code",
   "execution_count": 6,
   "metadata": {
    "collapsed": false
   },
   "outputs": [
    {
     "data": {
      "text/plain": [
       "[(('20100820', 'H2_6b'), {'SPM': [1.6497999999999999]}),\n",
       " (('20080731', 'CII_8b'), {'SPM': [1.3307272726999999]}),\n",
       " (('20080730', 'H2_7a'), {'SPM': [1.5787272727000001]})]"
      ]
     },
     "execution_count": 6,
     "metadata": {},
     "output_type": "execute_result"
    }
   ],
   "source": [
    "# Initializing keys of the data dictionary (dd)\n",
    "insitu_dict = dict([((insitu['date_string'][i],insitu['ID_CAST'][i]),{'SPM':[] }) for i, value in enumerate(insitu['date_string']) if insitu['IS_TSM'][i] != np.nan])\n",
    "\n",
    "for i, value in enumerate(insitu['date_string']):    \n",
    "    if insitu['IS_TSM'][i] != \"\" and insitu['IS_TSM'][i] >0:\n",
    "        insitu_dict[(insitu['date_string'][i],insitu['ID_CAST'][i])][\"SPM\"].append(insitu['IS_TSM'][i])\n",
    "    #dd[].append(value)\n",
    "#dd.items()[:3]\n",
    "insitu_dict.items()[:3]\n"
   ]
  },
  {
   "cell_type": "code",
   "execution_count": 7,
   "metadata": {
    "collapsed": false
   },
   "outputs": [],
   "source": [
    "processor = \"MEGS\"\n",
    "meris_matchups_dates = [\"20080709\",\"20080715\",\"20080718\",\"20080724\",\"20080725\",\"20080728\",\"20080730\",\"20080731\",\n",
    "                        \"20100505\",\"20100511\",\"20100518\",\"20100520\",\"20100524\",\"20100820\"]\n"
   ]
  },
  {
   "cell_type": "markdown",
   "metadata": {},
   "source": [
    "# Loading the pixel extraction files"
   ]
  },
  {
   "cell_type": "code",
   "execution_count": 8,
   "metadata": {
    "collapsed": false,
    "scrolled": true
   },
   "outputs": [
    {
     "data": {
      "text/plain": [
       "['/home/jobel/Dropbox/ElinasPaper/data_4_elina/pixEX_centroids/MEGS/matchups/pixEx_20080728_centroid_3x3_MEGS__CF-1.4_measurements.txt',\n",
       " '/home/jobel/Dropbox/ElinasPaper/data_4_elina/pixEX_centroids/MEGS/matchups/pixEx_20080718_centroid_3x3_MEGS__CF-1.4_measurements.txt',\n",
       " '/home/jobel/Dropbox/ElinasPaper/data_4_elina/pixEX_centroids/MEGS/matchups/pixEx_20080709_centroid_3x3_MEGS__CF-1.4_measurements.txt']"
      ]
     },
     "execution_count": 8,
     "metadata": {},
     "output_type": "execute_result"
    }
   ],
   "source": [
    "# Creating the available pixel extraction files\n",
    "srcDir = '/home/jobel/Dropbox/ElinasPaper/data_4_elina/pixEX_centroids/MEGS/matchups/'\n",
    "pixEx_file_list = []\n",
    "# Adding recursive walk for directories\n",
    "for dirpath, dirnames, files in os.walk(srcDir):\n",
    "    for file in files:  # files is a list of files in the current directory\n",
    "        if file.endswith(\"_measurements.txt\"):\n",
    "            currentFilepath = dirpath\n",
    "            pixEx_file_list.append(os.path.join(currentFilepath, file))   \n",
    "pixEx_file_list[:3]\n",
    "            "
   ]
  },
  {
   "cell_type": "code",
   "execution_count": 9,
   "metadata": {
    "collapsed": true
   },
   "outputs": [],
   "source": [
    "def get_MERIS_date_string_from_filename(filename):\n",
    "    '''\n",
    "    function to extract (substring) the name of the processor (FUB or MEGS), date and time\n",
    "    from the filename of a MERIS processed dataset using regular expressions.\n",
    "    returns list(processor,dayID,yyyy,mm,dd,hh,mm,ss)\n",
    "    eg.\n",
    "    filename: collocated_UTM33_WGS84_FUB_L1N_MER_FSG_CCL1P_20020808_101018_000003232008_00237_02295_0680.csv\n",
    "    output:\n",
    "    [\"FUB\",20020808,2002,08,08,10,10,18]\n",
    "    '''\n",
    "    import re\n",
    "\n",
    "    regex = re.compile(r'(?P<year>[2][0][0-9][0-9])(?P<month>[0-1][0-9])(?P<day>[0-3][0-9])')\n",
    "    x = regex.search(filename)\n",
    "    all = x.group()\n",
    "    date_string = all[:]  # dayID = to full date without time\n",
    "    return date_string"
   ]
  },
  {
   "cell_type": "code",
   "execution_count": 21,
   "metadata": {
    "collapsed": false
   },
   "outputs": [],
   "source": [
    "#from files.regex_filename import get_MERIS_date_string_from_filename\n",
    "# The pixEx files have a 6 head lines in the file that must be removed.\n",
    "head_lines = 6 \n",
    "pix_data = {}\n",
    "\n",
    "for nf,filename in enumerate(pixEx_file_list):\n",
    "    current_file = filename\n",
    "    # Get the date value from the PixEX filename\n",
    "    date_string = get_MERIS_date_string_from_filename(current_file)\n",
    "    with open(current_file, 'r') as fr:\n",
    "        #skipping headlines\n",
    "        for i in xrange(head_lines):\n",
    "            fr.next()\n",
    "        column_headers = fr.next().strip('\\n').split('\\t') # Gets the column headers\n",
    "        column_headers[7:9] = ['Date','Time'] # Changing header names to have only non special characters\n",
    "        # The Date and Time fields are not reliable, therefore we must add our own column with a date_string\n",
    "        column_headers.append(\"meris_date\")\n",
    "        pix_data[date_string] = dict([(key,[]) for key in column_headers])        \n",
    "              \n",
    "        for nr,  row_line in enumerate(fr):\n",
    "            for column, value in enumerate(row_line.strip('\\n').split('\\t')):\n",
    "                if column_headers[column] == 'reflectance_06':\n",
    "                    if value != \"\":\n",
    "                        pix_data[date_string][column_headers[column]].append(float(value))\n",
    "                    else:\n",
    "                        pix_data[date_string][column_headers[column]].append(np.nan)\n",
    "                else:\n",
    "                    pix_data[date_string][column_headers[column]].append(value)\n",
    "            # Appending the date_string to keep track of the source file\n",
    "            pix_data[date_string][\"meris_date\"].append(date_string)\n",
    "            \n",
    "            \n",
    "        \n"
   ]
  },
  {
   "cell_type": "code",
   "execution_count": 22,
   "metadata": {
    "collapsed": false
   },
   "outputs": [
    {
     "data": {
      "text/plain": [
       "['ABSOA', 'ABSOA_DUST', 'ABSO_D']"
      ]
     },
     "execution_count": 22,
     "metadata": {},
     "output_type": "execute_result"
    }
   ],
   "source": [
    "sorted(pix_data['20100511'].keys())[:3]"
   ]
  },
  {
   "cell_type": "code",
   "execution_count": 23,
   "metadata": {
    "collapsed": false
   },
   "outputs": [
    {
     "data": {
      "text/html": [
       "<div>\n",
       "<table border=\"1\" class=\"dataframe\">\n",
       "  <thead>\n",
       "    <tr style=\"text-align: right;\">\n",
       "      <th></th>\n",
       "      <th>meris_date</th>\n",
       "      <th>ID_CAST</th>\n",
       "      <th>CoordID</th>\n",
       "      <th>l2_flags</th>\n",
       "      <th>nrrs_06</th>\n",
       "      <th>nrrs_08</th>\n",
       "      <th>reflectance_06</th>\n",
       "      <th>reflectance_08</th>\n",
       "      <th>SPM</th>\n",
       "    </tr>\n",
       "  </thead>\n",
       "  <tbody>\n",
       "    <tr>\n",
       "      <th>0</th>\n",
       "      <td>20080730</td>\n",
       "      <td>H2_7a</td>\n",
       "      <td>1</td>\n",
       "      <td>2556312</td>\n",
       "      <td>0.005125486757606268</td>\n",
       "      <td>0.003001786069944501</td>\n",
       "      <td>0.014698</td>\n",
       "      <td>0.008618425577878952</td>\n",
       "      <td>7.254517078399658</td>\n",
       "    </tr>\n",
       "    <tr>\n",
       "      <th>1</th>\n",
       "      <td>20080730</td>\n",
       "      <td>H2_7a</td>\n",
       "      <td>1</td>\n",
       "      <td>2359704</td>\n",
       "      <td>0.0037024514749646187</td>\n",
       "      <td>0.0022441872861236334</td>\n",
       "      <td>0.012555</td>\n",
       "      <td>0.007501448038965464</td>\n",
       "      <td>4.523573398590088</td>\n",
       "    </tr>\n",
       "    <tr>\n",
       "      <th>2</th>\n",
       "      <td>20080730</td>\n",
       "      <td>H2_7a</td>\n",
       "      <td>1</td>\n",
       "      <td>2359704</td>\n",
       "      <td>0.0030295951291918755</td>\n",
       "      <td>0.002284677466377616</td>\n",
       "      <td>0.010266</td>\n",
       "      <td>0.007647937163710594</td>\n",
       "      <td>2.967628002166748</td>\n",
       "    </tr>\n",
       "  </tbody>\n",
       "</table>\n",
       "</div>"
      ],
      "text/plain": [
       "  meris_date ID_CAST CoordID l2_flags                nrrs_06  \\\n",
       "0   20080730   H2_7a       1  2556312   0.005125486757606268   \n",
       "1   20080730   H2_7a       1  2359704  0.0037024514749646187   \n",
       "2   20080730   H2_7a       1  2359704  0.0030295951291918755   \n",
       "\n",
       "                 nrrs_08  reflectance_06        reflectance_08  \\\n",
       "0   0.003001786069944501        0.014698  0.008618425577878952   \n",
       "1  0.0022441872861236334        0.012555  0.007501448038965464   \n",
       "2   0.002284677466377616        0.010266  0.007647937163710594   \n",
       "\n",
       "                 SPM  \n",
       "0  7.254517078399658  \n",
       "1  4.523573398590088  \n",
       "2  2.967628002166748  "
      ]
     },
     "execution_count": 23,
     "metadata": {},
     "output_type": "execute_result"
    }
   ],
   "source": [
    "# Merging the dictionaries as panda dataframes\n",
    "# Using MEGS the reflectance_06 value is for Case-1 waters. The bands \"nrrs_06\", \"c2r_RLw_06\" comes from the intermediate products\n",
    "# of the Case-2 branch, and those were u\n",
    "keep_columns = [\"meris_date\",\"Name\",\"CoordID\",'l2_flags',\"nrrs_06\",\"nrrs_08\",\"reflectance_06\",\"reflectance_08\", \"suspended_particle_matter\"]\n",
    "\n",
    "meris = pd.DataFrame(columns=[keep_columns])\n",
    "for key in pix_data.keys():\n",
    "    meris = pd.merge(meris, pd.DataFrame(pix_data[key])[keep_columns],how='outer' )\n",
    "\n",
    "\n",
    "# Renaming Name column to match insitu column name as ID_CAST\n",
    "meris.rename(columns = {'Name':'ID_CAST'}, inplace=True)\n",
    "meris.rename(columns = {'suspended_particle_matter':'SPM'}, inplace=True)\n",
    "#\n",
    "meris[:3] # showing only the first three elements\n",
    "# Note: dataHolder was used intead of meris in previous versions."
   ]
  },
  {
   "cell_type": "code",
   "execution_count": 24,
   "metadata": {
    "collapsed": false
   },
   "outputs": [],
   "source": [
    "# releasing memory\n",
    "pix_data = None"
   ]
  },
  {
   "cell_type": "markdown",
   "metadata": {},
   "source": [
    "## Note that $nrrs\\_06 \\times \\pi$ is almost $refletance\\_06$, i.e., $refletance\\_06 = \\rho_{620}$\n",
    "The differences may be due to the discretization of the decimals. An easy check is to plot the residuals between nrrs_06*pi and reflectance_06. It should be a gaussian distribution around 0. Which it means that are random errors due to precision on the discretisation.\n",
    "\n",
    "See similar feature on ODESA forum [Differences on total_susp and suspended_particulate_matter](http://www.odesa-info.eu/forum/viewtopic.php?f=16&t=165&sid=bf334be9585bbf3b8b67a25588c6e29e)  "
   ]
  },
  {
   "cell_type": "code",
   "execution_count": 25,
   "metadata": {
    "collapsed": false
   },
   "outputs": [
    {
     "name": "stdout",
     "output_type": "stream",
     "text": [
      "(0.01610219154376762, 0.01469771284610033)\n"
     ]
    }
   ],
   "source": [
    "print(np.float(meris[\"nrrs_06\"][0]) * np.pi, np.float(meris[\"reflectance_06\"][0]))"
   ]
  },
  {
   "cell_type": "markdown",
   "metadata": {},
   "source": [
    "### Calculating rho_w from Rrs"
   ]
  },
  {
   "cell_type": "code",
   "execution_count": 26,
   "metadata": {
    "collapsed": false
   },
   "outputs": [],
   "source": [
    "# Used to get a binary representation of the flags\n",
    "def flag_as_binary(l2_flags):\n",
    "    return bin(int(l2_flags))[2:]"
   ]
  },
  {
   "cell_type": "code",
   "execution_count": 27,
   "metadata": {
    "collapsed": false
   },
   "outputs": [],
   "source": [
    "def rho_w(Rrs):\n",
    "    return Rrs*np.pi"
   ]
  },
  {
   "cell_type": "markdown",
   "metadata": {},
   "source": [
    "The $R_{rs}$ is related to $\\rho_w (\\lambda)$ by:\n",
    "\n",
    "$\\rho_w (\\lambda) = \\pi R_{rs}$\n",
    "\n",
    "\n",
    "$R_{rs}$ in MEGS is the **nrrs** intermediate product\n",
    "\n",
    "**Reference**: [Meris Optical Measurement Protocols](http://hermes.acri.fr/mermaid/dataproto/CO-SCI-ARG-TN-0008_MERIS_Optical_Measurement_Protocols_Issue2_Aug2011.pdf) page 10. \n",
    "\n",
    "See also the ODESA forum [normalization in Odesa](http://www.odesa-info.eu/forum/viewtopic.php?f=16&t=107&p=155&hilit=remote+sensing+reflectance&sid=740420998c703edfaa95a3cc2ad2c027#p155) for details regarding **nrrs**.\n"
   ]
  },
  {
   "cell_type": "code",
   "execution_count": 28,
   "metadata": {
    "collapsed": false
   },
   "outputs": [],
   "source": [
    "# Importing function for quality check of the pixel values\n",
    "from geotools.meris import which_megs_l2_flags_NetCDF\n",
    "\n",
    "meris[\"flagON\"] = [which_megs_l2_flags_NetCDF(value)['flagON'] for value in meris[\"l2_flags\"]]\n",
    "meris['raised_flags'] = [str(which_megs_l2_flags_NetCDF(value)['raised_flags']) for value in meris[\"l2_flags\"]]\n",
    "meris[\"watch\"] = [str(which_megs_l2_flags_NetCDF(value)['watch']) for value in meris[\"l2_flags\"]]"
   ]
  },
  {
   "cell_type": "code",
   "execution_count": 34,
   "metadata": {
    "collapsed": false
   },
   "outputs": [
    {
     "name": "stderr",
     "output_type": "stream",
     "text": [
      "/home/jobel/anaconda/lib/python2.7/site-packages/ipykernel/__main__.py:7: SettingWithCopyWarning: \n",
      "A value is trying to be set on a copy of a slice from a DataFrame\n",
      "\n",
      "See the the caveats in the documentation: http://pandas.pydata.org/pandas-docs/stable/indexing.html#indexing-view-versus-copy\n",
      "/home/jobel/anaconda/lib/python2.7/site-packages/ipykernel/__main__.py:5: SettingWithCopyWarning: \n",
      "A value is trying to be set on a copy of a slice from a DataFrame\n",
      "\n",
      "See the the caveats in the documentation: http://pandas.pydata.org/pandas-docs/stable/indexing.html#indexing-view-versus-copy\n",
      "/home/jobel/anaconda/lib/python2.7/site-packages/ipykernel/__main__.py:13: SettingWithCopyWarning: \n",
      "A value is trying to be set on a copy of a slice from a DataFrame\n",
      "\n",
      "See the the caveats in the documentation: http://pandas.pydata.org/pandas-docs/stable/indexing.html#indexing-view-versus-copy\n",
      "/home/jobel/anaconda/lib/python2.7/site-packages/ipykernel/__main__.py:11: SettingWithCopyWarning: \n",
      "A value is trying to be set on a copy of a slice from a DataFrame\n",
      "\n",
      "See the the caveats in the documentation: http://pandas.pydata.org/pandas-docs/stable/indexing.html#indexing-view-versus-copy\n"
     ]
    },
    {
     "data": {
      "text/html": [
       "<div>\n",
       "<table border=\"1\" class=\"dataframe\">\n",
       "  <thead>\n",
       "    <tr style=\"text-align: right;\">\n",
       "      <th></th>\n",
       "      <th>meris_date</th>\n",
       "      <th>ID_CAST</th>\n",
       "      <th>CoordID</th>\n",
       "      <th>l2_flags</th>\n",
       "      <th>nrrs_06</th>\n",
       "      <th>nrrs_08</th>\n",
       "      <th>reflectance_06</th>\n",
       "      <th>reflectance_08</th>\n",
       "      <th>SPM</th>\n",
       "      <th>flagON</th>\n",
       "      <th>raised_flags</th>\n",
       "      <th>watch</th>\n",
       "      <th>rho_w_06</th>\n",
       "      <th>rho_w_08</th>\n",
       "    </tr>\n",
       "  </thead>\n",
       "  <tbody>\n",
       "    <tr>\n",
       "      <th>0</th>\n",
       "      <td>20080730</td>\n",
       "      <td>H2_7a</td>\n",
       "      <td>1</td>\n",
       "      <td>2556312</td>\n",
       "      <td>0.005125486757606268</td>\n",
       "      <td>0.003001786069944501</td>\n",
       "      <td>0.014698</td>\n",
       "      <td>0.008618426</td>\n",
       "      <td>7.254517078399658</td>\n",
       "      <td>False</td>\n",
       "      <td>[]</td>\n",
       "      <td>['PCD_16', 'PCD_17', 'CASE2_ANOM', 'CASE2_S', ...</td>\n",
       "      <td>0.014698</td>\n",
       "      <td>0.008618426</td>\n",
       "    </tr>\n",
       "    <tr>\n",
       "      <th>1</th>\n",
       "      <td>20080730</td>\n",
       "      <td>H2_7a</td>\n",
       "      <td>1</td>\n",
       "      <td>2359704</td>\n",
       "      <td>0.0037024514749646187</td>\n",
       "      <td>0.0022441872861236334</td>\n",
       "      <td>0.012555</td>\n",
       "      <td>0.007501448</td>\n",
       "      <td>4.523573398590088</td>\n",
       "      <td>False</td>\n",
       "      <td>[]</td>\n",
       "      <td>['CASE2_ANOM', 'CASE2_S', 'MEDIUM_GLINT', 'BPA...</td>\n",
       "      <td>0.012555</td>\n",
       "      <td>0.007501448</td>\n",
       "    </tr>\n",
       "    <tr>\n",
       "      <th>2</th>\n",
       "      <td>20080730</td>\n",
       "      <td>H2_7a</td>\n",
       "      <td>1</td>\n",
       "      <td>2359704</td>\n",
       "      <td>0.0030295951291918755</td>\n",
       "      <td>0.002284677466377616</td>\n",
       "      <td>0.010266</td>\n",
       "      <td>0.007647937</td>\n",
       "      <td>2.967628002166748</td>\n",
       "      <td>False</td>\n",
       "      <td>[]</td>\n",
       "      <td>['CASE2_ANOM', 'CASE2_S', 'MEDIUM_GLINT', 'BPA...</td>\n",
       "      <td>0.010266</td>\n",
       "      <td>0.007647937</td>\n",
       "    </tr>\n",
       "    <tr>\n",
       "      <th>3</th>\n",
       "      <td>20080730</td>\n",
       "      <td>H2_7a</td>\n",
       "      <td>1</td>\n",
       "      <td>2359704</td>\n",
       "      <td>0.002809448866173625</td>\n",
       "      <td>0.001759941689670086</td>\n",
       "      <td>0.009516</td>\n",
       "      <td>0.005890071</td>\n",
       "      <td>3.0405032634735107</td>\n",
       "      <td>False</td>\n",
       "      <td>[]</td>\n",
       "      <td>['CASE2_ANOM', 'CASE2_S', 'MEDIUM_GLINT', 'BPA...</td>\n",
       "      <td>0.009516</td>\n",
       "      <td>0.005890071</td>\n",
       "    </tr>\n",
       "    <tr>\n",
       "      <th>4</th>\n",
       "      <td>20080730</td>\n",
       "      <td>H2_7a</td>\n",
       "      <td>1</td>\n",
       "      <td>2359704</td>\n",
       "      <td>0.003472340991720557</td>\n",
       "      <td>0.002251560101285577</td>\n",
       "      <td>0.011768</td>\n",
       "      <td>0.00753807</td>\n",
       "      <td>3.5099778175354004</td>\n",
       "      <td>False</td>\n",
       "      <td>[]</td>\n",
       "      <td>['CASE2_ANOM', 'CASE2_S', 'MEDIUM_GLINT', 'BPA...</td>\n",
       "      <td>0.011768</td>\n",
       "      <td>0.00753807</td>\n",
       "    </tr>\n",
       "    <tr>\n",
       "      <th>5</th>\n",
       "      <td>20080730</td>\n",
       "      <td>H2_7a</td>\n",
       "      <td>1</td>\n",
       "      <td>2359704</td>\n",
       "      <td>0.002960851648822427</td>\n",
       "      <td>0.0019638859666883945</td>\n",
       "      <td>0.010028</td>\n",
       "      <td>0.006567582</td>\n",
       "      <td>3.103337049484253</td>\n",
       "      <td>False</td>\n",
       "      <td>[]</td>\n",
       "      <td>['CASE2_ANOM', 'CASE2_S', 'MEDIUM_GLINT', 'BPA...</td>\n",
       "      <td>0.010028</td>\n",
       "      <td>0.006567582</td>\n",
       "    </tr>\n",
       "    <tr>\n",
       "      <th>6</th>\n",
       "      <td>20080730</td>\n",
       "      <td>H2_7a</td>\n",
       "      <td>1</td>\n",
       "      <td>2359576</td>\n",
       "      <td>0.0021308602299541235</td>\n",
       "      <td>0.0014034233754500747</td>\n",
       "      <td>0.007227</td>\n",
       "      <td>0.004699849</td>\n",
       "      <td>2.7376463413238525</td>\n",
       "      <td>False</td>\n",
       "      <td>[]</td>\n",
       "      <td>['CASE2_S', 'MEDIUM_GLINT', 'BPAC_ON']</td>\n",
       "      <td>0.007227</td>\n",
       "      <td>0.004699849</td>\n",
       "    </tr>\n",
       "    <tr>\n",
       "      <th>7</th>\n",
       "      <td>20080730</td>\n",
       "      <td>H2_7a</td>\n",
       "      <td>1</td>\n",
       "      <td>2359576</td>\n",
       "      <td>0.0024635547306388617</td>\n",
       "      <td>0.0016648132586851716</td>\n",
       "      <td>0.008344</td>\n",
       "      <td>0.005578782</td>\n",
       "      <td>2.9950807094573975</td>\n",
       "      <td>False</td>\n",
       "      <td>[]</td>\n",
       "      <td>['CASE2_S', 'MEDIUM_GLINT', 'BPAC_ON']</td>\n",
       "      <td>0.008344</td>\n",
       "      <td>0.005578782</td>\n",
       "    </tr>\n",
       "    <tr>\n",
       "      <th>8</th>\n",
       "      <td>20080730</td>\n",
       "      <td>H2_7a</td>\n",
       "      <td>1</td>\n",
       "      <td>2359576</td>\n",
       "      <td>0.002570214681327343</td>\n",
       "      <td>0.001549587119370699</td>\n",
       "      <td>0.008710</td>\n",
       "      <td>0.005194249</td>\n",
       "      <td>2.963902235031128</td>\n",
       "      <td>False</td>\n",
       "      <td>[]</td>\n",
       "      <td>['CASE2_S', 'MEDIUM_GLINT', 'BPAC_ON']</td>\n",
       "      <td>0.008710</td>\n",
       "      <td>0.005194249</td>\n",
       "    </tr>\n",
       "    <tr>\n",
       "      <th>9</th>\n",
       "      <td>20080731</td>\n",
       "      <td>CIII_8a</td>\n",
       "      <td>1</td>\n",
       "      <td>2360585</td>\n",
       "      <td>0.002221442759037018</td>\n",
       "      <td>0.0014382719527930021</td>\n",
       "      <td>0.007428</td>\n",
       "      <td>0.004791405</td>\n",
       "      <td>2.288996696472168</td>\n",
       "      <td>False</td>\n",
       "      <td>[]</td>\n",
       "      <td>['OOADB', 'CASE2_S', 'BPAC_ON', 'WHITE_SCATTER...</td>\n",
       "      <td>0.007428</td>\n",
       "      <td>0.004791405</td>\n",
       "    </tr>\n",
       "  </tbody>\n",
       "</table>\n",
       "</div>"
      ],
      "text/plain": [
       "  meris_date  ID_CAST CoordID l2_flags                nrrs_06  \\\n",
       "0   20080730    H2_7a       1  2556312   0.005125486757606268   \n",
       "1   20080730    H2_7a       1  2359704  0.0037024514749646187   \n",
       "2   20080730    H2_7a       1  2359704  0.0030295951291918755   \n",
       "3   20080730    H2_7a       1  2359704   0.002809448866173625   \n",
       "4   20080730    H2_7a       1  2359704   0.003472340991720557   \n",
       "5   20080730    H2_7a       1  2359704   0.002960851648822427   \n",
       "6   20080730    H2_7a       1  2359576  0.0021308602299541235   \n",
       "7   20080730    H2_7a       1  2359576  0.0024635547306388617   \n",
       "8   20080730    H2_7a       1  2359576   0.002570214681327343   \n",
       "9   20080731  CIII_8a       1  2360585   0.002221442759037018   \n",
       "\n",
       "                 nrrs_08  reflectance_06 reflectance_08                 SPM  \\\n",
       "0   0.003001786069944501        0.014698    0.008618426   7.254517078399658   \n",
       "1  0.0022441872861236334        0.012555    0.007501448   4.523573398590088   \n",
       "2   0.002284677466377616        0.010266    0.007647937   2.967628002166748   \n",
       "3   0.001759941689670086        0.009516    0.005890071  3.0405032634735107   \n",
       "4   0.002251560101285577        0.011768     0.00753807  3.5099778175354004   \n",
       "5  0.0019638859666883945        0.010028    0.006567582   3.103337049484253   \n",
       "6  0.0014034233754500747        0.007227    0.004699849  2.7376463413238525   \n",
       "7  0.0016648132586851716        0.008344    0.005578782  2.9950807094573975   \n",
       "8   0.001549587119370699        0.008710    0.005194249   2.963902235031128   \n",
       "9  0.0014382719527930021        0.007428    0.004791405   2.288996696472168   \n",
       "\n",
       "  flagON raised_flags                                              watch  \\\n",
       "0  False           []  ['PCD_16', 'PCD_17', 'CASE2_ANOM', 'CASE2_S', ...   \n",
       "1  False           []  ['CASE2_ANOM', 'CASE2_S', 'MEDIUM_GLINT', 'BPA...   \n",
       "2  False           []  ['CASE2_ANOM', 'CASE2_S', 'MEDIUM_GLINT', 'BPA...   \n",
       "3  False           []  ['CASE2_ANOM', 'CASE2_S', 'MEDIUM_GLINT', 'BPA...   \n",
       "4  False           []  ['CASE2_ANOM', 'CASE2_S', 'MEDIUM_GLINT', 'BPA...   \n",
       "5  False           []  ['CASE2_ANOM', 'CASE2_S', 'MEDIUM_GLINT', 'BPA...   \n",
       "6  False           []             ['CASE2_S', 'MEDIUM_GLINT', 'BPAC_ON']   \n",
       "7  False           []             ['CASE2_S', 'MEDIUM_GLINT', 'BPAC_ON']   \n",
       "8  False           []             ['CASE2_S', 'MEDIUM_GLINT', 'BPAC_ON']   \n",
       "9  False           []  ['OOADB', 'CASE2_S', 'BPAC_ON', 'WHITE_SCATTER...   \n",
       "\n",
       "   rho_w_06     rho_w_08  \n",
       "0  0.014698  0.008618426  \n",
       "1  0.012555  0.007501448  \n",
       "2  0.010266  0.007647937  \n",
       "3  0.009516  0.005890071  \n",
       "4  0.011768   0.00753807  \n",
       "5  0.010028  0.006567582  \n",
       "6  0.007227  0.004699849  \n",
       "7  0.008344  0.005578782  \n",
       "8  0.008710  0.005194249  \n",
       "9  0.007428  0.004791405  "
      ]
     },
     "execution_count": 34,
     "metadata": {},
     "output_type": "execute_result"
    }
   ],
   "source": [
    "# The values of nrrs_06 are strings, so we need to convert those into float values.\n",
    "# See that we still need to use the band nrrs_06 which does not have values where is crap data. reflectance does have.\n",
    "for i, value in enumerate(meris['nrrs_06']):\n",
    "    if value == \"\":\n",
    "        meris['reflectance_06'][i] = np.nan        \n",
    "    else:\n",
    "        meris['reflectance_06'][i] = np.float(meris['reflectance_06'][i])\n",
    "\n",
    "for i, value in enumerate(meris['nrrs_08']):\n",
    "    if value == \"\":\n",
    "        meris['reflectance_08'][i] = np.nan        \n",
    "    else:\n",
    "        meris['reflectance_08'][i] = np.float(meris['reflectance_08'][i])\n",
    "\n",
    "       \n",
    "        \n",
    "#meris['rho_w_06'] = map(rho_w,meris['reflectance_06'])\n",
    "# See above to show why rho_w = reflectance_06\n",
    "meris['rho_w_06'] = meris['reflectance_06']\n",
    "meris['rho_w_08'] = meris['reflectance_08']\n",
    "#meris['l2_flags_binary'] = map(flag_as_binary,meris['l2_flags'])\n",
    "# showing the first three rows\n",
    "meris[:10]"
   ]
  },
  {
   "cell_type": "code",
   "execution_count": 20,
   "metadata": {
    "collapsed": false
   },
   "outputs": [],
   "source": [
    "# Saving the meris dataframe for validation\n",
    "#outputfile= \"/home/jobel/Dropbox/ElinasPaper/data_4_elina/pixEx_4_validation/meris_pixel_flags_\"+ windowSize +'x'+windowSize +'_'+processor +'_matchups_radiometry.txt'\n",
    "#meris.to_csv(path_or_buf=outputfile , sep=\"\\t\")"
   ]
  },
  {
   "cell_type": "markdown",
   "metadata": {},
   "source": [
    "# Aggregating the data"
   ]
  },
  {
   "cell_type": "code",
   "execution_count": 37,
   "metadata": {
    "collapsed": false
   },
   "outputs": [
    {
     "data": {
      "text/plain": [
       "[(('20080731', 'CII_8b'),\n",
       "  {'SPM': [1.1373291015625,\n",
       "    1.1053589582443237,\n",
       "    1.0482085943222046,\n",
       "    1.0678354501724243,\n",
       "    1.2449085712432861,\n",
       "    1.3510202169418335,\n",
       "    1.2400702238082886,\n",
       "    1.3124024868011475,\n",
       "    1.319808006286621,\n",
       "    1.1373291015625,\n",
       "    1.1053589582443237,\n",
       "    1.0482085943222046,\n",
       "    1.0678354501724243,\n",
       "    1.2449085712432861,\n",
       "    1.3510202169418335,\n",
       "    1.2400702238082886,\n",
       "    1.3124024868011475,\n",
       "    1.319808006286621],\n",
       "   'rho_w_06': [0.0037110492121428251,\n",
       "    0.0037659825757145882,\n",
       "    0.003857538104057312,\n",
       "    0.0037659825757145882,\n",
       "    0.003857538104057312,\n",
       "    0.0044434936717152596,\n",
       "    0.0041505158878862858,\n",
       "    0.0044068712741136551,\n",
       "    0.0044068712741136551],\n",
       "   'rho_w_08': [0.0021546052303165197,\n",
       "    0.0023377162870019674,\n",
       "    0.0023377162870019674,\n",
       "    0.002502516144886613,\n",
       "    0.0027405605651438236,\n",
       "    0.0030335383489727974,\n",
       "    0.002502516144886613,\n",
       "    0.003051849314942956,\n",
       "    0.002703938400372863]}),\n",
       " (('20080730', 'H2_7a'),\n",
       "  {'SPM': [7.254517078399658,\n",
       "    4.523573398590088,\n",
       "    2.967628002166748,\n",
       "    3.0405032634735107,\n",
       "    3.5099778175354004,\n",
       "    3.103337049484253,\n",
       "    2.7376463413238525,\n",
       "    2.9950807094573975,\n",
       "    2.963902235031128,\n",
       "    7.254517078399658,\n",
       "    4.523573398590088,\n",
       "    2.967628002166748,\n",
       "    3.0405032634735107,\n",
       "    3.5099778175354004,\n",
       "    3.103337049484253,\n",
       "    2.7376463413238525,\n",
       "    2.9950807094573975,\n",
       "    2.963902235031128],\n",
       "   'rho_w_06': [0.01469771284610033,\n",
       "    0.012555313296616077,\n",
       "    0.010266425088047981,\n",
       "    0.0095156701281666756,\n",
       "    0.011767935939133167,\n",
       "    0.010028380900621414,\n",
       "    0.0072267814539372921,\n",
       "    0.0083437589928507805,\n",
       "    0.0087099811062216759],\n",
       "   'rho_w_08': [0.008618425577878952,\n",
       "    0.007501448038965464,\n",
       "    0.007647937163710594,\n",
       "    0.005890070926398039,\n",
       "    0.007538070436567068,\n",
       "    0.006567581556737423,\n",
       "    0.004699849057942629,\n",
       "    0.005578781943768263,\n",
       "    0.005194248631596565]}),\n",
       " (('20100524', 'B1_5a'),\n",
       "  {'SPM': [0.6340894103050232,\n",
       "    0.646453320980072,\n",
       "    0.5576491951942444,\n",
       "    0.6688627004623413,\n",
       "    0.5721870064735413,\n",
       "    0.6378250122070312,\n",
       "    0.5927969813346863,\n",
       "    0.6065642833709717,\n",
       "    0.5834844708442688,\n",
       "    0.6340894103050232,\n",
       "    0.646453320980072,\n",
       "    0.5576491951942444,\n",
       "    0.6688627004623413,\n",
       "    0.5721870064735413,\n",
       "    0.6378250122070312,\n",
       "    0.5927969813346863,\n",
       "    0.6065642833709717,\n",
       "    0.5834844708442688],\n",
       "   'rho_w_06': [0.00076296116458252072,\n",
       "    0.0021729161962866783,\n",
       "    0.00059816119028255343,\n",
       "    0.0014954053331166506,\n",
       "    0.00081789446994662285,\n",
       "    0.00025025015929713845,\n",
       "    0.0010193166090175509,\n",
       "    0.00074465002398937941,\n",
       "    0.0014038498047739267],\n",
       "   'rho_w_08': [0.00030518349376507103,\n",
       "    0.001422161003574729,\n",
       "    0.000451672327471897,\n",
       "    0.00046998343896120787,\n",
       "    0.0005066056619398296,\n",
       "    0.00010376131831435487,\n",
       "    0.000671405578032136,\n",
       "    0.0005066056619398296,\n",
       "    0.000872827775310725]})]"
      ]
     },
     "execution_count": 37,
     "metadata": {},
     "output_type": "execute_result"
    }
   ],
   "source": [
    "# Initializing keys of the data dictionary (dd)\n",
    "meris_dict = dict([((meris['meris_date'][i],meris['ID_CAST'][i]),{'rho_w_06':[],'rho_w_08':[],'SPM':[]}) for i, value in enumerate(meris['meris_date']) if meris['rho_w_06'][i] >0])\n",
    "\n",
    "for i, value in enumerate(meris['meris_date']):    \n",
    "    if meris['rho_w_06'][i] >0:\n",
    "        meris_dict[(meris['meris_date'][i],meris['ID_CAST'][i])]['rho_w_06'].append(meris['rho_w_06'][i])\n",
    "        meris_dict[(meris['meris_date'][i],meris['ID_CAST'][i])]['SPM'].append(float(meris['SPM'][i]))\n",
    "\n",
    "for i, value in enumerate(meris['meris_date']):    \n",
    "    if meris['rho_w_08'][i] >0:\n",
    "        meris_dict[(meris['meris_date'][i],meris['ID_CAST'][i])]['rho_w_08'].append(meris['rho_w_08'][i])\n",
    "        meris_dict[(meris['meris_date'][i],meris['ID_CAST'][i])]['SPM'].append(float(meris['SPM'][i]))\n",
    "\n",
    "    \n",
    "    #dd[].append(value)\n",
    "meris_dict.items()[:3]"
   ]
  },
  {
   "cell_type": "markdown",
   "metadata": {},
   "source": [
    "## Note how we have reflectance values where we have not in nrrs_06 (i.e. rho_w_06). \n",
    "## Therefore, as the rho_w_06 nan values correspond to off data of SPM. We can use the rho_w_06 to derive a model to retrieve Turbidity from MERIS MEGS.\n",
    "\n",
    "### TODO: Check which flags were raised, for those stations, and use the recurrent flag to raise the flag while checking the quality of the pixels."
   ]
  },
  {
   "cell_type": "code",
   "execution_count": 38,
   "metadata": {
    "collapsed": false
   },
   "outputs": [
    {
     "data": {
      "text/plain": [
       "[(('20080731', 'CII_8b'),\n",
       "  {'mean': 1.2029935121536255, 'nobs': 18, 'std': 0.10889842528755359}),\n",
       " (('20080730', 'H2_7a'),\n",
       "  {'mean': 3.6773517661624484, 'nobs': 18, 'std': 1.3595973180901424}),\n",
       " (('20100524', 'B1_5a'),\n",
       "  {'mean': 0.61110137568579781, 'nobs': 18, 'std': 0.035462854405629927})]"
      ]
     },
     "execution_count": 38,
     "metadata": {},
     "output_type": "execute_result"
    }
   ],
   "source": [
    "results = {}\n",
    "results['rho_w_06'] = dict([((key,{\"mean\": np.mean(meris_dict[key]['rho_w_06']), \"nobs\":len(meris_dict[key]['rho_w_06']), \"std\":np.std(meris_dict[key]['rho_w_06'])})) for key in meris_dict.keys()])\n",
    "results['rho_w_08'] = dict([((key,{\"mean\": np.mean(meris_dict[key]['rho_w_08']), \"nobs\":len(meris_dict[key]['rho_w_08']), \"std\":np.std(meris_dict[key]['rho_w_08'])})) for key in meris_dict.keys()])\n",
    "results['SPM'] = dict([((key,{\"mean\": np.mean(meris_dict[key]['SPM']), \"nobs\":len(meris_dict[key]['SPM']), \"std\":np.std(meris_dict[key]['SPM'])})) for key in meris_dict.keys()])\n",
    "results['SPM'].items()[:3]"
   ]
  },
  {
   "cell_type": "markdown",
   "metadata": {},
   "source": [
    "# Calculating tubidity based on Nechad et al 2009."
   ]
  },
  {
   "cell_type": "markdown",
   "metadata": {},
   "source": [
    "#TODO: Add the latex equation for turbidity algorithm"
   ]
  },
  {
   "cell_type": "code",
   "execution_count": 39,
   "metadata": {
    "collapsed": false
   },
   "outputs": [],
   "source": [
    "def turbidity_620(rho_w_06):\n",
    "    # According with Nechad et al 2009.\n",
    "    # Used as well within the coastcolour level 2 products.\n",
    "    return ((174.41 *  rho_w_06) / (1-(rho_w_06 / 0.1533))) + 0.39"
   ]
  },
  {
   "cell_type": "code",
   "execution_count": 40,
   "metadata": {
    "collapsed": true
   },
   "outputs": [],
   "source": [
    "def turbidity_680(rho_w_08):\n",
    "    # According with Nechad et al 2009.\n",
    "    # Be aware that by using this one, it is assumed no chlorophyll flourescence. \n",
    "    # If you suspect flourescence then you should not use this one and better use at 620.\n",
    "    # Note the value 0.1792 comes from C coefficients Table 2\n",
    "    return ((290.81 *  rho_w_08) / (1-(rho_w_08 / 0.1792))) + 0.11"
   ]
  },
  {
   "cell_type": "markdown",
   "metadata": {},
   "source": [
    "# Using Elinas Algorithm to get the SPM from turbidity\n",
    "Use the [IPython's Rich Display System](http://nbviewer.ipython.org/github/ipython/ipython/blob/1.x/examples/notebooks/Part%205%20-%20Rich%20Display%20System.ipynb) to know more about how to add Math, Images, Videos, etc.. to an ipython notebook.\n"
   ]
  },
  {
   "cell_type": "code",
   "execution_count": 41,
   "metadata": {
    "collapsed": false
   },
   "outputs": [
    {
     "data": {
      "text/latex": [
       "$$\\text{SPM} = \\text{turbidity}_{swe} \\times 0.9218 - 0.0422$$"
      ],
      "text/plain": [
       "<IPython.core.display.Math object>"
      ]
     },
     "execution_count": 41,
     "metadata": {},
     "output_type": "execute_result"
    }
   ],
   "source": [
    "Math(r'\\text{SPM} = \\text{turbidity}_{swe} \\times 0.9218 - 0.0422') # Previoulsy was 0.0416"
   ]
  },
  {
   "cell_type": "code",
   "execution_count": 42,
   "metadata": {
    "collapsed": false
   },
   "outputs": [],
   "source": [
    "def calculate_spm_from_turbidity(turbidity):\n",
    "    return 0.9218 * turbidity - 0.0422"
   ]
  },
  {
   "cell_type": "markdown",
   "metadata": {},
   "source": [
    "# Joining with results"
   ]
  },
  {
   "cell_type": "code",
   "execution_count": 47,
   "metadata": {
    "collapsed": false
   },
   "outputs": [
    {
     "data": {
      "text/plain": [
       "{('20080709', 'BIII_1a'): {'SPM_Nechad_Elinas_620': 1.0349855293358519,\n",
       "  'SPM_Nechad_Elinas_680': 1.0278933135089032,\n",
       "  'SPM_insitu': 1.4907272727000001,\n",
       "  'SPM_meris': 1.6828237109714084,\n",
       "  'rho_w_06': 0.0043376960739907287,\n",
       "  'rho_w_08': 0.003542180121358898,\n",
       "  'turbidity_620': 1.1685675085005989,\n",
       "  'turbidity_680': 1.160873631491542},\n",
       " ('20080715', 'B1_2a'): {'SPM_Nechad_Elinas_620': 1.4150850755522952,\n",
       "  'SPM_Nechad_Elinas_680': 1.493756784132326,\n",
       "  'SPM_insitu': 1.5817272727,\n",
       "  'SPM_meris': 2.3139570686552258,\n",
       "  'rho_w_06': 0.0065370632025102777,\n",
       "  'rho_w_08': 0.0051962833903315998,\n",
       "  'turbidity_620': 1.5809124273728523,\n",
       "  'turbidity_680': 1.6662581732830615},\n",
       " ('20080715', 'H3_2b'): {'SPM_Nechad_Elinas_620': 2.4344221340592647,\n",
       "  'SPM_Nechad_Elinas_680': 2.7421523715458087,\n",
       "  'SPM_insitu': 2.9877272726999999,\n",
       "  'SPM_meris': 3.4437166690826415,\n",
       "  'rho_w_06': 0.012126833572983742,\n",
       "  'rho_w_08': 0.0094790475443005569,\n",
       "  'turbidity_620': 2.6867239466904582,\n",
       "  'turbidity_680': 3.020560177420057},\n",
       " ('20080715', 'H4_2c'): {'SPM_Nechad_Elinas_620': 1.6571688976972454,\n",
       "  'SPM_Nechad_Elinas_680': 1.6723182481021011,\n",
       "  'SPM_insitu': 3.0607272726999999,\n",
       "  'SPM_meris': 1.556785992213658,\n",
       "  'rho_w_06': 0.0079042924834149229,\n",
       "  'rho_w_08': 0.0058220581683729377,\n",
       "  'turbidity_620': 1.8435331934229175,\n",
       "  'turbidity_680': 1.859967724128988},\n",
       " ('20080718', 'H2_3d'): {'SPM_Nechad_Elinas_620': 0.62027719954927696,\n",
       "  'SPM_Nechad_Elinas_680': 0.1017767633429114,\n",
       "  'SPM_insitu': 1.5977272727,\n",
       "  'SPM_meris': 0.66465038061141968,\n",
       "  'rho_w_06': 0.001861627446487546,\n",
       "  'rho_w_08': 0.00015869463095441461,\n",
       "  'turbidity_620': 0.7186778038069831,\n",
       "  'turbidity_680': 0.15619089102073272},\n",
       " ('20080718', 'H4_3b'): {'SPM_Nechad_Elinas_620': 1.622307119966935,\n",
       "  'SPM_Nechad_Elinas_680': 1.7233106353945333,\n",
       "  'SPM_insitu': 2.3497272727,\n",
       "  'SPM_meris': 1.5281185182658108,\n",
       "  'rho_w_06': 0.0077089740079827607,\n",
       "  'rho_w_08': 0.0059999373741447927,\n",
       "  'turbidity_620': 1.8057139509296323,\n",
       "  'turbidity_680': 1.9152860006449701},\n",
       " ('20080718', 'H5_3a'): {'SPM_Nechad_Elinas_620': 2.100602806651318,\n",
       "  'SPM_Nechad_Elinas_680': 2.6984121662226719,\n",
       "  'SPM_insitu': 3.2471590908999999,\n",
       "  'SPM_meris': 4.2958198123508033,\n",
       "  'rho_w_06': 0.010343738831579685,\n",
       "  'rho_w_08': 0.0093325587610403691,\n",
       "  'turbidity_620': 2.3245853836529808,\n",
       "  'turbidity_680': 2.9731093146264609},\n",
       " ('20080724', 'BIII_4b'): {'SPM_Nechad_Elinas_620': 1.0811441488249891,\n",
       "  'SPM_Nechad_Elinas_680': 0.83396942897009563,\n",
       "  'SPM_insitu': 1.4697272727000001,\n",
       "  'SPM_meris': 1.3312205606036716,\n",
       "  'rho_w_06': 0.004608293426119619,\n",
       "  'rho_w_08': 0.0028443235334836775,\n",
       "  'turbidity_620': 1.218641949256877,\n",
       "  'turbidity_680': 0.95049840417671483},\n",
       " ('20080724', 'BII_4c'): {'SPM_Nechad_Elinas_620': 0.98864910062450484,\n",
       "  'SPM_Nechad_Elinas_680': 0.6851925633493825,\n",
       "  'SPM_insitu': 1.0137272727,\n",
       "  'SPM_meris': 1.1951832903756037,\n",
       "  'rho_w_06': 0.0040650639372567339,\n",
       "  'rho_w_08': 0.0023051631740397876,\n",
       "  'turbidity_620': 1.1183001742509275,\n",
       "  'turbidity_680': 0.7891001989036478},\n",
       " ('20080724', 'BI_4d'): {'SPM_Nechad_Elinas_620': 1.0557881797149407,\n",
       "  'SPM_Nechad_Elinas_680': 0.79064624709008247,\n",
       "  'SPM_insitu': 0.85672727269999993,\n",
       "  'SPM_meris': 1.4255161152945623,\n",
       "  'rho_w_06': 0.0044597700212357771,\n",
       "  'rho_w_08': 0.0026876618438917729,\n",
       "  'turbidity_620': 1.1911349313462147,\n",
       "  'turbidity_680': 0.90349994260152156},\n",
       " ('20080724', 'BY31_4a'): {'SPM_Nechad_Elinas_620': 1.2301280889275883,\n",
       "  'SPM_Nechad_Elinas_680': 0.95930718498910639,\n",
       "  'SPM_insitu': 0.77572727269999997,\n",
       "  'SPM_meris': 1.3152184089024861,\n",
       "  'rho_w_06': 0.0054750190530386232,\n",
       "  'rho_w_08': 0.0032959974681337676,\n",
       "  'turbidity_620': 1.3802647959726495,\n",
       "  'turbidity_680': 1.0864690659460907},\n",
       " ('20080725', 'CIII_5c'): {'SPM_Nechad_Elinas_620': 1.8491191387187873,\n",
       "  'SPM_Nechad_Elinas_680': 1.5951957264460066,\n",
       "  'SPM_insitu': 2.2887272727000001,\n",
       "  'SPM_meris': 2.6460864808824329,\n",
       "  'rho_w_06': 0.0089704054925176836,\n",
       "  'rho_w_08': 0.0055523326930900412,\n",
       "  'turbidity_620': 2.0517673451060832,\n",
       "  'turbidity_680': 1.7763025888978159},\n",
       " ('20080725', 'CII_5b'): {'SPM_Nechad_Elinas_620': 1.4705218002434761,\n",
       "  'SPM_Nechad_Elinas_680': 1.2016317516811839,\n",
       "  'SPM_insitu': 1.2837272727,\n",
       "  'SPM_meris': 2.1652275721232095,\n",
       "  'rho_w_06': 0.0068524211334685487,\n",
       "  'rho_w_08': 0.0041627231467929147,\n",
       "  'turbidity_620': 1.6410520722971103,\n",
       "  'turbidity_680': 1.3493509998711044},\n",
       " ('20080725', 'CI_5a'): {'SPM_Nechad_Elinas_620': 1.1414370770723463,\n",
       "  'SPM_Nechad_Elinas_680': 0.89881639828492121,\n",
       "  'SPM_insitu': 1.2137272726999999,\n",
       "  'SPM_meris': 1.6548868417739868,\n",
       "  'rho_w_06': 0.0049602735994590651,\n",
       "  'rho_w_08': 0.0030782987984518209,\n",
       "  'turbidity_620': 1.2840497690088375,\n",
       "  'turbidity_680': 1.0208466026089404},\n",
       " ('20080728', 'H2_6c'): {'SPM_Nechad_Elinas_620': 1.3205017158688679,\n",
       "  'SPM_Nechad_Elinas_680': 1.1223000660752831,\n",
       "  'SPM_insitu': 1.3597272727,\n",
       "  'SPM_meris': 1.9104516108830769,\n",
       "  'rho_w_06': 0.0059958683430320686,\n",
       "  'rho_w_08': 0.0038799183029267523,\n",
       "  'turbidity_620': 1.478305181025025,\n",
       "  'turbidity_680': 1.2632892884305524},\n",
       " ('20080728', 'H3_6b'): {'SPM_Nechad_Elinas_620': 2.0237168673466157,\n",
       "  'SPM_Nechad_Elinas_680': 1.7379110693979358,\n",
       "  'SPM_insitu': 2.2787272727000003,\n",
       "  'SPM_meris': 2.6252916653951011,\n",
       "  'rho_w_06': 0.0099266523288355935,\n",
       "  'rho_w_08': 0.0060508015772534739,\n",
       "  'turbidity_620': 2.241176901005224,\n",
       "  'turbidity_680': 1.9311250481643913},\n",
       " ('20080728', 'H4_6a'): {'SPM_Nechad_Elinas_620': 2.0168377884444935,\n",
       "  'SPM_Nechad_Elinas_680': 2.0020458244531363,\n",
       "  'SPM_insitu': 2.6687272727,\n",
       "  'SPM_meris': 3.4132800632052951,\n",
       "  'rho_w_06': 0.0098892164416611202,\n",
       "  'rho_w_08': 0.0069658482680097222,\n",
       "  'turbidity_620': 2.2337142421832215,\n",
       "  'turbidity_680': 2.217667416416941},\n",
       " ('20080730', 'H2_7a'): {'SPM_Nechad_Elinas_620': 2.1009789422105949,\n",
       "  'SPM_Nechad_Elinas_680': 1.8908533841967072,\n",
       "  'SPM_insitu': 1.5787272727000001,\n",
       "  'SPM_meris': 3.6773517661624484,\n",
       "  'rho_w_06': 0.010345773305743933,\n",
       "  'rho_w_08': 0.0065818237037294442,\n",
       "  'turbidity_620': 2.3249934283039648,\n",
       "  'turbidity_680': 2.0970420744160418},\n",
       " ('20080731', 'CIII_8a'): {'SPM_Nechad_Elinas_620': 1.5449300651202715,\n",
       "  'SPM_Nechad_Elinas_680': 1.3323151524654326,\n",
       "  'SPM_insitu': 1.8667272727000002,\n",
       "  'SPM_meris': 2.1362239652209811,\n",
       "  'rho_w_06': 0.0072735765845411355,\n",
       "  'rho_w_08': 0.0046266045731802779,\n",
       "  'turbidity_620': 1.7217726894340113,\n",
       "  'turbidity_680': 1.4911207989427562},\n",
       " ('20080731', 'CII_8b'): {'SPM_Nechad_Elinas_620': 0.98450783930085417,\n",
       "  'SPM_Nechad_Elinas_680': 0.76536308767194139,\n",
       "  'SPM_insitu': 1.3307272726999999,\n",
       "  'SPM_meris': 1.2029935121536255,\n",
       "  'rho_w_06': 0.0040406491866128314,\n",
       "  'rho_w_08': 0.0025961063026140132,\n",
       "  'turbidity_620': 1.1138075930796856,\n",
       "  'turbidity_680': 0.87607191112165483},\n",
       " ('20080731', 'CI_8c'): {'SPM_Nechad_Elinas_620': 1.336453797867388,\n",
       "  'SPM_Nechad_Elinas_680': 1.0938260482913864,\n",
       "  'SPM_insitu': 1.5207272727000001,\n",
       "  'SPM_meris': 1.9712314738167658,\n",
       "  'rho_w_06': 0.0060874239231149358,\n",
       "  'rho_w_08': 0.0037781899639715752,\n",
       "  'turbidity_620': 1.4956105422731483,\n",
       "  'turbidity_680': 1.2323997052412523},\n",
       " ('20100505', 'H2_1b'): {'SPM_Nechad_Elinas_620': 1.7810274405063542,\n",
       "  'SPM_Nechad_Elinas_680': 1.1126152067247186,\n",
       "  'SPM_insitu': 1.2212000000000001,\n",
       "  'SPM_meris': 0.21209633350372314,\n",
       "  'rho_w_06': 0.0085940106461445485,\n",
       "  'rho_w_08': 0.0038453307158003249,\n",
       "  'turbidity_620': 1.9778991543787745,\n",
       "  'turbidity_680': 1.2527828235243206},\n",
       " ('20100511', 'BIII_2c'): {'SPM_Nechad_Elinas_620': 0.73375040366944333,\n",
       "  'SPM_Nechad_Elinas_680': 0.52786435358924189,\n",
       "  'SPM_insitu': 0.43780000000000002,\n",
       "  'SPM_meris': 0.4532545308272044,\n",
       "  'rho_w_06': 0.002547276723715994,\n",
       "  'rho_w_08': 0.001731415162794292,\n",
       "  'turbidity_620': 0.84177739603975199,\n",
       "  'turbidity_680': 0.61842520458802552},\n",
       " ('20100511', 'BII_2b'): {'SPM_Nechad_Elinas_620': 0.58212384563230191,\n",
       "  'SPM_Nechad_Elinas_680': 0.39697940854612618,\n",
       "  'SPM_insitu': 0.99780000000000002,\n",
       "  'SPM_meris': 0.49278341399298775,\n",
       "  'rho_w_06': 0.0016296868109040791,\n",
       "  'rho_w_08': 0.0012512572898736431,\n",
       "  'turbidity_620': 0.67728774748568232,\n",
       "  'turbidity_680': 0.47643676344773944},\n",
       " ('20100511', 'BI_2a'): {'SPM_Nechad_Elinas_620': 0.66056510207790531,\n",
       "  'SPM_Nechad_Elinas_680': 0.50840874073636411,\n",
       "  'SPM_insitu': 0.30080000000000001,\n",
       "  'SPM_meris': 0.54567495319578385,\n",
       "  'rho_w_06': 0.0021057755738082859,\n",
       "  'rho_w_08': 0.0016602053138841358,\n",
       "  'turbidity_620': 0.76238349108039205,\n",
       "  'turbidity_680': 0.59731909387759186},\n",
       " ('20100518', 'BII_3c'): {'SPM_Nechad_Elinas_620': 0.67032087059504175,\n",
       "  'SPM_Nechad_Elinas_680': 0.37983936397894297,\n",
       "  'SPM_insitu': 1.4245333333000001,\n",
       "  'SPM_meris': 0.66105596886740792,\n",
       "  'rho_w_06': 0.0021647780150589016,\n",
       "  'rho_w_08': 0.0011881857192040319,\n",
       "  'turbidity_620': 0.77296688066287889,\n",
       "  'turbidity_680': 0.45784265999017465},\n",
       " ('20100518', 'BI_3b'): {'SPM_Nechad_Elinas_620': 0.70098332735987567,\n",
       "  'SPM_Nechad_Elinas_680': 0.37541809827428724,\n",
       "  'SPM_insitu': 0.7258666667,\n",
       "  'SPM_meris': 0.86244760619269478,\n",
       "  'rho_w_06': 0.0023499236930446285,\n",
       "  'rho_w_08': 0.0011719091853592545,\n",
       "  'turbidity_620': 0.80623055691025791,\n",
       "  'turbidity_680': 0.45304632054055899},\n",
       " ('20100520', 'BI_4a'): {'SPM_Nechad_Elinas_620': 0.52411422637942606,\n",
       "  'SPM_Nechad_Elinas_680': 0.10669460685840033,\n",
       "  'SPM_insitu': 1.0511999999999999,\n",
       "  'SPM_meris': 1.6069678068161011,\n",
       "  'rho_w_06': 0.0012756721116602421,\n",
       "  'rho_w_08': 0.00017700574244372547,\n",
       "  'turbidity_620': 0.61435693901000876,\n",
       "  'turbidity_680': 0.16152593497331347},\n",
       " ('20100520', 'BY31_4d'): {'SPM_Nechad_Elinas_620': 0.49944228235592047,\n",
       "  'SPM_Nechad_Elinas_680': 0.42283092314057691,\n",
       "  'SPM_insitu': 0.77586666670000004,\n",
       "  'SPM_meris': 0.73306281963984177,\n",
       "  'rho_w_06': 0.0011246054946241202,\n",
       "  'rho_w_08': 0.0013463006471283734,\n",
       "  'turbidity_620': 0.5875919747840318,\n",
       "  'turbidity_680': 0.50448136595853432},\n",
       " ('20100524', 'B1_5a'): {'SPM_Nechad_Elinas_620': 0.48393320409842078,\n",
       "  'SPM_Nechad_Elinas_680': 0.21788714186287367,\n",
       "  'SPM_insitu': 0.81320000000000003,\n",
       "  'SPM_meris': 0.61110137568579781,\n",
       "  'rho_w_06': 0.0010294894390325579,\n",
       "  'rho_w_08': 0.00059002291770108661,\n",
       "  'turbidity_620': 0.57076719906532958,\n",
       "  'turbidity_680': 0.28215137976011467},\n",
       " ('20100524', 'H2_5b'): {'SPM_Nechad_Elinas_620': 0.65888384652373622,\n",
       "  'SPM_Nechad_Elinas_680': 0.39863876829810002,\n",
       "  'SPM_insitu': 0.73497777780000006,\n",
       "  'SPM_meris': 0.64795195394092131,\n",
       "  'rho_w_06': 0.0020956027631958327,\n",
       "  'rho_w_08': 0.0012573609937034133,\n",
       "  'turbidity_620': 0.7605596078582515,\n",
       "  'turbidity_680': 0.47823689335875469},\n",
       " ('20100524', 'H3_5c'): {'SPM_Nechad_Elinas_620': 1.0228663612635229,\n",
       "  'SPM_Nechad_Elinas_680': 0.80779753144274591,\n",
       "  'SPM_insitu': 1.0691999999999999,\n",
       "  'SPM_meris': 0.69828215738137567,\n",
       "  'rho_w_06': 0.0042664861151327687,\n",
       "  'rho_w_08': 0.0027497161645442247,\n",
       "  'turbidity_620': 1.1554202226768528,\n",
       "  'turbidity_680': 0.9221062393607572}}"
      ]
     },
     "execution_count": 47,
     "metadata": {},
     "output_type": "execute_result"
    }
   ],
   "source": [
    "# joining the dictionaries, meris_aggregate will have the key of 'TURBIDITY_AVG_INSITU' with is value\n",
    "results[\"joined_data\"] = {}\n",
    "for k in sorted(results['rho_w_06'].keys()):\n",
    "    if k in insitu_dict.keys():\n",
    "        # print (k, insitu_dict[k][\"SPM\"],results['rho_w_06'][k][\"mean\"], turbidity_620(results['rho_w_06'][k][\"mean\"]))\n",
    "        results[\"joined_data\"][k] = {\"SPM_insitu\":insitu_dict[k][\"SPM\"][0],\n",
    "                                     \"SPM_meris\":results['SPM'][k][\"mean\"],\n",
    "                                     'rho_w_06':results['rho_w_06'][k][\"mean\"],\n",
    "                                     'rho_w_08':results['rho_w_08'][k][\"mean\"],\n",
    "                                     'turbidity_620':turbidity_620(results['rho_w_06'][k][\"mean\"]),\n",
    "                                     'turbidity_680':turbidity_680(results['rho_w_08'][k][\"mean\"]),\n",
    "                                     'SPM_Nechad_Elinas_620':calculate_spm_from_turbidity(turbidity_620(results['rho_w_06'][k][\"mean\"])),\n",
    "                                     'SPM_Nechad_Elinas_680':calculate_spm_from_turbidity(turbidity_680(results['rho_w_08'][k][\"mean\"]))\n",
    "                                       }\n",
    "results[\"joined_data\"]\n",
    "\n",
    "#\"SPM_Elinas\":calculate_spm_from_turbidity(insitu_dict[k][\"SPM\"]),\n",
    "#\"SPM_Nechad_Elinas\":calculate_spm_from_turbidity(turbidity_620(results['rho_w_06'][k][\"mean\"]))"
   ]
  },
  {
   "cell_type": "markdown",
   "metadata": {},
   "source": [
    "## Sanity check"
   ]
  },
  {
   "cell_type": "code",
   "execution_count": 48,
   "metadata": {
    "collapsed": false
   },
   "outputs": [],
   "source": [
    "%matplotlib inline\n",
    "from IPython.core.pylabtools import figsize\n",
    "import matplotlib.pyplot as plt\n",
    "from matplotlib import colors\n",
    "from matplotlib.lines import Line2D   "
   ]
  },
  {
   "cell_type": "code",
   "execution_count": 49,
   "metadata": {
    "collapsed": false
   },
   "outputs": [
    {
     "data": {
      "text/plain": [
       "<matplotlib.lines.Line2D at 0x7f479e45e850>"
      ]
     },
     "execution_count": 49,
     "metadata": {},
     "output_type": "execute_result"
    },
    {
     "data": {
      "image/png": "[encoded data removed]",
      "text/plain": [
       "<matplotlib.figure.Figure at 0x7f479e3fb190>"
      ]
     },
     "metadata": {},
     "output_type": "display_data"
    }
   ],
   "source": [
    "fig, ax = plt.subplots()\n",
    "\n",
    "x, y = [],[]\n",
    "for k in results[\"joined_data\"]:\n",
    "    x.append(results[\"joined_data\"][k]['SPM_insitu'])\n",
    "    y.append(results[\"joined_data\"][k]['SPM_meris'])\n",
    "ax.set_xlabel(r\"[SPM]$_{insitu}$\")   \n",
    "ax.set_ylabel(r\"[SPM]$_{MERIS}$\")\n",
    "ax.set_xlim(0,5)\n",
    "ax.set_ylim(0,5)  \n",
    "\n",
    "plt.scatter(x= x, y=y)\n",
    "\n",
    "l = Line2D([0,5],[0,5],  linestyle=\"-\", color=\"black\")                                    \n",
    "ax.add_line(l)   "
   ]
  },
  {
   "cell_type": "code",
   "execution_count": 50,
   "metadata": {
    "collapsed": false
   },
   "outputs": [
    {
     "data": {
      "text/plain": [
       "<matplotlib.lines.Line2D at 0x7f479e46de10>"
      ]
     },
     "execution_count": 50,
     "metadata": {},
     "output_type": "execute_result"
    },
    {
     "data": {
      "image/png": "[encoded data removed]",
      "text/plain": [
       "<matplotlib.figure.Figure at 0x7f479e462f90>"
      ]
     },
     "metadata": {},
     "output_type": "display_data"
    }
   ],
   "source": [
    "fig, ax = plt.subplots()\n",
    "\n",
    "x, y = [],[]\n",
    "for k in results[\"joined_data\"]:\n",
    "    x.append(results[\"joined_data\"][k]['SPM_insitu'])\n",
    "    y.append(results[\"joined_data\"][k]['SPM_Nechad_Elinas_620'])\n",
    "ax.set_xlabel(r\"[SPM]$_{insitu}$\")   \n",
    "ax.set_ylabel(r\"[SPM]$_{620}$\")\n",
    "ax.set_xlim(0,5)\n",
    "ax.set_ylim(0,5) \n",
    "plt.scatter(x= x, y=y)\n",
    "\n",
    "l = Line2D([0,5],[0,5],  linestyle=\"-\", color=\"black\")                                    \n",
    "ax.add_line(l)   \n"
   ]
  },
  {
   "cell_type": "code",
   "execution_count": 51,
   "metadata": {
    "collapsed": false
   },
   "outputs": [
    {
     "data": {
      "text/plain": [
       "<matplotlib.lines.Line2D at 0x7f479e543ed0>"
      ]
     },
     "execution_count": 51,
     "metadata": {},
     "output_type": "execute_result"
    },
    {
     "data": {
      "image/png": "[encoded data removed]",
      "text/plain": [
       "<matplotlib.figure.Figure at 0x7f479e543cd0>"
      ]
     },
     "metadata": {},
     "output_type": "display_data"
    }
   ],
   "source": [
    "fig, ax = plt.subplots()\n",
    "\n",
    "x, y = [],[]\n",
    "for k in results[\"joined_data\"]:\n",
    "    x.append(results[\"joined_data\"][k]['SPM_insitu'])\n",
    "    y.append(results[\"joined_data\"][k]['SPM_Nechad_Elinas_680'])\n",
    "ax.set_xlabel(r\"[SPM]$_{insitu}$\")   \n",
    "ax.set_ylabel(r\"[SPM]$_{680}$\")\n",
    "ax.set_xlim(0,5)\n",
    "ax.set_ylim(0,5) \n",
    "plt.scatter(x= x, y=y)\n",
    "\n",
    "l = Line2D([0,5],[0,5],  linestyle=\"-\", color=\"black\")                                    \n",
    "ax.add_line(l)   \n"
   ]
  },
  {
   "cell_type": "code",
   "execution_count": 52,
   "metadata": {
    "collapsed": false
   },
   "outputs": [
    {
     "data": {
      "text/html": [
       "<div>\n",
       "<table border=\"1\" class=\"dataframe\">\n",
       "  <thead>\n",
       "    <tr>\n",
       "      <th></th>\n",
       "      <th>20080709</th>\n",
       "      <th colspan=\"3\" halign=\"left\">20080715</th>\n",
       "      <th colspan=\"3\" halign=\"left\">20080718</th>\n",
       "      <th colspan=\"3\" halign=\"left\">20080724</th>\n",
       "      <th>...</th>\n",
       "      <th colspan=\"3\" halign=\"left\">20100511</th>\n",
       "      <th colspan=\"2\" halign=\"left\">20100518</th>\n",
       "      <th colspan=\"2\" halign=\"left\">20100520</th>\n",
       "      <th colspan=\"3\" halign=\"left\">20100524</th>\n",
       "    </tr>\n",
       "    <tr>\n",
       "      <th></th>\n",
       "      <th>BIII_1a</th>\n",
       "      <th>B1_2a</th>\n",
       "      <th>H3_2b</th>\n",
       "      <th>H4_2c</th>\n",
       "      <th>H2_3d</th>\n",
       "      <th>H4_3b</th>\n",
       "      <th>H5_3a</th>\n",
       "      <th>BIII_4b</th>\n",
       "      <th>BII_4c</th>\n",
       "      <th>BI_4d</th>\n",
       "      <th>...</th>\n",
       "      <th>BIII_2c</th>\n",
       "      <th>BII_2b</th>\n",
       "      <th>BI_2a</th>\n",
       "      <th>BII_3c</th>\n",
       "      <th>BI_3b</th>\n",
       "      <th>BI_4a</th>\n",
       "      <th>BY31_4d</th>\n",
       "      <th>B1_5a</th>\n",
       "      <th>H2_5b</th>\n",
       "      <th>H3_5c</th>\n",
       "    </tr>\n",
       "  </thead>\n",
       "  <tbody>\n",
       "    <tr>\n",
       "      <th>SPM_Nechad_Elinas_620</th>\n",
       "      <td>1.034986</td>\n",
       "      <td>1.415085</td>\n",
       "      <td>2.434422</td>\n",
       "      <td>1.657169</td>\n",
       "      <td>0.620277</td>\n",
       "      <td>1.622307</td>\n",
       "      <td>2.100603</td>\n",
       "      <td>1.081144</td>\n",
       "      <td>0.988649</td>\n",
       "      <td>1.055788</td>\n",
       "      <td>...</td>\n",
       "      <td>0.733750</td>\n",
       "      <td>0.582124</td>\n",
       "      <td>0.660565</td>\n",
       "      <td>0.670321</td>\n",
       "      <td>0.700983</td>\n",
       "      <td>0.524114</td>\n",
       "      <td>0.499442</td>\n",
       "      <td>0.483933</td>\n",
       "      <td>0.658884</td>\n",
       "      <td>1.022866</td>\n",
       "    </tr>\n",
       "    <tr>\n",
       "      <th>SPM_Nechad_Elinas_680</th>\n",
       "      <td>1.027893</td>\n",
       "      <td>1.493757</td>\n",
       "      <td>2.742152</td>\n",
       "      <td>1.672318</td>\n",
       "      <td>0.101777</td>\n",
       "      <td>1.723311</td>\n",
       "      <td>2.698412</td>\n",
       "      <td>0.833969</td>\n",
       "      <td>0.685193</td>\n",
       "      <td>0.790646</td>\n",
       "      <td>...</td>\n",
       "      <td>0.527864</td>\n",
       "      <td>0.396979</td>\n",
       "      <td>0.508409</td>\n",
       "      <td>0.379839</td>\n",
       "      <td>0.375418</td>\n",
       "      <td>0.106695</td>\n",
       "      <td>0.422831</td>\n",
       "      <td>0.217887</td>\n",
       "      <td>0.398639</td>\n",
       "      <td>0.807798</td>\n",
       "    </tr>\n",
       "    <tr>\n",
       "      <th>SPM_insitu</th>\n",
       "      <td>1.490727</td>\n",
       "      <td>1.581727</td>\n",
       "      <td>2.987727</td>\n",
       "      <td>3.060727</td>\n",
       "      <td>1.597727</td>\n",
       "      <td>2.349727</td>\n",
       "      <td>3.247159</td>\n",
       "      <td>1.469727</td>\n",
       "      <td>1.013727</td>\n",
       "      <td>0.856727</td>\n",
       "      <td>...</td>\n",
       "      <td>0.437800</td>\n",
       "      <td>0.997800</td>\n",
       "      <td>0.300800</td>\n",
       "      <td>1.424533</td>\n",
       "      <td>0.725867</td>\n",
       "      <td>1.051200</td>\n",
       "      <td>0.775867</td>\n",
       "      <td>0.813200</td>\n",
       "      <td>0.734978</td>\n",
       "      <td>1.069200</td>\n",
       "    </tr>\n",
       "    <tr>\n",
       "      <th>SPM_meris</th>\n",
       "      <td>1.682824</td>\n",
       "      <td>2.313957</td>\n",
       "      <td>3.443717</td>\n",
       "      <td>1.556786</td>\n",
       "      <td>0.664650</td>\n",
       "      <td>1.528119</td>\n",
       "      <td>4.295820</td>\n",
       "      <td>1.331221</td>\n",
       "      <td>1.195183</td>\n",
       "      <td>1.425516</td>\n",
       "      <td>...</td>\n",
       "      <td>0.453255</td>\n",
       "      <td>0.492783</td>\n",
       "      <td>0.545675</td>\n",
       "      <td>0.661056</td>\n",
       "      <td>0.862448</td>\n",
       "      <td>1.606968</td>\n",
       "      <td>0.733063</td>\n",
       "      <td>0.611101</td>\n",
       "      <td>0.647952</td>\n",
       "      <td>0.698282</td>\n",
       "    </tr>\n",
       "    <tr>\n",
       "      <th>rho_w_06</th>\n",
       "      <td>0.004338</td>\n",
       "      <td>0.006537</td>\n",
       "      <td>0.012127</td>\n",
       "      <td>0.007904</td>\n",
       "      <td>0.001862</td>\n",
       "      <td>0.007709</td>\n",
       "      <td>0.010344</td>\n",
       "      <td>0.004608</td>\n",
       "      <td>0.004065</td>\n",
       "      <td>0.004460</td>\n",
       "      <td>...</td>\n",
       "      <td>0.002547</td>\n",
       "      <td>0.001630</td>\n",
       "      <td>0.002106</td>\n",
       "      <td>0.002165</td>\n",
       "      <td>0.002350</td>\n",
       "      <td>0.001276</td>\n",
       "      <td>0.001125</td>\n",
       "      <td>0.001029</td>\n",
       "      <td>0.002096</td>\n",
       "      <td>0.004266</td>\n",
       "    </tr>\n",
       "    <tr>\n",
       "      <th>rho_w_08</th>\n",
       "      <td>0.003542</td>\n",
       "      <td>0.005196</td>\n",
       "      <td>0.009479</td>\n",
       "      <td>0.005822</td>\n",
       "      <td>0.000159</td>\n",
       "      <td>0.006000</td>\n",
       "      <td>0.009333</td>\n",
       "      <td>0.002844</td>\n",
       "      <td>0.002305</td>\n",
       "      <td>0.002688</td>\n",
       "      <td>...</td>\n",
       "      <td>0.001731</td>\n",
       "      <td>0.001251</td>\n",
       "      <td>0.001660</td>\n",
       "      <td>0.001188</td>\n",
       "      <td>0.001172</td>\n",
       "      <td>0.000177</td>\n",
       "      <td>0.001346</td>\n",
       "      <td>0.000590</td>\n",
       "      <td>0.001257</td>\n",
       "      <td>0.002750</td>\n",
       "    </tr>\n",
       "    <tr>\n",
       "      <th>turbidity_620</th>\n",
       "      <td>1.168568</td>\n",
       "      <td>1.580912</td>\n",
       "      <td>2.686724</td>\n",
       "      <td>1.843533</td>\n",
       "      <td>0.718678</td>\n",
       "      <td>1.805714</td>\n",
       "      <td>2.324585</td>\n",
       "      <td>1.218642</td>\n",
       "      <td>1.118300</td>\n",
       "      <td>1.191135</td>\n",
       "      <td>...</td>\n",
       "      <td>0.841777</td>\n",
       "      <td>0.677288</td>\n",
       "      <td>0.762383</td>\n",
       "      <td>0.772967</td>\n",
       "      <td>0.806231</td>\n",
       "      <td>0.614357</td>\n",
       "      <td>0.587592</td>\n",
       "      <td>0.570767</td>\n",
       "      <td>0.760560</td>\n",
       "      <td>1.155420</td>\n",
       "    </tr>\n",
       "    <tr>\n",
       "      <th>turbidity_680</th>\n",
       "      <td>1.160874</td>\n",
       "      <td>1.666258</td>\n",
       "      <td>3.020560</td>\n",
       "      <td>1.859968</td>\n",
       "      <td>0.156191</td>\n",
       "      <td>1.915286</td>\n",
       "      <td>2.973109</td>\n",
       "      <td>0.950498</td>\n",
       "      <td>0.789100</td>\n",
       "      <td>0.903500</td>\n",
       "      <td>...</td>\n",
       "      <td>0.618425</td>\n",
       "      <td>0.476437</td>\n",
       "      <td>0.597319</td>\n",
       "      <td>0.457843</td>\n",
       "      <td>0.453046</td>\n",
       "      <td>0.161526</td>\n",
       "      <td>0.504481</td>\n",
       "      <td>0.282151</td>\n",
       "      <td>0.478237</td>\n",
       "      <td>0.922106</td>\n",
       "    </tr>\n",
       "  </tbody>\n",
       "</table>\n",
       "<p>8 rows × 32 columns</p>\n",
       "</div>"
      ],
      "text/plain": [
       "                       20080709  20080715                      20080718  \\\n",
       "                        BIII_1a     B1_2a     H3_2b     H4_2c     H2_3d   \n",
       "SPM_Nechad_Elinas_620  1.034986  1.415085  2.434422  1.657169  0.620277   \n",
       "SPM_Nechad_Elinas_680  1.027893  1.493757  2.742152  1.672318  0.101777   \n",
       "SPM_insitu             1.490727  1.581727  2.987727  3.060727  1.597727   \n",
       "SPM_meris              1.682824  2.313957  3.443717  1.556786  0.664650   \n",
       "rho_w_06               0.004338  0.006537  0.012127  0.007904  0.001862   \n",
       "rho_w_08               0.003542  0.005196  0.009479  0.005822  0.000159   \n",
       "turbidity_620          1.168568  1.580912  2.686724  1.843533  0.718678   \n",
       "turbidity_680          1.160874  1.666258  3.020560  1.859968  0.156191   \n",
       "\n",
       "                                           20080724                      \\\n",
       "                          H4_3b     H5_3a   BIII_4b    BII_4c     BI_4d   \n",
       "SPM_Nechad_Elinas_620  1.622307  2.100603  1.081144  0.988649  1.055788   \n",
       "SPM_Nechad_Elinas_680  1.723311  2.698412  0.833969  0.685193  0.790646   \n",
       "SPM_insitu             2.349727  3.247159  1.469727  1.013727  0.856727   \n",
       "SPM_meris              1.528119  4.295820  1.331221  1.195183  1.425516   \n",
       "rho_w_06               0.007709  0.010344  0.004608  0.004065  0.004460   \n",
       "rho_w_08               0.006000  0.009333  0.002844  0.002305  0.002688   \n",
       "turbidity_620          1.805714  2.324585  1.218642  1.118300  1.191135   \n",
       "turbidity_680          1.915286  2.973109  0.950498  0.789100  0.903500   \n",
       "\n",
       "                         ...     20100511                      20100518  \\\n",
       "                         ...      BIII_2c    BII_2b     BI_2a    BII_3c   \n",
       "SPM_Nechad_Elinas_620    ...     0.733750  0.582124  0.660565  0.670321   \n",
       "SPM_Nechad_Elinas_680    ...     0.527864  0.396979  0.508409  0.379839   \n",
       "SPM_insitu               ...     0.437800  0.997800  0.300800  1.424533   \n",
       "SPM_meris                ...     0.453255  0.492783  0.545675  0.661056   \n",
       "rho_w_06                 ...     0.002547  0.001630  0.002106  0.002165   \n",
       "rho_w_08                 ...     0.001731  0.001251  0.001660  0.001188   \n",
       "turbidity_620            ...     0.841777  0.677288  0.762383  0.772967   \n",
       "turbidity_680            ...     0.618425  0.476437  0.597319  0.457843   \n",
       "\n",
       "                                 20100520            20100524            \\\n",
       "                          BI_3b     BI_4a   BY31_4d     B1_5a     H2_5b   \n",
       "SPM_Nechad_Elinas_620  0.700983  0.524114  0.499442  0.483933  0.658884   \n",
       "SPM_Nechad_Elinas_680  0.375418  0.106695  0.422831  0.217887  0.398639   \n",
       "SPM_insitu             0.725867  1.051200  0.775867  0.813200  0.734978   \n",
       "SPM_meris              0.862448  1.606968  0.733063  0.611101  0.647952   \n",
       "rho_w_06               0.002350  0.001276  0.001125  0.001029  0.002096   \n",
       "rho_w_08               0.001172  0.000177  0.001346  0.000590  0.001257   \n",
       "turbidity_620          0.806231  0.614357  0.587592  0.570767  0.760560   \n",
       "turbidity_680          0.453046  0.161526  0.504481  0.282151  0.478237   \n",
       "\n",
       "                                 \n",
       "                          H3_5c  \n",
       "SPM_Nechad_Elinas_620  1.022866  \n",
       "SPM_Nechad_Elinas_680  0.807798  \n",
       "SPM_insitu             1.069200  \n",
       "SPM_meris              0.698282  \n",
       "rho_w_06               0.004266  \n",
       "rho_w_08               0.002750  \n",
       "turbidity_620          1.155420  \n",
       "turbidity_680          0.922106  \n",
       "\n",
       "[8 rows x 32 columns]"
      ]
     },
     "execution_count": 52,
     "metadata": {},
     "output_type": "execute_result"
    }
   ],
   "source": [
    "# converting to Pandas Dataframe for easy visualization and easy export of the table\n",
    "results_df = pd.DataFrame(results[\"joined_data\"])\n",
    "results_df "
   ]
  },
  {
   "cell_type": "code",
   "execution_count": 58,
   "metadata": {
    "collapsed": false
   },
   "outputs": [],
   "source": [
    "filename = \"/home/jobel/Dropbox/ElinasPaper/data_4_elina/Results/MERIS_SPM_vs_Insitu_matchups_\"+ windowSize +'x'+windowSize +'_'+processor +'_update_2016.txt'\n",
    "results_df.to_csv(filename, sep=\"\\t\")"
   ]
  },
  {
   "cell_type": "markdown",
   "metadata": {},
   "source": [
    "# Calculating the Mean Normalized Bias and The RMS of the Relative Differences"
   ]
  },
  {
   "cell_type": "code",
   "execution_count": 28,
   "metadata": {
    "collapsed": false
   },
   "outputs": [
    {
     "data": {
      "text/latex": [
       "$$\\textbf{MNB}= \\textbf{mean} \\left[\\frac{y_{i}^{MERIS}- x_{i}^{insitu}}{x_{i}^{insitu}} \\right] \\times 100$$"
      ],
      "text/plain": [
       "<IPython.core.display.Math at 0x7f6d49127190>"
      ]
     },
     "execution_count": 28,
     "metadata": {},
     "output_type": "execute_result"
    }
   ],
   "source": [
    "Math(r'\\textbf{MNB}= \\textbf{mean} \\left[\\frac{y_{i}^{MERIS}- x_{i}^{insitu}}{x_{i}^{insitu}} \\right] \\times 100')"
   ]
  },
  {
   "cell_type": "code",
   "execution_count": 29,
   "metadata": {
    "collapsed": false
   },
   "outputs": [
    {
     "data": {
      "text/latex": [
       "$$\\textbf{RMS}_{RD}= \\textbf{stdev} \\left[\\frac{y_{i}^{MERIS}- x_{i}^{insitu}}{x_{i}^{insitu}} \\right] \\times 100$$"
      ],
      "text/plain": [
       "<IPython.core.display.Math at 0x7f6d49127e90>"
      ]
     },
     "execution_count": 29,
     "metadata": {},
     "output_type": "execute_result"
    }
   ],
   "source": [
    "Math(r'\\textbf{RMS}_{RD}= \\textbf{stdev} \\left[\\frac{y_{i}^{MERIS}- x_{i}^{insitu}}{x_{i}^{insitu}} \\right] \\times 100')"
   ]
  },
  {
   "cell_type": "markdown",
   "metadata": {},
   "source": [
    "## SPM insitu vs SPM calculated via Nechad-Elina"
   ]
  },
  {
   "cell_type": "code",
   "execution_count": 55,
   "metadata": {
    "collapsed": false
   },
   "outputs": [
    {
     "name": "stdout",
     "output_type": "stream",
     "text": [
      "SPM modelled: 3x3, Processor: MEGS, MNB: -8.04282185732, RMS: 38.19462919, NOBS: 32\n"
     ]
    }
   ],
   "source": [
    "RD = []\n",
    "for key in results[\"joined_data\"].keys():\n",
    "    insitu = results[\"joined_data\"][key]['SPM_insitu']\n",
    "    Meris = results[\"joined_data\"][key][\"SPM_Nechad_Elinas_620\"]\n",
    "    RD.append( (Meris - insitu) / insitu)\n",
    "MNB = np.array(RD).mean() * 100\n",
    "RMS = np.array(RD).std() * 100\n",
    "NOBS = len(RD)\n",
    "print (\"SPM modelled: \"+ windowSize +'x'+windowSize +', Processor: '+ processor+ \", MNB: \"+ str(MNB)+ \", RMS: \"+ str(RMS)+ \", NOBS: \"+ str(NOBS))"
   ]
  },
  {
   "cell_type": "code",
   "execution_count": 56,
   "metadata": {
    "collapsed": false
   },
   "outputs": [
    {
     "name": "stdout",
     "output_type": "stream",
     "text": [
      "SPM_MERIS: 3x3, Processor: MEGS, MNB: 11.6613109158, RMS: 46.0152141041, NOBS: 32\n"
     ]
    }
   ],
   "source": [
    "RD = []\n",
    "for key in results[\"joined_data\"].keys():\n",
    "    insitu = results[\"joined_data\"][key]['SPM_insitu']\n",
    "    Meris = results[\"joined_data\"][key][\"SPM_meris\"]\n",
    "    RD.append( (Meris - insitu) / insitu)\n",
    "MNB = np.array(RD).mean() * 100\n",
    "RMS = np.array(RD).std() * 100\n",
    "NOBS = len(RD)\n",
    "print (\"SPM_MERIS: \"+ windowSize +'x'+windowSize +', Processor: '+ processor+ \", MNB: \"+ str(MNB)+ \", RMS: \"+ str(RMS)+ \", NOBS: \"+ str(NOBS))"
   ]
  },
  {
   "cell_type": "code",
   "execution_count": null,
   "metadata": {
    "collapsed": false
   },
   "outputs": [],
   "source": []
  },
  {
   "cell_type": "code",
   "execution_count": 57,
   "metadata": {
    "collapsed": false
   },
   "outputs": [
    {
     "name": "stdout",
     "output_type": "stream",
     "text": [
      "SPM modelled: 3x3, Processor: MEGS, MNB: -27.3508111978, RMS: 32.6961505414, NOBS: 32\n"
     ]
    }
   ],
   "source": [
    "RD = []\n",
    "for key in results[\"joined_data\"].keys():\n",
    "    insitu = results[\"joined_data\"][key]['SPM_insitu']\n",
    "    Meris = results[\"joined_data\"][key][\"SPM_Nechad_Elinas_680\"]\n",
    "    RD.append( (Meris - insitu) / insitu)\n",
    "MNB = np.array(RD).mean() * 100\n",
    "RMS = np.array(RD).std() * 100\n",
    "NOBS = len(RD)\n",
    "print (\"SPM modelled: \"+ windowSize +'x'+windowSize +', Processor: '+ processor+ \", MNB: \"+ str(MNB)+ \", RMS: \"+ str(RMS)+ \", NOBS: \"+ str(NOBS))"
   ]
  },
  {
   "cell_type": "code",
   "execution_count": null,
   "metadata": {
    "collapsed": true
   },
   "outputs": [],
   "source": []
  }
 ],
 "metadata": {
  "kernelspec": {
   "display_name": "Python 2",
   "language": "python",
   "name": "python2"
  },
  "language_info": {
   "codemirror_mode": {
    "name": "ipython",
    "version": 2
   },
   "file_extension": ".py",
   "mimetype": "text/x-python",
   "name": "python",
   "nbconvert_exporter": "python",
   "pygments_lexer": "ipython2",
   "version": "2.7.11"
  }
 },
 "nbformat": 4,
 "nbformat_minor": 0
}
